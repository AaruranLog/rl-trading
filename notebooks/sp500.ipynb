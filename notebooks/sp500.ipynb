{
 "cells": [
  {
   "cell_type": "code",
   "execution_count": 1,
   "metadata": {},
   "outputs": [
    {
     "name": "stderr",
     "output_type": "stream",
     "text": [
      "/home/aaruran/miniconda3/lib/python3.7/site-packages/pandas_datareader/compat/__init__.py:7: FutureWarning: pandas.util.testing is deprecated. Use the functions in the public API at pandas.testing instead.\n",
      "  from pandas.util.testing import assert_frame_equal\n"
     ]
    }
   ],
   "source": [
    "import sys\n",
    "\n",
    "sys.path.append(\"..\")\n",
    "from trading.system import TradingEnv"
   ]
  },
  {
   "cell_type": "code",
   "execution_count": 1,
   "metadata": {},
   "outputs": [
    {
     "name": "stderr",
     "output_type": "stream",
     "text": [
      "/home/aaruran/miniconda3/lib/python3.7/site-packages/pandas_datareader/compat/__init__.py:7: FutureWarning: pandas.util.testing is deprecated. Use the functions in the public API at pandas.testing instead.\n",
      "  from pandas.util.testing import assert_frame_equal\n"
     ]
    }
   ],
   "source": [
    "import math\n",
    "import numpy as np\n",
    "import pandas as pd\n",
    "from pandas.testing import assert_frame_equal"
   ]
  },
  {
   "cell_type": "code",
   "execution_count": 2,
   "metadata": {},
   "outputs": [],
   "source": [
    "def validate_numeric_list(x):\n",
    "    assert not any(map(math.isnan, x)), \"Found nan in x.\"\n",
    "    return True\n",
    "\n",
    "def basic_loop(t, *args, **kwargs):\n",
    "    env = TradingEnv(ticker=t, *args, **kwargs)\n",
    "    state = env.reset()\n",
    "    assert env.prices[:env.WINDOW_SIZE].std() > 0, \"Standard Deviation too low\"\n",
    "    validate_numeric_list(state)\n",
    "    trading_data = env.data[env.df_initial_index - env.WINDOW_SIZE : env.df_final_index]\n",
    "    assert_frame_equal(trading_data, trading_data.fillna(np.inf))\n",
    "    done = False\n",
    "    while not done:\n",
    "        next_state, r, done, _ = env.step(0)\n",
    "    h = env.close()\n",
    "    assert_frame_equal(h, h.fillna(np.inf))\n"
   ]
  },
  {
   "cell_type": "code",
   "execution_count": 3,
   "metadata": {},
   "outputs": [],
   "source": [
    "basic_loop('AAPL', mode=\"test\")"
   ]
  },
  {
   "cell_type": "code",
   "execution_count": 4,
   "metadata": {},
   "outputs": [
    {
     "name": "stdout",
     "output_type": "stream",
     "text": [
      "failed on ALGN\n",
      "failed on GOOGL\n",
      "failed on AMCR\n",
      "failed on ANET\n",
      "failed on BDX\n",
      "failed on CARR\n",
      "failed on CBOE\n",
      "failed on CBRE\n",
      "failed on CFG\n",
      "failed on CME\n",
      "failed on CMA\n",
      "failed on CTVA\n",
      "failed on CVS\n",
      "failed on DLR\n",
      "failed on DG\n",
      "failed on DOW\n",
      "failed on EOG\n",
      "failed on EQIX\n",
      "failed on EVRG\n",
      "failed on EXPD\n",
      "failed on FE\n",
      "failed on FLT\n",
      "failed on FLIR\n",
      "failed on FTV\n",
      "failed on FBHS\n",
      "failed on FOXA\n",
      "failed on FOX\n",
      "failed on FCX\n",
      "failed on GPS\n",
      "failed on GD\n",
      "failed on HAS\n",
      "failed on HPE\n",
      "failed on HLT\n",
      "failed on HD\n",
      "failed on HON\n",
      "failed on HWM\n",
      "failed on HII\n",
      "failed on INFO\n",
      "failed on ICE\n",
      "failed on IBM\n",
      "failed on IFF\n",
      "failed on ISRG\n",
      "failed on IVZ\n",
      "failed on IPGP\n",
      "failed on JKHY\n",
      "failed on JBHT\n",
      "failed on KSU\n",
      "failed on K\n",
      "failed on KEYS\n",
      "failed on KMI\n",
      "failed on KHC\n",
      "failed on KR\n",
      "failed on LHX\n",
      "failed on LW\n",
      "failed on LKQ\n",
      "failed on MMC\n",
      "failed on MET\n",
      "failed on MAA\n",
      "failed on MHK\n",
      "failed on TAP\n",
      "failed on MDLZ\n",
      "failed on MS\n",
      "failed on NDAQ\n",
      "failed on NOV\n",
      "failed on NFLX\n",
      "failed on NEM\n",
      "failed on NEE\n",
      "failed on NLSN\n",
      "failed on NBL\n",
      "failed on NOC\n",
      "failed on NLOK\n",
      "failed on NVDA\n",
      "failed on NVR\n",
      "failed on ODFL\n",
      "failed on OMC\n",
      "failed on OTIS\n",
      "failed on PCAR\n",
      "failed on PKG\n",
      "failed on PAYC\n",
      "failed on PYPL\n",
      "failed on PKI\n",
      "failed on PRGO\n",
      "failed on PNC\n",
      "failed on PPG\n",
      "failed on PPL\n",
      "failed on PG\n",
      "failed on QRVO\n",
      "failed on DGX\n",
      "failed on RTX\n",
      "failed on RSG\n",
      "failed on CRM\n",
      "failed on SBAC\n",
      "failed on STX\n",
      "failed on SEE\n",
      "failed on SPG\n",
      "failed on SLG\n",
      "failed on SIVB\n",
      "failed on SYF\n",
      "failed on TEL\n",
      "failed on FTI\n",
      "failed on TXT\n",
      "failed on TMO\n",
      "failed on TT\n",
      "failed on TDG\n",
      "failed on UDR\n",
      "failed on UA\n",
      "failed on UNH\n",
      "failed on VZ\n",
      "failed on VIAC\n",
      "failed on WRB\n",
      "failed on WM\n",
      "failed on WEC\n",
      "failed on WELL\n",
      "failed on WU\n",
      "failed on WRK\n",
      "failed on WMB\n",
      "failed on WLTW\n",
      "failed on WYNN\n",
      "failed on XRX\n"
     ]
    }
   ],
   "source": [
    "clean_stocks = []\n",
    "failed_to_load_list = []\n",
    "with open('raw_sp500.tsv', 'r') as src:\n",
    "    for i, line in enumerate(src.readlines()):\n",
    "        if i == 0:\n",
    "            continue\n",
    "        ticker = line.split()[0]\n",
    "        ticker = ticker.replace('.', '-')\n",
    "        try:\n",
    "            basic_loop(ticker)\n",
    "            basic_loop(ticker, mode='test')\n",
    "            clean_stocks.append(ticker)\n",
    "        except:\n",
    "            print(f'failed on {ticker}')\n",
    "            failed_to_load_list.append(ticker)\n",
    "            "
   ]
  },
  {
   "cell_type": "code",
   "execution_count": 6,
   "metadata": {},
   "outputs": [],
   "source": [
    "assert len(clean_stocks) == 386, \"clean stocks missing. check golden files\""
   ]
  },
  {
   "cell_type": "code",
   "execution_count": 7,
   "metadata": {},
   "outputs": [
    {
     "data": {
      "text/plain": [
       "386"
      ]
     },
     "execution_count": 7,
     "metadata": {},
     "output_type": "execute_result"
    }
   ],
   "source": [
    "len(clean_stocks)"
   ]
  },
  {
   "cell_type": "code",
   "execution_count": 12,
   "metadata": {},
   "outputs": [],
   "source": [
    "failed_to_load_list.sort()\n",
    "clean_stocks.sort()"
   ]
  },
  {
   "cell_type": "code",
   "execution_count": 13,
   "metadata": {},
   "outputs": [],
   "source": [
    "with open('blacklist.txt', 'w') as target:\n",
    "    target.write('\\n'.join(failed_to_load_list))"
   ]
  },
  {
   "cell_type": "code",
   "execution_count": 14,
   "metadata": {},
   "outputs": [],
   "source": [
    "with open('filtered_tickers.txt', 'w') as target:\n",
    "    target.write('\\n'.join([s for s in clean_stocks]))"
   ]
  },
  {
   "cell_type": "code",
   "execution_count": null,
   "metadata": {},
   "outputs": [],
   "source": []
  }
 ],
 "metadata": {
  "kernelspec": {
   "display_name": "Python 3",
   "language": "python",
   "name": "python3"
  },
  "language_info": {
   "codemirror_mode": {
    "name": "ipython",
    "version": 3
   },
   "file_extension": ".py",
   "mimetype": "text/x-python",
   "name": "python",
   "nbconvert_exporter": "python",
   "pygments_lexer": "ipython3",
   "version": "3.7.6"
  }
 },
 "nbformat": 4,
 "nbformat_minor": 4
}
