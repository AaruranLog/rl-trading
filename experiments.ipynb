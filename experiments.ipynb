{
 "cells": [
  {
   "cell_type": "code",
   "execution_count": 1,
   "metadata": {},
   "outputs": [
    {
     "name": "stderr",
     "output_type": "stream",
     "text": [
      "/home/aaruran/miniconda3/lib/python3.7/site-packages/pandas_datareader/compat/__init__.py:7: FutureWarning: pandas.util.testing is deprecated. Use the functions in the public API at pandas.testing instead.\n",
      "  from pandas.util.testing import assert_frame_equal\n"
     ]
    },
    {
     "name": "stdout",
     "output_type": "stream",
     "text": [
      "No GPU will be used\n"
     ]
    }
   ],
   "source": [
    "from system import *\n",
    "from agents import *\n",
    "import torch\n",
    "import torch.nn as nn\n",
    "import torch.optim as optim\n",
    "from torch.autograd import Variable\n",
    "import torch.nn.functional as F\n",
    "import matplotlib.pyplot as plt\n",
    "import seaborn as sns\n",
    "from itertools import chain\n",
    "import numpy as np\n",
    "import pandas as pd\n",
    "import random\n",
    "import math\n",
    "from tqdm import tqdm"
   ]
  },
  {
   "cell_type": "code",
   "execution_count": 2,
   "metadata": {},
   "outputs": [
    {
     "data": {
      "text/plain": [
       "'Model-based without Text'"
      ]
     },
     "execution_count": 2,
     "metadata": {},
     "output_type": "execute_result"
    }
   ],
   "source": [
    "notext_agent = ModelBased_NoText_Agent()\n",
    "# e = TradingWithRedditEnv()\n",
    "notext_agent.name"
   ]
  },
  {
   "cell_type": "markdown",
   "metadata": {},
   "source": [
    "# Generating Experimental Data"
   ]
  },
  {
   "cell_type": "code",
   "execution_count": 10,
   "metadata": {},
   "outputs": [
    {
     "name": "stderr",
     "output_type": "stream",
     "text": [
      "100%|██████████| 6/6 [00:26<00:00,  4.40s/it]\n",
      "100%|██████████| 6/6 [00:33<00:00,  5.61s/it]\n",
      "100%|██████████| 6/6 [00:42<00:00,  7.16s/it]\n",
      "100%|██████████| 6/6 [01:03<00:00, 10.66s/it]\n",
      "100%|██████████| 6/6 [01:11<00:00, 11.95s/it]\n"
     ]
    }
   ],
   "source": [
    "total_history = pd.DataFrame()\n",
    "with open(\"filtered_tickers.txt\", \"r\") as src:\n",
    "    filtered_tickers = src.read().split(\"\\n\")\n",
    "\n",
    "agents = [DQN, A2C, DDPG, ModelBased_NoText_Agent, ModelBasedAgent]\n",
    "# agents = [DQN, A2C, DDPG, ModelBasedAgent]\n",
    "for A in agents:\n",
    "    for ticker in tqdm(filtered_tickers[0:6]):\n",
    "        a = A()\n",
    "        e_train = a.ENV_CONSTRUCTOR(ticker=ticker, mode='train')\n",
    "        \n",
    "        for i in range(3):\n",
    "            h_train = a.run_episode(e_train)\n",
    "            h_train['mode'] = 'train'\n",
    "            h_train['t'] = range(len(h_train))\n",
    "            h_train['episode'] = int(i + 1)\n",
    "            h_train['agent'] = a.name\n",
    "            total_history = pd.concat([total_history, h_train])\n",
    "        \n",
    "        e_test = a.ENV_CONSTRUCTOR(ticker=ticker, mode='test')\n",
    "        h_test = a.run_episode(e_test)\n",
    "        h_test['mode'] = 'test'\n",
    "        h_test['t'] = range(len(h_train), len(h_test) + len(h_train))\n",
    "        h_test['agent'] = a.name\n",
    "        total_history = pd.concat([total_history, h_test])\n",
    "        \n",
    "    "
   ]
  },
  {
   "cell_type": "code",
   "execution_count": 11,
   "metadata": {},
   "outputs": [
    {
     "data": {
      "text/html": [
       "<div>\n",
       "<style scoped>\n",
       "    .dataframe tbody tr th:only-of-type {\n",
       "        vertical-align: middle;\n",
       "    }\n",
       "\n",
       "    .dataframe tbody tr th {\n",
       "        vertical-align: top;\n",
       "    }\n",
       "\n",
       "    .dataframe thead th {\n",
       "        text-align: right;\n",
       "    }\n",
       "</style>\n",
       "<table border=\"1\" class=\"dataframe\">\n",
       "  <thead>\n",
       "    <tr style=\"text-align: right;\">\n",
       "      <th></th>\n",
       "      <th>date</th>\n",
       "      <th>ticker</th>\n",
       "      <th>rewards</th>\n",
       "      <th>actions</th>\n",
       "      <th>returns</th>\n",
       "      <th>prices</th>\n",
       "      <th>mode</th>\n",
       "      <th>t</th>\n",
       "      <th>episode</th>\n",
       "      <th>agent</th>\n",
       "    </tr>\n",
       "    <tr>\n",
       "      <th>Date</th>\n",
       "      <th></th>\n",
       "      <th></th>\n",
       "      <th></th>\n",
       "      <th></th>\n",
       "      <th></th>\n",
       "      <th></th>\n",
       "      <th></th>\n",
       "      <th></th>\n",
       "      <th></th>\n",
       "      <th></th>\n",
       "    </tr>\n",
       "  </thead>\n",
       "  <tbody>\n",
       "    <tr>\n",
       "      <th>2014-01-06</th>\n",
       "      <td>2014-01-06</td>\n",
       "      <td>A</td>\n",
       "      <td>-9.951808</td>\n",
       "      <td>-1.0</td>\n",
       "      <td>0.004919</td>\n",
       "      <td>40.515022</td>\n",
       "      <td>train</td>\n",
       "      <td>0</td>\n",
       "      <td>1.0</td>\n",
       "      <td>Deep Q-Network</td>\n",
       "    </tr>\n",
       "    <tr>\n",
       "      <th>2014-01-07</th>\n",
       "      <td>2014-01-07</td>\n",
       "      <td>A</td>\n",
       "      <td>-0.143712</td>\n",
       "      <td>-1.0</td>\n",
       "      <td>-0.009451</td>\n",
       "      <td>41.094421</td>\n",
       "      <td>train</td>\n",
       "      <td>1</td>\n",
       "      <td>1.0</td>\n",
       "      <td>Deep Q-Network</td>\n",
       "    </tr>\n",
       "    <tr>\n",
       "      <th>2014-01-08</th>\n",
       "      <td>2014-01-08</td>\n",
       "      <td>A</td>\n",
       "      <td>-19.650867</td>\n",
       "      <td>1.0</td>\n",
       "      <td>0.002266</td>\n",
       "      <td>41.766811</td>\n",
       "      <td>train</td>\n",
       "      <td>2</td>\n",
       "      <td>1.0</td>\n",
       "      <td>Deep Q-Network</td>\n",
       "    </tr>\n",
       "    <tr>\n",
       "      <th>2014-01-09</th>\n",
       "      <td>2014-01-09</td>\n",
       "      <td>A</td>\n",
       "      <td>-10.068561</td>\n",
       "      <td>0.0</td>\n",
       "      <td>0.001694</td>\n",
       "      <td>41.781116</td>\n",
       "      <td>train</td>\n",
       "      <td>3</td>\n",
       "      <td>1.0</td>\n",
       "      <td>Deep Q-Network</td>\n",
       "    </tr>\n",
       "    <tr>\n",
       "      <th>2014-01-10</th>\n",
       "      <td>2014-01-10</td>\n",
       "      <td>A</td>\n",
       "      <td>0.000000</td>\n",
       "      <td>0.0</td>\n",
       "      <td>0.001694</td>\n",
       "      <td>42.153076</td>\n",
       "      <td>train</td>\n",
       "      <td>4</td>\n",
       "      <td>1.0</td>\n",
       "      <td>Deep Q-Network</td>\n",
       "    </tr>\n",
       "    <tr>\n",
       "      <th>...</th>\n",
       "      <td>...</td>\n",
       "      <td>...</td>\n",
       "      <td>...</td>\n",
       "      <td>...</td>\n",
       "      <td>...</td>\n",
       "      <td>...</td>\n",
       "      <td>...</td>\n",
       "      <td>...</td>\n",
       "      <td>...</td>\n",
       "      <td>...</td>\n",
       "    </tr>\n",
       "    <tr>\n",
       "      <th>2018-12-24</th>\n",
       "      <td>2018-12-24</td>\n",
       "      <td>ABC</td>\n",
       "      <td>0.198998</td>\n",
       "      <td>-1.0</td>\n",
       "      <td>0.021312</td>\n",
       "      <td>70.760002</td>\n",
       "      <td>test</td>\n",
       "      <td>1251</td>\n",
       "      <td>NaN</td>\n",
       "      <td>Model-based</td>\n",
       "    </tr>\n",
       "    <tr>\n",
       "      <th>2018-12-26</th>\n",
       "      <td>2018-12-26</td>\n",
       "      <td>ABC</td>\n",
       "      <td>-0.384722</td>\n",
       "      <td>-1.0</td>\n",
       "      <td>0.017085</td>\n",
       "      <td>73.040001</td>\n",
       "      <td>test</td>\n",
       "      <td>1252</td>\n",
       "      <td>NaN</td>\n",
       "      <td>Model-based</td>\n",
       "    </tr>\n",
       "    <tr>\n",
       "      <th>2018-12-27</th>\n",
       "      <td>2018-12-27</td>\n",
       "      <td>ABC</td>\n",
       "      <td>-0.077519</td>\n",
       "      <td>-1.0</td>\n",
       "      <td>0.016234</td>\n",
       "      <td>73.529999</td>\n",
       "      <td>test</td>\n",
       "      <td>1253</td>\n",
       "      <td>NaN</td>\n",
       "      <td>Model-based</td>\n",
       "    </tr>\n",
       "    <tr>\n",
       "      <th>2018-12-28</th>\n",
       "      <td>2018-12-28</td>\n",
       "      <td>ABC</td>\n",
       "      <td>-0.067121</td>\n",
       "      <td>-1.0</td>\n",
       "      <td>0.015496</td>\n",
       "      <td>73.959999</td>\n",
       "      <td>test</td>\n",
       "      <td>1254</td>\n",
       "      <td>NaN</td>\n",
       "      <td>Model-based</td>\n",
       "    </tr>\n",
       "    <tr>\n",
       "      <th>2018-12-31</th>\n",
       "      <td>2018-12-31</td>\n",
       "      <td>ABC</td>\n",
       "      <td>-0.067883</td>\n",
       "      <td>-1.0</td>\n",
       "      <td>0.014751</td>\n",
       "      <td>74.400002</td>\n",
       "      <td>test</td>\n",
       "      <td>1255</td>\n",
       "      <td>NaN</td>\n",
       "      <td>Model-based</td>\n",
       "    </tr>\n",
       "  </tbody>\n",
       "</table>\n",
       "<p>97980 rows × 10 columns</p>\n",
       "</div>"
      ],
      "text/plain": [
       "                 date ticker    rewards  actions   returns     prices   mode  \\\n",
       "Date                                                                           \n",
       "2014-01-06 2014-01-06      A  -9.951808     -1.0  0.004919  40.515022  train   \n",
       "2014-01-07 2014-01-07      A  -0.143712     -1.0 -0.009451  41.094421  train   \n",
       "2014-01-08 2014-01-08      A -19.650867      1.0  0.002266  41.766811  train   \n",
       "2014-01-09 2014-01-09      A -10.068561      0.0  0.001694  41.781116  train   \n",
       "2014-01-10 2014-01-10      A   0.000000      0.0  0.001694  42.153076  train   \n",
       "...               ...    ...        ...      ...       ...        ...    ...   \n",
       "2018-12-24 2018-12-24    ABC   0.198998     -1.0  0.021312  70.760002   test   \n",
       "2018-12-26 2018-12-26    ABC  -0.384722     -1.0  0.017085  73.040001   test   \n",
       "2018-12-27 2018-12-27    ABC  -0.077519     -1.0  0.016234  73.529999   test   \n",
       "2018-12-28 2018-12-28    ABC  -0.067121     -1.0  0.015496  73.959999   test   \n",
       "2018-12-31 2018-12-31    ABC  -0.067883     -1.0  0.014751  74.400002   test   \n",
       "\n",
       "               t  episode           agent  \n",
       "Date                                       \n",
       "2014-01-06     0      1.0  Deep Q-Network  \n",
       "2014-01-07     1      1.0  Deep Q-Network  \n",
       "2014-01-08     2      1.0  Deep Q-Network  \n",
       "2014-01-09     3      1.0  Deep Q-Network  \n",
       "2014-01-10     4      1.0  Deep Q-Network  \n",
       "...          ...      ...             ...  \n",
       "2018-12-24  1251      NaN     Model-based  \n",
       "2018-12-26  1252      NaN     Model-based  \n",
       "2018-12-27  1253      NaN     Model-based  \n",
       "2018-12-28  1254      NaN     Model-based  \n",
       "2018-12-31  1255      NaN     Model-based  \n",
       "\n",
       "[97980 rows x 10 columns]"
      ]
     },
     "execution_count": 11,
     "metadata": {},
     "output_type": "execute_result"
    }
   ],
   "source": [
    "total_history"
   ]
  },
  {
   "cell_type": "code",
   "execution_count": 5,
   "metadata": {},
   "outputs": [
    {
     "data": {
      "text/plain": [
       "(array([ 1.,  2.,  3.,  4.,  5.,  6.,  7., nan]),\n",
       " array(['A', 'AAL', 'AAP', 'AAPL', 'ABBV', 'ABC'], dtype=object),\n",
       " array(['Deep Q-Network', 'A2C', 'DDPG', 'Model-based without Text',\n",
       "        'Model-based'], dtype=object))"
      ]
     },
     "execution_count": 5,
     "metadata": {},
     "output_type": "execute_result"
    }
   ],
   "source": [
    "total_history['episode'].unique(), total_history['ticker'].unique(), total_history['agent'].unique()"
   ]
  },
  {
   "cell_type": "code",
   "execution_count": 9,
   "metadata": {},
   "outputs": [
    {
     "data": {
      "text/plain": [
       "True"
      ]
     },
     "execution_count": 9,
     "metadata": {},
     "output_type": "execute_result"
    }
   ],
   "source": [
    "import os\n",
    "os.path.isfile('./training_history.csv')"
   ]
  },
  {
   "cell_type": "code",
   "execution_count": 2,
   "metadata": {},
   "outputs": [
    {
     "name": "stderr",
     "output_type": "stream",
     "text": [
      "100%|██████████| 30/30 [30:53<00:00, 61.79s/it]\n",
      "100%|██████████| 30/30 [45:51<00:00, 91.73s/it]\n",
      "100%|██████████| 30/30 [58:00<00:00, 116.01s/it]\n",
      "100%|██████████| 30/30 [1:23:53<00:00, 167.79s/it]\n",
      "100%|██████████| 30/30 [1:33:49<00:00, 187.65s/it]\n"
     ]
    }
   ],
   "source": [
    "if not os.path.isfile('./training_history.csv'):\n",
    "    training_history = pd.DataFrame()\n",
    "    N_EPISODES = 50\n",
    "    with open(\"filtered_tickers.txt\", \"r\") as src:\n",
    "        filtered_tickers = src.read().split(\"\\n\")\n",
    "    N_TICKERS = 30\n",
    "    agents = [DQN, A2C, DDPG, ModelBased_NoText_Agent, ModelBasedAgent]\n",
    "    for A in agents:\n",
    "        for ticker in tqdm(filtered_tickers[0:N_TICKERS]):\n",
    "            a = A()\n",
    "            e_train = a.ENV_CONSTRUCTOR(ticker=ticker, mode='train')\n",
    "            for i in range(N_EPISODES):\n",
    "                h_train = a.run_episode(e_train)\n",
    "    #             h_train['mode'] = 'train'\n",
    "                h_train['t'] = range(len(h_train))\n",
    "                h_train['episode'] = int(i + 1)\n",
    "                h_train['agent'] = a.name\n",
    "                training_history = pd.concat([training_history, h_train])\n",
    "else:\n",
    "    training_history = pd.read_csv('./training_history.csv')"
   ]
  },
  {
   "cell_type": "code",
   "execution_count": 5,
   "metadata": {},
   "outputs": [
    {
     "data": {
      "text/plain": [
       "array(['Deep Q-Network', 'A2C', 'DDPG', 'Model-based without Text',\n",
       "       'Model-based'], dtype=object)"
      ]
     },
     "execution_count": 5,
     "metadata": {},
     "output_type": "execute_result"
    }
   ],
   "source": [
    "training_history.agent.unique()"
   ]
  },
  {
   "cell_type": "code",
   "execution_count": 6,
   "metadata": {},
   "outputs": [],
   "source": [
    "training_history.to_csv('training_history.csv', index=False)"
   ]
  },
  {
   "cell_type": "code",
   "execution_count": 3,
   "metadata": {},
   "outputs": [
    {
     "data": {
      "text/html": [
       "<div>\n",
       "<style scoped>\n",
       "    .dataframe tbody tr th:only-of-type {\n",
       "        vertical-align: middle;\n",
       "    }\n",
       "\n",
       "    .dataframe tbody tr th {\n",
       "        vertical-align: top;\n",
       "    }\n",
       "\n",
       "    .dataframe thead th {\n",
       "        text-align: right;\n",
       "    }\n",
       "</style>\n",
       "<table border=\"1\" class=\"dataframe\">\n",
       "  <thead>\n",
       "    <tr style=\"text-align: right;\">\n",
       "      <th></th>\n",
       "      <th></th>\n",
       "      <th>discounted_reward</th>\n",
       "    </tr>\n",
       "    <tr>\n",
       "      <th>agent</th>\n",
       "      <th>episode</th>\n",
       "      <th></th>\n",
       "    </tr>\n",
       "  </thead>\n",
       "  <tbody>\n",
       "    <tr>\n",
       "      <th rowspan=\"5\" valign=\"top\">A2C</th>\n",
       "      <th>1</th>\n",
       "      <td>-40.585946</td>\n",
       "    </tr>\n",
       "    <tr>\n",
       "      <th>2</th>\n",
       "      <td>-45.079673</td>\n",
       "    </tr>\n",
       "    <tr>\n",
       "      <th>3</th>\n",
       "      <td>-31.171956</td>\n",
       "    </tr>\n",
       "    <tr>\n",
       "      <th>4</th>\n",
       "      <td>-14.525914</td>\n",
       "    </tr>\n",
       "    <tr>\n",
       "      <th>5</th>\n",
       "      <td>-6.642533</td>\n",
       "    </tr>\n",
       "    <tr>\n",
       "      <th>...</th>\n",
       "      <th>...</th>\n",
       "      <td>...</td>\n",
       "    </tr>\n",
       "    <tr>\n",
       "      <th rowspan=\"5\" valign=\"top\">Model-based without Text</th>\n",
       "      <th>46</th>\n",
       "      <td>-6.574979</td>\n",
       "    </tr>\n",
       "    <tr>\n",
       "      <th>47</th>\n",
       "      <td>-6.597955</td>\n",
       "    </tr>\n",
       "    <tr>\n",
       "      <th>48</th>\n",
       "      <td>-6.530962</td>\n",
       "    </tr>\n",
       "    <tr>\n",
       "      <th>49</th>\n",
       "      <td>-6.530718</td>\n",
       "    </tr>\n",
       "    <tr>\n",
       "      <th>50</th>\n",
       "      <td>-6.530719</td>\n",
       "    </tr>\n",
       "  </tbody>\n",
       "</table>\n",
       "<p>250 rows × 1 columns</p>\n",
       "</div>"
      ],
      "text/plain": [
       "                                  discounted_reward\n",
       "agent                    episode                   \n",
       "A2C                      1               -40.585946\n",
       "                         2               -45.079673\n",
       "                         3               -31.171956\n",
       "                         4               -14.525914\n",
       "                         5                -6.642533\n",
       "...                                             ...\n",
       "Model-based without Text 46               -6.574979\n",
       "                         47               -6.597955\n",
       "                         48               -6.530962\n",
       "                         49               -6.530718\n",
       "                         50               -6.530719\n",
       "\n",
       "[250 rows x 1 columns]"
      ]
     },
     "execution_count": 3,
     "metadata": {},
     "output_type": "execute_result"
    }
   ],
   "source": [
    "# training_history = total_history[(total_history['mode'] == 'train')]\n",
    "training_history['discounted_reward'] = (training_history.t\n",
    "                                             .apply( lambda x : np.power(a.gamma, x))\n",
    "                                            * training_history.rewards)\n",
    "rewards_df = (\n",
    "    training_history.groupby(['agent', 'ticker', 'episode'])\n",
    "        .agg({'discounted_reward' : 'sum'})\n",
    "        .groupby(['agent', 'episode'])\n",
    "        .agg({'discounted_reward' : 'mean'})\n",
    "#          .plot()\n",
    ")\n",
    "rewards_df\n",
    "# total_history[(total_history.ticker == 'A') & (total_history['mode'] == 'train')]\n",
    "# h = total_history\n",
    "# h[h.mode == 'train']"
   ]
  },
  {
   "cell_type": "code",
   "execution_count": 7,
   "metadata": {},
   "outputs": [],
   "source": [
    "# rewards_df.reset_index(['agent', 'episode'], drop=False)"
   ]
  },
  {
   "cell_type": "code",
   "execution_count": 7,
   "metadata": {},
   "outputs": [
    {
     "data": {
      "image/png": "[encoded data removed]",
      "text/plain": [
       "<Figure size 432x288 with 1 Axes>"
      ]
     },
     "metadata": {},
     "output_type": "display_data"
    }
   ],
   "source": [
    "sns.lineplot('episode', 'discounted_reward', hue='agent',\n",
    "             data=rewards_df.reset_index(['agent', 'episode'], drop=False))\n",
    "plt.title('Cumulative Discounted Rewards across Agents (Training period)')\n",
    "plt.ylabel('Reward')\n",
    "plt.xlabel('Episode')\n",
    "plt.show()"
   ]
  },
  {
   "cell_type": "code",
   "execution_count": 8,
   "metadata": {},
   "outputs": [
    {
     "data": {
      "image/png": "[encoded data removed]",
      "text/plain": [
       "<Figure size 432x288 with 1 Axes>"
      ]
     },
     "metadata": {},
     "output_type": "display_data"
    }
   ],
   "source": [
    "sns.set('paper')\n",
    "sns.lineplot('episode', 'discounted_reward', hue='agent',\n",
    "             data=training_history.groupby(['agent', 'ticker', 'episode'])\n",
    "        .agg({'discounted_reward' : 'sum'}).reset_index(['agent', 'episode'], drop=False))\n",
    "plt.title('Cumulative Discounted Rewards across Agents (Training period)')\n",
    "plt.ylabel('Reward')\n",
    "plt.xlabel('Episode')\n",
    "plt.savefig('plots/rewards-all-agents.png')\n",
    "plt.show()"
   ]
  },
  {
   "cell_type": "code",
   "execution_count": null,
   "metadata": {},
   "outputs": [
    {
     "name": "stderr",
     "output_type": "stream",
     "text": [
      " 33%|███▎      | 2/6 [00:12<00:25,  6.38s/it]"
     ]
    }
   ],
   "source": [
    "total_history = pd.DataFrame()\n",
    "with open(\"filtered_tickers.txt\", \"r\") as src:\n",
    "    filtered_tickers = src.read().split(\"\\n\")\n",
    "\n",
    "agents = [DQN, A2C, DDPG, ModelBased_NoText_Agent, ModelBasedAgent]\n",
    "# agents = [DQN, A2C, DDPG, ModelBasedAgent]\n",
    "for A in agents:\n",
    "    for ticker in tqdm(filtered_tickers[:6]):\n",
    "        a = A()\n",
    "        e_train = a.ENV_CONSTRUCTOR(ticker=ticker, mode='train')\n",
    "        \n",
    "        for i in range(5):\n",
    "            h_train = a.run_episode(e_train)\n",
    "            h_train['mode'] = 'train'\n",
    "            h_train['t'] = range(len(h_train))\n",
    "            h_train['episode'] = int(i + 1)\n",
    "            h_train['agent'] = a.name\n",
    "            total_history = pd.concat([total_history, h_train])\n",
    "        \n",
    "        e_test = a.ENV_CONSTRUCTOR(ticker=ticker, mode='test')\n",
    "        h_test = a.run_episode(e_test)\n",
    "        h_test['mode'] = 'test'\n",
    "        h_test['t'] = range(len(h_train), len(h_test) + len(h_train))\n",
    "        h_test['agent'] = a.name\n",
    "        total_history = pd.concat([total_history, h_test])\n",
    "        \n",
    "    "
   ]
  },
  {
   "cell_type": "code",
   "execution_count": null,
   "metadata": {},
   "outputs": [],
   "source": [
    "test_history = total_history[(total_history['mode'] == 'test')]\n",
    "test_history = test_history.drop(['episode', 'mode'], axis=1)"
   ]
  },
  {
   "cell_type": "code",
   "execution_count": null,
   "metadata": {},
   "outputs": [],
   "source": [
    "# test_history.actions.plot(kind='box')\n",
    "test_history"
   ]
  },
  {
   "cell_type": "code",
   "execution_count": null,
   "metadata": {},
   "outputs": [],
   "source": [
    "sns.lineplot('date', 'returns', data=test_history, hue='agent', legend='brief')\n",
    "plt.title('Average Returns')\n",
    "plt.legend(bbox_to_anchor=(1.05, 1), loc=2, borderaxespad=0.)\n",
    "# plt.savefig('plots/average-returns-all.png')"
   ]
  },
  {
   "cell_type": "code",
   "execution_count": 18,
   "metadata": {},
   "outputs": [
    {
     "data": {
      "text/plain": [
       "Index(['date', 'ticker', 'rewards', 'actions', 'returns', 'prices', 'mode',\n",
       "       't', 'episode', 'agent'],\n",
       "      dtype='object')"
      ]
     },
     "execution_count": 18,
     "metadata": {},
     "output_type": "execute_result"
    }
   ],
   "source": [
    "test_history.columns"
   ]
  },
  {
   "cell_type": "code",
   "execution_count": null,
   "metadata": {},
   "outputs": [],
   "source": []
  },
  {
   "cell_type": "code",
   "execution_count": null,
   "metadata": {},
   "outputs": [],
   "source": [
    "q = sns.FacetGrid(data=h[h.episode % 5 == 0], row='ticker', hue='episode', aspect=6, legend_out=True)\n",
    "q.map(sns.lineplot, 'date', 'returns')"
   ]
  },
  {
   "cell_type": "code",
   "execution_count": null,
   "metadata": {},
   "outputs": [],
   "source": [
    "a2c_agent = A2C()\n",
    "a2c_agent.train(num_tickers=1, episodes_per_ticker=20)"
   ]
  },
  {
   "cell_type": "code",
   "execution_count": null,
   "metadata": {},
   "outputs": [],
   "source": [
    "h = a2c_agent.history\n",
    "df = h\n",
    "df['discounted_reward'] = df['t'].apply(lambda x : np.power(dqn_agent.gamma, x)) * df['rewards']\n",
    "df.groupby(['ticker', 'episode']).agg({'discounted_reward' : 'sum'}).groupby('episode').agg({'discounted_reward' : 'mean'}).plot()"
   ]
  },
  {
   "cell_type": "code",
   "execution_count": null,
   "metadata": {},
   "outputs": [],
   "source": [
    "h = a2c_agent.history\n",
    "q = sns.FacetGrid(data=h[h.episode % 5 == 0], row='episode', aspect=6, legend_out=True)\n",
    "q.map(sns.lineplot, 'date', 'returns')"
   ]
  },
  {
   "cell_type": "code",
   "execution_count": null,
   "metadata": {},
   "outputs": [],
   "source": [
    "ddpg_agent = DDPG()\n",
    "ddpg_agent.train(num_tickers=1, episodes_per_ticker=3)"
   ]
  },
  {
   "cell_type": "code",
   "execution_count": null,
   "metadata": {},
   "outputs": [],
   "source": [
    "h = ddpg_agent.history\n",
    "df = h\n",
    "df['discounted_reward'] = df['t'].apply(lambda x : np.power(dqn_agent.gamma, x)) * df['rewards']\n",
    "df.groupby(['ticker', 'episode']).agg({'discounted_reward' : 'sum'}).groupby('episode').agg({'discounted_reward' : 'mean'}).plot()"
   ]
  },
  {
   "cell_type": "code",
   "execution_count": null,
   "metadata": {},
   "outputs": [],
   "source": [
    "h = ddpg_agent.history\n",
    "q = sns.FacetGrid(data=h, row='episode', aspect=6)\n",
    "q.map(sns.lineplot, 'date', 'returns')"
   ]
  },
  {
   "cell_type": "code",
   "execution_count": null,
   "metadata": {},
   "outputs": [],
   "source": [
    "long_agent = LongOnlyAgent()\n",
    "long_agent.train(num_tickers=1, episodes_per_ticker=3)"
   ]
  },
  {
   "cell_type": "code",
   "execution_count": null,
   "metadata": {},
   "outputs": [],
   "source": [
    "h = long_agent.history\n",
    "df = h\n",
    "df['discounted_reward'] = df['t'].apply(lambda x : np.power(dqn_agent.gamma, x)) * df['rewards']\n",
    "(df.groupby(['ticker', 'episode'])\n",
    "     .agg({'discounted_reward' : 'sum'})\n",
    "     .groupby('episode')\n",
    "     .agg({'discounted_reward' : 'mean'})\n",
    "     .plot())"
   ]
  },
  {
   "cell_type": "code",
   "execution_count": null,
   "metadata": {},
   "outputs": [],
   "source": [
    "h = long_agent.history\n",
    "q = sns.FacetGrid(data=h, row='episode', aspect=6)\n",
    "q.map(sns.lineplot, 'date', 'returns')"
   ]
  },
  {
   "cell_type": "code",
   "execution_count": null,
   "metadata": {},
   "outputs": [],
   "source": [
    "total_history = pd.DataFrame()\n",
    "with open(\"filtered_tickers.txt\", \"r\") as src:\n",
    "    filtered_tickers = src.read().split(\"\\n\")\n"
   ]
  },
  {
   "cell_type": "code",
   "execution_count": null,
   "metadata": {},
   "outputs": [],
   "source": [
    "for t in filtered_tickers:\n",
    "    e_train = ModelBasedAgent.ENV_CONSTRUCTOR(t, mode='train')\n",
    "    e_test  = ModelBasedAgent.ENV_CONSTRUCTOR(t, mode='test')\n",
    "model_agent = ModelBasedAgent()\n",
    "model_agent.train(num_tickers=1, episodes_per_ticker=)"
   ]
  },
  {
   "cell_type": "code",
   "execution_count": null,
   "metadata": {},
   "outputs": [],
   "source": [
    "model_agent.history.head()"
   ]
  },
  {
   "cell_type": "code",
   "execution_count": null,
   "metadata": {},
   "outputs": [],
   "source": [
    "df = model_agent.history\n",
    "df['discounted_reward'] = df['t'].apply(lambda x : np.power(dqn_agent.gamma, x)) * df['rewards']\n",
    "\n",
    "(df.groupby(['ticker', 'episode'])\n",
    "     .agg({'discounted_reward' : 'sum'})\n",
    "     .groupby('episode')\n",
    "     .agg({'discounted_reward' : 'mean'})\n",
    "     .plot(title=model_agent.name))"
   ]
  },
  {
   "cell_type": "code",
   "execution_count": null,
   "metadata": {},
   "outputs": [],
   "source": [
    "h = model_agent.history\n",
    "q = sns.FacetGrid(data=h, col='episode', row='ticker')\n",
    "q.map(sns.lineplot, 't', 'returns')"
   ]
  },
  {
   "cell_type": "code",
   "execution_count": null,
   "metadata": {},
   "outputs": [],
   "source": [
    "q = sns.FacetGrid(data=h, col='episode', row='ticker')\n",
    "q.map(sns.lineplot, 't', 'rewards')"
   ]
  },
  {
   "cell_type": "code",
   "execution_count": null,
   "metadata": {},
   "outputs": [],
   "source": [
    "sns.lineplot('t', 'prices', hue='ticker', data=h)"
   ]
  },
  {
   "cell_type": "code",
   "execution_count": null,
   "metadata": {},
   "outputs": [],
   "source": []
  }
 ],
 "metadata": {
  "kernelspec": {
   "display_name": "Python 3",
   "language": "python",
   "name": "python3"
  },
  "language_info": {
   "codemirror_mode": {
    "name": "ipython",
    "version": 3
   },
   "file_extension": ".py",
   "mimetype": "text/x-python",
   "name": "python",
   "nbconvert_exporter": "python",
   "pygments_lexer": "ipython3",
   "version": "3.7.6"
  }
 },
 "nbformat": 4,
 "nbformat_minor": 4
}
