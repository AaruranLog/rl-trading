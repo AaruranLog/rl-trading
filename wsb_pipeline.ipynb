{
 "cells": [
  {
   "cell_type": "markdown",
   "metadata": {},
   "source": [
    "# WallStreetBets Analysis"
   ]
  },
  {
   "cell_type": "code",
   "execution_count": 1,
   "metadata": {},
   "outputs": [],
   "source": [
    "import pandas as pd\n",
    "from gensim.models.fasttext import FastText\n",
    "from gensim.test.utils import datapath"
   ]
  },
  {
   "cell_type": "code",
   "execution_count": 2,
   "metadata": {},
   "outputs": [],
   "source": [
    "chunksize=10**3\n",
    "wsb = pd.read_json('/home/aaruran/Documents/Git/wsbData.json',\n",
    "                   lines=True, chunksize=chunksize)"
   ]
  },
  {
   "cell_type": "code",
   "execution_count": 3,
   "metadata": {},
   "outputs": [],
   "source": [
    "corpus = datapath('/home/aaruran/Documents/Git/wsbData.json')"
   ]
  },
  {
   "cell_type": "code",
   "execution_count": 4,
   "metadata": {},
   "outputs": [],
   "source": [
    "model = FastText(size=100)"
   ]
  },
  {
   "cell_type": "code",
   "execution_count": 5,
   "metadata": {},
   "outputs": [],
   "source": [
    "model.build_vocab(corpus_file=corpus)"
   ]
  },
  {
   "cell_type": "code",
   "execution_count": null,
   "metadata": {},
   "outputs": [],
   "source": [
    "model.train(corpus_file=corpus, epochs=model.epochs,\n",
    "           total_examples=model.corpus_count, total_words=model.corpus_total_words)"
   ]
  },
  {
   "cell_type": "code",
   "execution_count": null,
   "metadata": {},
   "outputs": [],
   "source": [
    "model.save('wsb_gensim_model')"
   ]
  },
  {
   "cell_type": "code",
   "execution_count": null,
   "metadata": {},
   "outputs": [],
   "source": [
    "def create_comment_vectors(chunk):\n",
    "    cleaned_chunk = chunk[['body', 'created_utc']]\n",
    "\n",
    "    # cleaned_chunk = cleaned_chunk['body]\n",
    "    cleaned_chunk = cleaned_chunk[cleaned_chunk['body'] != '[deleted]']\n",
    "    cleaned_chunk = cleaned_chunk[cleaned_chunk['body'] != '[removed]']\n",
    "    cleaned_chunk['created_utc'] = pd.to_datetime(chunk['created_utc'], unit='s',\n",
    "                                                  origin='unix')\n",
    "    cleaned_chunk = cleaned_chunk.sort_values(by=['created_utc'])\n",
    "    cleaned_chunk['created_utc'] = cleaned_chunk['created_utc'].dt.date\n",
    "    cleaned_chunk['embeddings'] = model.wv[chunk['body']].tolist()\n",
    "    \n",
    "for chunk in wsb:\n",
    "    cleaned_chunk = create_comment_vectors(chunk)\n",
    "    cleaned_chunk.to_csv('/home/aaruran/Documents/Git/cleaned_wsb.csv',\n",
    "                        head=True, mode='a')"
   ]
  },
  {
   "cell_type": "code",
   "execution_count": null,
   "metadata": {},
   "outputs": [],
   "source": [
    "# model.estimate_memory()"
   ]
  },
  {
   "cell_type": "code",
   "execution_count": null,
   "metadata": {},
   "outputs": [],
   "source": [
    "# import spacy\n",
    "# nlp = spacy.load('en_core_web_sm', disable=[\"tagger\", \"parser\", 'ner'])\n"
   ]
  },
  {
   "cell_type": "code",
   "execution_count": null,
   "metadata": {},
   "outputs": [],
   "source": [
    "# nlp.add_pipe(nlp.create_pipe('sentencizer'))"
   ]
  },
  {
   "cell_type": "code",
   "execution_count": null,
   "metadata": {},
   "outputs": [],
   "source": []
  }
 ],
 "metadata": {
  "kernelspec": {
   "display_name": "Python 3",
   "language": "python",
   "name": "python3"
  },
  "language_info": {
   "codemirror_mode": {
    "name": "ipython",
    "version": 3
   },
   "file_extension": ".py",
   "mimetype": "text/x-python",
   "name": "python",
   "nbconvert_exporter": "python",
   "pygments_lexer": "ipython3",
   "version": "3.7.6"
  }
 },
 "nbformat": 4,
 "nbformat_minor": 4
}
