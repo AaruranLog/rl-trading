{
 "cells": [
  {
   "cell_type": "markdown",
   "metadata": {},
   "source": [
    "# WallStreetBets Analysis"
   ]
  },
  {
   "cell_type": "code",
   "execution_count": 30,
   "metadata": {},
   "outputs": [],
   "source": [
    "import pandas as pd\n",
    "import numpy as np\n",
    "import fasttext\n",
    "import fasttext.util\n",
    "from sqlalchemy import create_engine\n",
    "from tqdm import tqdm"
   ]
  },
  {
   "cell_type": "code",
   "execution_count": 3,
   "metadata": {},
   "outputs": [],
   "source": [
    "ft = fasttext.load_model('../../fastText/cc.en.300.bin')"
   ]
  },
  {
   "cell_type": "code",
   "execution_count": 4,
   "metadata": {},
   "outputs": [
    {
     "data": {
      "text/plain": [
       "<fasttext.FastText._FastText at 0x7f20afad3cd0>"
      ]
     },
     "execution_count": 4,
     "metadata": {},
     "output_type": "execute_result"
    }
   ],
   "source": [
    "fasttext.util.reduce_model(ft, 50)"
   ]
  },
  {
   "cell_type": "code",
   "execution_count": 16,
   "metadata": {},
   "outputs": [],
   "source": [
    "def lookup_sentence_embedding(text):\n",
    "    tokens = text.split(' ')\n",
    "    word_vectors = np.array([ft.get_word_vector(t) for t in tokens])\n",
    "    return word_vectors.mean(axis=0)"
   ]
  },
  {
   "cell_type": "code",
   "execution_count": 26,
   "metadata": {},
   "outputs": [],
   "source": [
    "def create_comment_vectors(chunk):\n",
    "    \n",
    "    cleaned_chunk = pd.DataFrame({\n",
    "        'date' : pd.to_datetime(chunk['created_utc'], unit='s', origin='unix').dt.date,\n",
    "        'body' : chunk['body'],\n",
    "        'embeddings' : chunk['body'].apply(lookup_sentence_embedding)})\n",
    "    return cleaned_chunk"
   ]
  },
  {
   "cell_type": "code",
   "execution_count": 31,
   "metadata": {},
   "outputs": [
    {
     "name": "stderr",
     "output_type": "stream",
     "text": [
      "298it [05:06,  1.03s/it]\n"
     ]
    }
   ],
   "source": [
    "chunksize=10**4\n",
    "DATABASE_URI = 'sqlite:///ft_database.db'\n",
    "db = create_engine(DATABASE_URI)\n",
    "\n",
    "wsb = pd.read_json('/home/aaruran/Documents/Git/wsbData.json', lines=True, chunksize=chunksize)\n",
    "\n",
    "for chunk in tqdm(wsb):\n",
    "    cleaned_chunk = create_comment_vectors(chunk)\n",
    "    cleaned_chunk.to_sql('wsb', db, if_exists='append', index=False)"
   ]
  }
 ],
 "metadata": {
  "kernelspec": {
   "display_name": "Python 3",
   "language": "python",
   "name": "python3"
  },
  "language_info": {
   "codemirror_mode": {
    "name": "ipython",
    "version": 3
   },
   "file_extension": ".py",
   "mimetype": "text/x-python",
   "name": "python",
   "nbconvert_exporter": "python",
   "pygments_lexer": "ipython3",
   "version": "3.7.6"
  }
 },
 "nbformat": 4,
 "nbformat_minor": 4
}
