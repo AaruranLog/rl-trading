{
 "cells": [
  {
   "cell_type": "code",
   "execution_count": 108,
   "metadata": {},
   "outputs": [],
   "source": [
    "import pandas as pd\n",
    "from pandas_datareader import data\n",
    "import numpy as np\n",
    "import matplotlib.pyplot as plt\n",
    "import gym"
   ]
  },
  {
   "cell_type": "code",
   "execution_count": 119,
   "metadata": {},
   "outputs": [],
   "source": [
    "INITIAL_BALANCE = 10\n",
    "TRANSACTION_COST = 0.01\n",
    "WINDOW_SIZE = 60\n",
    "DELTA_DAY = pd.Timedelta(days=1)\n",
    "DEFAULT_ACTIONS_LIST = [0]\n",
    "DEFAULT_REWARDS_LIST = [0]\n",
    "EXP_DECAY = 0.8\n",
    "class TradingEnv(gym.Env):\n",
    "    \n",
    "    def __init__(self, ticker='AAPL', target_volatility=1, mode=\"train\"):\n",
    "        self.ticker = ticker\n",
    "        self.window = pd.Timedelta(days=WINDOW_SIZE)\n",
    "        assert mode in set([\"train\", \"validation\", \"test\", \"dev\"]), f\"Invalid environment  mode: {mode}\"\n",
    "        self.mode = mode\n",
    "        # Time Series Features\n",
    "        start, end = self.get_time_endpoints(mode)\n",
    "        self.end = end\n",
    "        \n",
    "        self.prices = data.DataReader(ticker, 'yahoo', start=start-12*self.window, end=end+self.window)['Close']\n",
    "        # We compute the mean, and standard deviation of the first WINDOW_SIZE days, and use this to standardize \n",
    "        # the entire time series.\n",
    "        self.mu_hat = self.prices[:WINDOW_SIZE].mean()\n",
    "        self.sigma_hat = self.prices[:WINDOW_SIZE].std()\n",
    "        self.data = pd.DataFrame({'mean' : (self.prices - self.mu_hat) / self.sigma_hat})\n",
    "        self.data['std'] = self.data['mean'].rolling(WINDOW_SIZE).std()\n",
    "        self.data['sharpe'] = self.data['mean'].rolling(WINDOW_SIZE).mean() / self.data['std']\n",
    "        self.short_time = 63\n",
    "        self.long_time = 252\n",
    "        exp_short = self.prices.ewm(span=self.short_time, adjust=False).mean() # ???\n",
    "        exp_long  = self.prices.ewm(span=self.long_time,  adjust=False).mean()  # ???\n",
    "        self.data['q'] = (exp_short - exp_long) / self.prices.rolling(self.short_time).std()\n",
    "        self.data['MACD'] = self.data['q'] / self.data['q'].rolling(self.long_time).std()\n",
    "        \n",
    "        self.df_index = WINDOW_SIZE # to look up current price from self.data, irrespective of the date break due to the weekend\n",
    "        \n",
    "        self.target_volatility = target_volatility\n",
    "        self.returns_list = DEFAULT_REWARDS_LIST.copy()\n",
    "        self.rewards_list = DEFAULT_REWARDS_LIST.copy()\n",
    "        self.actions_list = DEFAULT_ACTIONS_LIST.copy()\n",
    "        self.balance = INITIAL_BALANCE\n",
    "        \n",
    "        \n",
    "    def get_time_endpoints(self, mode):\n",
    "        \"\"\"\n",
    "            Start must be in Monday - Friday\n",
    "        \"\"\"\n",
    "        if mode == \"train\":\n",
    "            return pd.Timestamp('2016-01-04'), pd.Timestamp('2016-12-31')\n",
    "        elif mode == \"dev\":\n",
    "            return pd.Timestamp('2016-01-04'), pd.Timestamp('2016-02-28')\n",
    "        else:\n",
    "            raise NotImplementedError()\n",
    "        \n",
    "    def _get_raw_price(self):\n",
    "        return self.prices[self.df_index]\n",
    "    \n",
    "    def _get_normalized_price(self, diff=0):\n",
    "        return self.data['mean'][self.df_index + diff]\n",
    "        \n",
    "    def _get_current_timestamp(self):\n",
    "        return pd.Timestamp(self.data.index[self.df_index])\n",
    "    \n",
    "    def _get_current_state(self):\n",
    "        state = []\n",
    "        for i in range(WINDOW_SIZE):\n",
    "            n_price = self._get_normalized_price(diff=-i)\n",
    "            state.append(n_price)\n",
    "            \n",
    "            old_price = self._get_normalized_price(diff=-(i + WINDOW_SIZE))\n",
    "            state.append(old_price)\n",
    "            \n",
    "            sharpe_ratio = self.data['sharpe'][self.df_index - i]\n",
    "            state.append(sharpe_ratio)\n",
    "            \n",
    "            # Normalized, Additive Returns from previous WINDOW_SIZE\n",
    "            state.append(n_price - old_price)\n",
    "        return state\n",
    "    \n",
    "    def reset(self):\n",
    "        self.df_index = WINDOW_SIZE\n",
    "        self.returns_list = DEFAULT_REWARDS_LIST.copy()\n",
    "        self.rewards_list = DEFAULT_REWARDS_LIST.copy()\n",
    "        self.actions_list = DEFAULT_ACTIONS_LIST.copy()\n",
    "        return self._get_current_state()\n",
    "    \n",
    "    def seed(self, seed=None):\n",
    "        return\n",
    "    \n",
    "    def close(self):\n",
    "        return\n",
    "    \n",
    "    def _update_portfolio(action):\n",
    "        raise NotImplementedError()\n",
    "        prev_action = self.actions_list[-1]\n",
    "        if prev_action == 0:\n",
    "            if action == 0:\n",
    "                return self.balance\n",
    "            elif action == 1:\n",
    "                return self.balance\n",
    "            elif action == -1:\n",
    "                return self.balance\n",
    "        if prev_action == 1:\n",
    "            if action == 0:\n",
    "                return self.balance\n",
    "            elif action == 1:\n",
    "                return self.balance\n",
    "            elif action == -1:\n",
    "                pass\n",
    "        if prev_action == -1:\n",
    "            if action == 0:\n",
    "                return self.balance\n",
    "            elif action == 1:\n",
    "                return self.balance\n",
    "            elif action == -1:\n",
    "                pass\n",
    "                \n",
    "    def step(self, action):\n",
    "        \"\"\"\n",
    "            Executes an action in the stock environment, using \n",
    "            the discrete action space described in: Deep Reinforcement Learning for Trading\n",
    "            \n",
    "            i.e. -1 is maximally short, 0 is no holdings, 1 is maximally long\n",
    "            Inputs: action (one of {-1,0,1})\n",
    "            Outputs: a tuple (observation/state, step_reward, is_done, info)\n",
    "        \"\"\"\n",
    "        \n",
    "        next_price = self._get_normalized_price(diff=1)\n",
    "        price = self._get_normalized_price()\n",
    "        r = next_price - price\n",
    "        mu = 1\n",
    "        \n",
    "        sigma = self.data['std'][self.df_index - 1] \n",
    "        sigma_prev = self.data['std'][self.df_index - 2]\n",
    "       \n",
    "        term1 = action * self.target_volatility * r / sigma\n",
    "        prev_action = self.actions_list[-1]\n",
    "        term2 = price * TRANSACTION_COST * np.abs(term1 - self.target_volatility * prev_action / sigma_prev)\n",
    "        R = mu*(term1 - term2)\n",
    "        \n",
    "        self.rewards_list.append(R)\n",
    "        self.actions_list.append(action)\n",
    "        self.df_index += 1\n",
    "        return self._get_current_state(), R, self._get_current_timestamp() > self.end, {}\n",
    "\n",
    "env = TradingEnv()\n",
    "env.reset()\n",
    "_ = env.step(1)\n",
    "assert len(env.prices) == len(env.data['mean'])\n"
   ]
  },
  {
   "cell_type": "code",
   "execution_count": 120,
   "metadata": {},
   "outputs": [
    {
     "data": {
      "text/plain": [
       "Index(['mean', 'std', 'sharpe', 'q', 'MACD'], dtype='object')"
      ]
     },
     "execution_count": 120,
     "metadata": {},
     "output_type": "execute_result"
    }
   ],
   "source": [
    "env.data.columns"
   ]
  },
  {
   "cell_type": "code",
   "execution_count": 121,
   "metadata": {},
   "outputs": [
    {
     "data": {
      "text/plain": [
       "788"
      ]
     },
     "execution_count": 121,
     "metadata": {},
     "output_type": "execute_result"
    }
   ],
   "source": [
    "len(env.prices)"
   ]
  },
  {
   "cell_type": "code",
   "execution_count": 122,
   "metadata": {},
   "outputs": [],
   "source": [
    "def basic_loop_test(t):\n",
    "    env = TradingEnv(ticker=t)\n",
    "    state = env.reset()\n",
    "    done = False\n",
    "    np.random.seed(885)\n",
    "    while not done:\n",
    "    # for i in range(14):\n",
    "        action = np.random.randint(low=-1, high=2)\n",
    "        next_state, r, done, _ = env.step(action)\n",
    "        assert len(state) == len(next_state)\n",
    "\n",
    "#     plt.plot(env.rewards_list)\n",
    "#     plt.title(f'Reward vs. Time for {t}')\n",
    "#     plt.show()"
   ]
  },
  {
   "cell_type": "code",
   "execution_count": 123,
   "metadata": {},
   "outputs": [],
   "source": [
    "basic_loop_test('AAPL')"
   ]
  },
  {
   "cell_type": "code",
   "execution_count": 9,
   "metadata": {},
   "outputs": [],
   "source": [
    "ticker_list = []\n",
    "with open('./small_stock_name.txt') as src:\n",
    "    ticker_list = src.read().split()"
   ]
  },
  {
   "cell_type": "code",
   "execution_count": 124,
   "metadata": {},
   "outputs": [
    {
     "name": "stderr",
     "output_type": "stream",
     "text": [
      "18it [00:41,  1.77s/it]"
     ]
    },
    {
     "name": "stdout",
     "output_type": "stream",
     "text": [
      "CELG failed\n"
     ]
    },
    {
     "name": "stderr",
     "output_type": "stream",
     "text": [
      "24it [00:54,  1.86s/it]"
     ]
    },
    {
     "name": "stdout",
     "output_type": "stream",
     "text": [
      "CTRP failed\n"
     ]
    },
    {
     "name": "stderr",
     "output_type": "stream",
     "text": [
      "35it [01:20,  1.95s/it]"
     ]
    },
    {
     "name": "stdout",
     "output_type": "stream",
     "text": [
      "FOX failed\n"
     ]
    },
    {
     "name": "stderr",
     "output_type": "stream",
     "text": [
      "36it [01:21,  1.47s/it]"
     ]
    },
    {
     "name": "stdout",
     "output_type": "stream",
     "text": [
      "FOXA failed\n"
     ]
    },
    {
     "name": "stderr",
     "output_type": "stream",
     "text": [
      "62it [02:22,  1.70s/it]"
     ]
    },
    {
     "name": "stdout",
     "output_type": "stream",
     "text": [
      "QVCA failed\n"
     ]
    },
    {
     "name": "stderr",
     "output_type": "stream",
     "text": [
      "68it [02:35,  1.73s/it]"
     ]
    },
    {
     "name": "stdout",
     "output_type": "stream",
     "text": [
      "SYMC failed\n"
     ]
    },
    {
     "name": "stderr",
     "output_type": "stream",
     "text": [
      "74it [02:47,  1.77s/it]"
     ]
    },
    {
     "name": "stdout",
     "output_type": "stream",
     "text": [
      "VIAB failed\n"
     ]
    },
    {
     "name": "stderr",
     "output_type": "stream",
     "text": [
      "79it [02:58,  1.92s/it]"
     ]
    },
    {
     "name": "stdout",
     "output_type": "stream",
     "text": [
      "WFM failed\n"
     ]
    },
    {
     "name": "stderr",
     "output_type": "stream",
     "text": [
      "81it [03:02,  1.63s/it]"
     ]
    },
    {
     "name": "stdout",
     "output_type": "stream",
     "text": [
      "YHOO failed\n"
     ]
    },
    {
     "name": "stderr",
     "output_type": "stream",
     "text": [
      "82it [03:04,  2.25s/it]"
     ]
    },
    {
     "name": "stdout",
     "output_type": "stream",
     "text": [
      "\n",
      "Tickers preserved: 73 / 82\n"
     ]
    },
    {
     "name": "stderr",
     "output_type": "stream",
     "text": [
      "\n"
     ]
    }
   ],
   "source": [
    "from tqdm import tqdm\n",
    "filtered_tickers = []\n",
    "for i, t in tqdm(enumerate(ticker_list)):\n",
    "    try:\n",
    "        basic_loop_test(t)\n",
    "        filtered_tickers.append(t)\n",
    "    except:\n",
    "        print(f'{t} failed')\n",
    "        continue\n",
    "print(f'\\nTickers preserved: {len(filtered_tickers)} / {len(ticker_list)}')\n",
    "assert len(filtered_tickers) > 0"
   ]
  },
  {
   "cell_type": "code",
   "execution_count": null,
   "metadata": {},
   "outputs": [],
   "source": []
  }
 ],
 "metadata": {
  "kernelspec": {
   "display_name": "Python 3",
   "language": "python",
   "name": "python3"
  },
  "language_info": {
   "codemirror_mode": {
    "name": "ipython",
    "version": 3
   },
   "file_extension": ".py",
   "mimetype": "text/x-python",
   "name": "python",
   "nbconvert_exporter": "python",
   "pygments_lexer": "ipython3",
   "version": "3.7.6"
  }
 },
 "nbformat": 4,
 "nbformat_minor": 4
}
