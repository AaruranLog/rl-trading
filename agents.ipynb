{
 "cells": [
  {
   "cell_type": "code",
   "execution_count": 1,
   "metadata": {},
   "outputs": [
    {
     "name": "stderr",
     "output_type": "stream",
     "text": [
      "/home/aaruran/miniconda3/lib/python3.7/site-packages/pandas_datareader/compat/__init__.py:7: FutureWarning: pandas.util.testing is deprecated. Use the functions in the public API at pandas.testing instead.\n",
      "  from pandas.util.testing import assert_frame_equal\n"
     ]
    }
   ],
   "source": [
    "from system import TradingEnv\n",
    "import torch\n",
    "import torch.nn as nn\n",
    "import torch.optim as optim\n",
    "from torch.autograd import Variable\n",
    "import torch.nn.functional as F\n",
    "import matplotlib.pyplot as plt\n",
    "from itertools import chain\n",
    "import numpy as np\n",
    "\n",
    "import random\n",
    "import math"
   ]
  },
  {
   "cell_type": "code",
   "execution_count": 2,
   "metadata": {},
   "outputs": [],
   "source": [
    "class ReplayMemory:\n",
    "    def __init__(self, capacity):\n",
    "        self.capacity = capacity\n",
    "        self.memory = []\n",
    "\n",
    "    def push(self, transition):\n",
    "        self.memory.append(transition)\n",
    "        if len(self.memory) > self.capacity:\n",
    "            del self.memory[0]\n",
    "\n",
    "    def sample(self, batch_size):\n",
    "        return random.sample(self.memory, batch_size)\n",
    "\n",
    "    def __len__(self):\n",
    "        return len(self.memory)"
   ]
  },
  {
   "cell_type": "code",
   "execution_count": 3,
   "metadata": {
    "colab": {},
    "colab_type": "code",
    "id": "Vlu9wCHd-oVS"
   },
   "outputs": [],
   "source": [
    "STATE_DIM = 360\n",
    "ACTION_DIM = 3\n",
    "EPISODES = 2000  # number of episodes\n",
    "EPS_START = 0.9  # e-greedy threshold start value\n",
    "EPS_END = 0.05  # e-greedy threshold end value\n",
    "EPS_DECAY = 200  # e-greedy threshold decay\n",
    "GAMMA = 0.99  # Q-learning discount factor\n",
    "LR = 0.001  # NN optimizer learning rate\n",
    "HIDDEN_LAYER = 10  # NN hidden layer size\n",
    "BATCH_SIZE = 500  # Q-learning batch size\n",
    "TARGET_UPDATE = 100  # frequency of target update\n",
    "BUFFER_SIZE = 10000  # capacity of the replay buffer \n",
    "\n",
    "# if gpu is to be used\n",
    "# use_cuda = torch.cuda.is_available()\n",
    "use_cuda = False\n",
    "FloatTensor = torch.cuda.FloatTensor if use_cuda else torch.FloatTensor\n",
    "LongTensor = torch.cuda.LongTensor if use_cuda else torch.LongTensor\n",
    "ByteTensor = torch.cuda.ByteTensor if use_cuda else torch.ByteTensor\n",
    "Tensor = FloatTensor"
   ]
  },
  {
   "cell_type": "code",
   "execution_count": 4,
   "metadata": {},
   "outputs": [
    {
     "name": "stdout",
     "output_type": "stream",
     "text": [
      "No GPU will be used\n"
     ]
    }
   ],
   "source": [
    "if use_cuda:\n",
    "    print('GPU found and in use')\n",
    "else:\n",
    "    print('No GPU will be used')"
   ]
  },
  {
   "cell_type": "markdown",
   "metadata": {
    "colab_type": "text",
    "id": "MA7IgkTA_Jsp"
   },
   "source": [
    "# Simple QNetwork \n",
    "Corresponds to a fully connected network with two hidden layers"
   ]
  },
  {
   "cell_type": "code",
   "execution_count": 5,
   "metadata": {
    "colab": {},
    "colab_type": "code",
    "id": "rpkLvLcR_WOl"
   },
   "outputs": [],
   "source": [
    "class QNetwork(nn.Module):\n",
    "    def __init__(self):\n",
    "        nn.Module.__init__(self)\n",
    "        self.l1 = nn.Linear(STATE_DIM, HIDDEN_LAYER)\n",
    "        self.l2 = nn.Linear(HIDDEN_LAYER, HIDDEN_LAYER)\n",
    "        self.l3 = nn.Linear(HIDDEN_LAYER, ACTION_DIM)\n",
    "\n",
    "    def forward(self, x):\n",
    "        \"\"\"\n",
    "            Computes the estimated Q-values for a given batch x\n",
    "        \"\"\"\n",
    "        x = F.relu(self.l1(x))\n",
    "        x = F.relu(self.l2(x))\n",
    "        x = self.l3(x)\n",
    "        return x      \n",
    "    \n",
    "    def sample_from_softmax_policy(self, batch_state):\n",
    "        batch_q_values = self.forward(batch_state)\n",
    "        batch_pi = F.softmax(batch_q_values, dim=1)\n",
    "        batch_size = batch_pi.shape[0]\n",
    "        batch_actions = torch.empty(batch_size, 1)\n",
    "        for i in range(batch_size):\n",
    "            pi = batch_pi[i, :]\n",
    "            dist = torch.distributions.Categorical(pi)\n",
    "            # Subtract 1, so batch_actions is in {-1, 0, 1}\n",
    "            batch_actions[i, 0] = dist.sample().view(1,1) - 1\n",
    "        if use_cuda:\n",
    "            batch_actions = batch_actions.to(batch_state.get_device())\n",
    "        return batch_actions.long()"
   ]
  },
  {
   "cell_type": "markdown",
   "metadata": {},
   "source": [
    "# Generic Training Agent"
   ]
  },
  {
   "cell_type": "code",
   "execution_count": 21,
   "metadata": {},
   "outputs": [
    {
     "name": "stdout",
     "output_type": "stream",
     "text": [
      "steps = 0\n",
      "steps = 50\n",
      "steps = 100\n",
      "steps = 150\n",
      "steps = 200\n",
      "steps = 250\n",
      "steps = 300\n",
      "steps = 350\n",
      "steps = 400\n",
      "steps = 450\n",
      "steps = 500\n",
      "steps = 550\n",
      "steps = 600\n",
      "steps = 650\n",
      "steps = 700\n",
      "steps = 750\n"
     ]
    }
   ],
   "source": [
    "class BaseAgent:\n",
    "    def __init__(self, gamma=0.8):\n",
    "        assert 0 < gamma < 1, f\"Invalid gamma: {gamma}\" \n",
    "        self.gamma = gamma\n",
    "        self.memory = ReplayMemory(BUFFER_SIZE)\n",
    "        \n",
    "    def run_episode(self, environment):\n",
    "        \"\"\"\n",
    "            Takes an env, and trains the agent until the environment\n",
    "            reaches a terminal state (ie the training window is complete).\n",
    "        \"\"\"\n",
    "        raise NotImplementedError()\n",
    "    \n",
    "    def plot_cumulative_discounted_rewards(self, rewards_list):\n",
    "        \"\"\"\n",
    "            rewards_list: an array of shape n_steps x n_episodes\n",
    "        \"\"\"\n",
    "        assert type(rewards_list) == np.ndarray, f\"Wrong type {type(rewards_list)}\"\n",
    "        \n",
    "        gamma_list = np.power(self.gamma, np.arange(len(rewards_list)))\n",
    "        discounted_rewards = gamma_list * rewards_list\n",
    "        \n",
    "        plt.plot(discounted_rewards.cumsum())\n",
    "        plt.grid()\n",
    "        plt.ylabel('Cumulative Discounted Rewards')\n",
    "\n",
    "    def convert_action(self, action):\n",
    "        \"\"\"\n",
    "            Takes action of shape 1 x 3, and converts into an integer in {-1, 0, 1}.\n",
    "            This integer is the position short/hold/long respectively.\n",
    "        \"\"\"\n",
    "        position = torch.argmax(action, dim=-1) - 1\n",
    "        assert position in [-1,0,1]\n",
    "        return position\n",
    "        \n",
    "class DQN(BaseAgent):\n",
    "    def __init__(self):\n",
    "        super().__init__()\n",
    "        self.model = QNetwork()\n",
    "        self.target = QNetwork()\n",
    "        self.optimizer = optim.Adam(self.model.parameters(), LR)\n",
    "        self.steps_done = 0\n",
    "        self.rewards_history = []\n",
    "\n",
    "    def select_epsilon_greedy_action(self, state):\n",
    "        sample = random.random()\n",
    "        eps_threshold = EPS_END + (EPS_START - EPS_END) * math.exp(-1. * self.steps_done / EPS_DECAY)\n",
    "        self.steps_done += 1\n",
    "        if sample > eps_threshold:\n",
    "            with torch.no_grad():\n",
    "                return self.target(state).data.max(1)[1].view(1, 1)\n",
    "        else:\n",
    "            return LongTensor([[random.randrange(3)]])\n",
    "    \n",
    "    def run_episode(self, environment):\n",
    "        state = environment.reset()\n",
    "        steps = 0\n",
    "        action = None\n",
    "        while True:\n",
    "            if steps % 50 == 0:\n",
    "                print(f'steps = {steps}')\n",
    "            state_tensor = FloatTensor([state])\n",
    "            action = self.select_epsilon_greedy_action(state_tensor)\n",
    "            position = self.convert_action(action)\n",
    "            next_state, reward, done, _ = environment.step(position)\n",
    "#             print(f'action = {action}')            \n",
    "#             print(f'position = {position}')\n",
    "#             print(f'next_state length = {len(next_state)}')\n",
    "#             print(f'reward = {reward}')\n",
    "            self.memory.push((FloatTensor([state]),\n",
    "                         action,  # action is already a tensor\n",
    "                         FloatTensor([next_state]),\n",
    "                         FloatTensor([reward]),\n",
    "                         FloatTensor([int(done)])))\n",
    "\n",
    "            self.learn()\n",
    "\n",
    "            state = next_state\n",
    "            steps += 1\n",
    "\n",
    "            if done:\n",
    "                break\n",
    "        self.rewards_history.append(environment.rewards_list)\n",
    "        \n",
    "    def max_next_q_values(self, batch_next_state):\n",
    "        # expected Q values are estimated from actions which gives maximum Q value\n",
    "        return self.target(batch_next_state).detach().max(1)[0]\n",
    "    \n",
    "    def learn(self):\n",
    "        if len(self.memory) <= BATCH_SIZE:\n",
    "            return\n",
    "        # random transition batch is taken from experience replay memory\n",
    "        transitions = self.memory.sample(BATCH_SIZE)\n",
    "        batch_state, batch_action, batch_next_state, batch_reward, batch_done = zip(*transitions)\n",
    "        batch_state = Variable(torch.cat(batch_state))\n",
    "        batch_action = Variable(torch.cat(batch_action))\n",
    "        batch_reward = Variable(torch.cat(batch_reward))\n",
    "        batch_next_state = Variable(torch.cat(batch_next_state))\n",
    "        batch_done = Variable(torch.cat(batch_done))\n",
    "\n",
    "        # current Q values are estimated by NN for all actions\n",
    "        current_q_values = self.model(batch_state).gather(1, batch_action).squeeze()\n",
    "        expected_future_rewards = self.max_next_q_values(batch_next_state)\n",
    "        \n",
    "        expected_q_values = batch_reward + (self.gamma * expected_future_rewards) * (1-batch_done)\n",
    "\n",
    "        # loss is measured from error between current and newly expected Q values\n",
    "        loss = F.mse_loss(current_q_values, expected_q_values)\n",
    "\n",
    "        # backpropagation of loss to QNetwork\n",
    "        self.optimizer.zero_grad()\n",
    "        loss.backward()\n",
    "        self.optimizer.step()\n",
    "\n",
    "    \n",
    "agent=DQN()\n",
    "env = TradingEnv()\n",
    "# for i in range(10):\n",
    "#     s = FloatTensor([env.reset()])\n",
    "#     agent.steps_done=100\n",
    "#     print(agent.select_epsilon_greedy_action(s))\n",
    "\n",
    "agent.run_episode(env)"
   ]
  },
  {
   "cell_type": "code",
   "execution_count": 22,
   "metadata": {},
   "outputs": [
    {
     "data": {
      "image/png": "[encoded data removed]",
      "text/plain": [
       "<Figure size 432x288 with 1 Axes>"
      ]
     },
     "metadata": {
      "needs_background": "light"
     },
     "output_type": "display_data"
    }
   ],
   "source": [
    "# plt.plot(env.rewards_list)\n",
    "agent.plot_cumulative_discounted_rewards(np.array(agent.rewards_history))"
   ]
  },
  {
   "cell_type": "code",
   "execution_count": 12,
   "metadata": {},
   "outputs": [
    {
     "data": {
      "text/plain": [
       "1011"
      ]
     },
     "execution_count": 12,
     "metadata": {},
     "output_type": "execute_result"
    }
   ],
   "source": [
    "env.df_index"
   ]
  },
  {
   "cell_type": "code",
   "execution_count": null,
   "metadata": {},
   "outputs": [],
   "source": [
    "import pandas as pd\n",
    "pd.isna(env.data.iloc[365])"
   ]
  },
  {
   "cell_type": "code",
   "execution_count": null,
   "metadata": {},
   "outputs": [],
   "source": [
    "%debug"
   ]
  },
  {
   "cell_type": "code",
   "execution_count": null,
   "metadata": {},
   "outputs": [],
   "source": [
    "agent.convert_action(FloatTensor([[0]]))\n",
    "# %debug"
   ]
  },
  {
   "cell_type": "markdown",
   "metadata": {},
   "source": [
    "# Policy Network"
   ]
  },
  {
   "cell_type": "code",
   "execution_count": null,
   "metadata": {},
   "outputs": [],
   "source": [
    "class PolicyNetwork(nn.Module):\n",
    "    # for Policy-Gradient methods, e.g. actor-only and actor-critic methods\n",
    "    def __init__(self):\n",
    "        nn.Module.__init__(self)\n",
    "        self.l1 = nn.Linear(4, HIDDEN_LAYER)\n",
    "        self.l2 = nn.Linear(HIDDEN_LAYER, HIDDEN_LAYER)\n",
    "        self.l3 = nn.Linear(HIDDEN_LAYER, 2) # 2, for the action\n",
    "\n",
    "    def forward(self, x, d=1, get_log=False):\n",
    "        x = F.relu(self.l1(x))\n",
    "        x = F.relu(self.l2(x))\n",
    "        if not get_log:\n",
    "            x = F.softmax(self.l3(x), dim=d)\n",
    "        else:\n",
    "            x = F.log_softmax(self.l3(x), dim=d)\n",
    "        return x\n",
    "    \n",
    "    def sample_from_softmax_policy(self, batch_state):\n",
    "        batch_pi = self.forward(batch_state)\n",
    "        batch_size = batch_pi.shape[0]\n",
    "        actions = torch.empty(batch_size, 1)\n",
    "        for i in range(batch_size):\n",
    "            pi = batch_pi[i, :]\n",
    "            dist = torch.distributions.Categorical(pi)\n",
    "            actions[i, 0] = dist.sample().view(1,1)\n",
    "        if use_cuda:\n",
    "            actions = actions.to(batch_state.get_device())\n",
    "        return actions.long()\n",
    "\n",
    "# p = PolicyNetwork()\n",
    "# state = env.reset()\n",
    "# state_tensor = FloatTensor([state]).cuda()\n",
    "# p.cuda()\n",
    "# p.forward(state_tensor, d=1), p.forward(state_tensor, d=-1)\n",
    "# p.sample_from_softmax_policy(torch.cat(5*[state_tensor])).shape"
   ]
  },
  {
   "cell_type": "code",
   "execution_count": null,
   "metadata": {},
   "outputs": [],
   "source": []
  }
 ],
 "metadata": {
  "kernelspec": {
   "display_name": "Python 3",
   "language": "python",
   "name": "python3"
  },
  "language_info": {
   "codemirror_mode": {
    "name": "ipython",
    "version": 3
   },
   "file_extension": ".py",
   "mimetype": "text/x-python",
   "name": "python",
   "nbconvert_exporter": "python",
   "pygments_lexer": "ipython3",
   "version": "3.7.6"
  }
 },
 "nbformat": 4,
 "nbformat_minor": 4
}
