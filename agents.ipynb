{
 "cells": [
  {
   "cell_type": "code",
   "execution_count": 1,
   "metadata": {},
   "outputs": [
    {
     "name": "stderr",
     "output_type": "stream",
     "text": [
      "/home/aaruran/miniconda3/lib/python3.7/site-packages/pandas_datareader/compat/__init__.py:7: FutureWarning: pandas.util.testing is deprecated. Use the functions in the public API at pandas.testing instead.\n",
      "  from pandas.util.testing import assert_frame_equal\n"
     ]
    }
   ],
   "source": [
    "from system import *\n",
    "import torch\n",
    "import torch.nn as nn\n",
    "import torch.optim as optim\n",
    "from torch.autograd import Variable\n",
    "import torch.nn.functional as F\n",
    "import matplotlib.pyplot as plt\n",
    "import seaborn as sns\n",
    "from itertools import chain\n",
    "import numpy as np\n",
    "import pandas as pd\n",
    "import random\n",
    "import math\n",
    "from tqdm import tqdm"
   ]
  },
  {
   "cell_type": "code",
   "execution_count": 2,
   "metadata": {},
   "outputs": [],
   "source": [
    "class ReplayMemory:\n",
    "    def __init__(self, capacity):\n",
    "        self.capacity = capacity\n",
    "        self.memory = []\n",
    "\n",
    "    def push(self, transition):\n",
    "        self.memory.append(transition)\n",
    "        if len(self.memory) > self.capacity:\n",
    "            del self.memory[0]\n",
    "\n",
    "    def sample(self, batch_size):\n",
    "        return random.sample(self.memory, batch_size)\n",
    "\n",
    "    def __len__(self):\n",
    "        return len(self.memory)"
   ]
  },
  {
   "cell_type": "code",
   "execution_count": 3,
   "metadata": {},
   "outputs": [],
   "source": [
    "sns.set()"
   ]
  },
  {
   "cell_type": "code",
   "execution_count": 11,
   "metadata": {
    "colab": {},
    "colab_type": "code",
    "id": "Vlu9wCHd-oVS"
   },
   "outputs": [
    {
     "name": "stdout",
     "output_type": "stream",
     "text": [
      "No GPU will be used\n"
     ]
    }
   ],
   "source": [
    "class ReplayMemory:\n",
    "    def __init__(self, capacity):\n",
    "        self.capacity = capacity\n",
    "        self.memory = []\n",
    "\n",
    "    def push(self, transition):\n",
    "        self.memory.append(transition)\n",
    "        if len(self.memory) > self.capacity:\n",
    "            del self.memory[0]\n",
    "\n",
    "    def sample(self, batch_size):\n",
    "        return random.sample(self.memory, batch_size)\n",
    "\n",
    "    def __len__(self):\n",
    "        return len(self.memory)\n",
    "\n",
    "STATE_DIM = len(TradingEnv().reset())\n",
    "#     print(f\"STATE_DIM = {STATE_DIM}\")\n",
    "EMBED_DIM = 50  # from the dimensionality-reduced fastText model\n",
    "HIDDEN_LAYER = 70  # NN hidden layer size\n",
    "ACTION_DIM = 3\n",
    "\n",
    "# EPISODES = 2000  # number of episodes\n",
    "# EPS_START = 0.9  # e-greedy threshold start value\n",
    "# EPS_END = 0.05  # e-greedy threshold end value\n",
    "# EPS_DECAY = 200  # e-greedy threshold decay\n",
    "# # GAMMA = 0.99  # Q-learning discount factor\n",
    "# LR = 0.001  # NN optimizer learning rate\n",
    "# HIDDEN_LAYER = 128  # NN hidden layer size\n",
    "# BATCH_SIZE = 16  # Q-learning batch size\n",
    "# TARGET_UPDATE = 100  # frequency of target update\n",
    "# BUFFER_SIZE = 100  # capacity of the replay buffer\n",
    "\n",
    "# if gpu is to be used\n",
    "# use_cuda = torch.cuda.is_available()\n",
    "use_cuda = False\n",
    "FloatTensor = torch.cuda.FloatTensor if use_cuda else torch.FloatTensor\n",
    "LongTensor = torch.cuda.LongTensor if use_cuda else torch.LongTensor\n",
    "ByteTensor = torch.cuda.ByteTensor if use_cuda else torch.ByteTensor\n",
    "Tensor = FloatTensor\n",
    "\n",
    "\n",
    "if use_cuda:\n",
    "    print(\"GPU found and in use\")\n",
    "else:\n",
    "    print(\"No GPU will be used\")\n",
    "\n",
    "\n",
    "class QNetwork(nn.Module):\n",
    "    def __init__(self):\n",
    "        nn.Module.__init__(self)\n",
    "        self.l1 = nn.Linear(STATE_DIM, HIDDEN_LAYER)\n",
    "        self.l2 = nn.Linear(HIDDEN_LAYER, HIDDEN_LAYER)\n",
    "        self.l3 = nn.Linear(HIDDEN_LAYER, ACTION_DIM)\n",
    "\n",
    "    def forward(self, x):\n",
    "        \"\"\"\n",
    "            Computes the estimated Q-values for a given batch x\n",
    "        \"\"\"\n",
    "        assert not torch.isnan(x).any(), f\"NaN in input {x}\"\n",
    "        x = F.relu(self.l1(x))\n",
    "        x = F.relu(self.l2(x))\n",
    "        x = self.l3(x)\n",
    "        return x\n",
    "\n",
    "    def sample_from_softmax_policy(self, batch_state):\n",
    "        batch_q_values = self.forward(batch_state)\n",
    "        batch_pi = F.softmax(batch_q_values, dim=1)\n",
    "        batch_size = batch_pi.shape[0]\n",
    "        batch_actions = torch.empty(batch_size, 1)\n",
    "        for i in range(batch_size):\n",
    "            pi = batch_pi[i, :]\n",
    "            dist = torch.distributions.Categorical(pi)\n",
    "            # Subtract 1, so batch_actions is in {-1, 0, 1}\n",
    "            batch_actions[i, 0] = dist.sample().view(1, 1) - 1\n",
    "        if use_cuda:\n",
    "            batch_actions = batch_actions.to(batch_state.get_device())\n",
    "        return batch_actions.long()\n",
    "\n",
    "\n",
    "class BaseAgent:\n",
    "#     EPISODES = 2000  # number of episodes\n",
    "    \n",
    "    LR = 0.001  # NN optimizer learning rate\n",
    "    \n",
    "    BATCH_SIZE = 16  # Q-learning batch size\n",
    "    TARGET_UPDATE = 100  # frequency of target update\n",
    "    BUFFER_SIZE = 100  # capacity of the replay buffer\n",
    "\n",
    "    def __init__(self, gamma=0.8):\n",
    "        assert 0 < gamma < 1, f\"Invalid gamma: {gamma}\"\n",
    "        sns.set()\n",
    "        self.gamma = gamma\n",
    "        self.memory = ReplayMemory(self.BUFFER_SIZE)\n",
    "        self.history = pd.DataFrame()\n",
    "#         self.rewards_history = []\n",
    "        self.name = \"\"\n",
    "        self.steps_done = 0\n",
    "        with open(\"filtered_tickers.txt\", \"r\") as src:\n",
    "            self.filtered_tickers = src.read().split(\"\\n\")\n",
    "\n",
    "    def run_episode(self, environment):\n",
    "        \"\"\"\n",
    "            Takes an env, and trains the agent until the environment\n",
    "            reaches a terminal state (ie the training window is complete).\n",
    "            Must return environment.close()\n",
    "        \"\"\"\n",
    "        raise NotImplementedError()\n",
    "\n",
    "    def plot_cumulative_discounted_rewards(self):\n",
    "        rl_data = self.history\n",
    "        rl_data[\"discount_factor\"] = np.power(self.gamma, rl_data.episode - 1)\n",
    "        rl_data[\"discounted_future_reward\"] = (\n",
    "            rl_data[\"discount_factor\"] * rl_data[\"rewards\"]\n",
    "        )\n",
    "        rl_data = rl_data[[\"episode\", \"discounted_future_reward\"]]\n",
    "        rl_data = rl_data.groupby(\"episode\").sum()\n",
    "        #         rl_plot = sns.lineplot(data=rl_data, legend=False)\n",
    "        title = \"Cumulative Discounted Rewards over Episodes\"\n",
    "        if len(self.name):\n",
    "            title = f'Cumulative Discounted Reward for {self.name}'\n",
    "            \n",
    "        rl_data.plot(legend=False, title=title)\n",
    "        plt.ylabel(\"Cumulative Discounted Reward\")\n",
    "        if len(self.name):\n",
    "            filename = f'plots/rewards-{self.name}.png'\n",
    "            plt.savefig(filename)\n",
    "        plt.show()\n",
    "\n",
    "    def convert_action(self, action):\n",
    "        assert action in [0,1,2], f'Invalid action: {action}'\n",
    "        position = action - 1\n",
    "        #         assert position in [-1,0,1]\n",
    "        return position.item()\n",
    "\n",
    "    def train(self, env_mode=\"train\", num_tickers=20, num_episodes=5):\n",
    "        \"\"\"\n",
    "            Trains the agent for num_episodes episodes, looping over the approved\n",
    "            list of tickers (filtered by num_tickers). This is a convenience function.\n",
    "        \"\"\"\n",
    "        num_tickers = min(num_tickers, len(self.filtered_tickers))\n",
    "        if num_tickers == np.Inf:\n",
    "            num_tickers = len(self.filtered_tickers)\n",
    "        self.history = pd.DataFrame()\n",
    "        for i in tqdm(range(num_episodes)):\n",
    "            ticker = self.filtered_tickers[i % num_tickers]\n",
    "            env = TradingEnv(ticker=ticker, mode=env_mode)\n",
    "            history = self.run_episode(env)\n",
    "            history[\"ticker\"] = ticker\n",
    "            history[\"episode\"] = i + 1\n",
    "            self.history = pd.concat((self.history, history))\n",
    "        self.history = self.history.reset_index(\"Date\", drop=True)\n",
    "#         self.plot_returns(num_tickers)\n",
    "#         self.plot_cumulative_discounted_rewards()\n",
    "\n",
    "    def plot_returns(self, ticker):\n",
    "        h = self.history\n",
    "        roi_data = h[h.ticker == ticker][[\"date\", \"episode\", \"returns\"]]\n",
    "        plt.title(f\"Returns for {ticker}\")\n",
    "        roi_plot = sns.lineplot(data=h, x=\"date\", y=\"returns\", hue=\"episode\")\n",
    "        roi_plot.set_xticklabels(roi_plot.get_xticklabels(), rotation=45)\n"
   ]
  },
  {
   "cell_type": "code",
   "execution_count": 12,
   "metadata": {},
   "outputs": [],
   "source": [
    "class DQN(BaseAgent):\n",
    "    EPS_START = 0.9  # e-greedy threshold start value\n",
    "    EPS_END = 0.05  # e-greedy threshold end value\n",
    "    EPS_DECAY = 200  # e-greedy threshold decay\n",
    "    LR = 0.001  # NN optimizer learning rate\n",
    "\n",
    "    def __init__(self):\n",
    "        super().__init__()\n",
    "        self.model = QNetwork()\n",
    "        self.target = QNetwork()\n",
    "        if use_cuda:\n",
    "            self.model.cuda()\n",
    "            self.target.cuda()\n",
    "        self.name = \"Deep Q-Network\"\n",
    "        self.optimizer = optim.SGD(self.model.parameters(), self.LR)\n",
    "\n",
    "    def select_epsilon_greedy_action(self, state):\n",
    "        sample = random.random()\n",
    "        eps_threshold = self.EPS_END + (self.EPS_START - self.EPS_END) * math.exp(\n",
    "            -1.0 * self.steps_done / self.EPS_DECAY\n",
    "        )\n",
    "        self.steps_done += 1\n",
    "        greedy_action = None\n",
    "        with torch.no_grad():\n",
    "            greedy_action = self.model(state).data.argmax(dim=1).view(1, 1)\n",
    "\n",
    "        random_action = LongTensor([[random.randrange(ACTION_DIM)]])\n",
    "        assert (\n",
    "            greedy_action.shape == random_action.shape\n",
    "        ), f\"Incorrect sampling techinque {greedy_action.shape, random_action.shape}\"\n",
    "        if sample > eps_threshold:\n",
    "            return greedy_action\n",
    "        else:\n",
    "            return random_action\n",
    "\n",
    "    def run_episode(self, environment):\n",
    "        state = environment.reset()\n",
    "        steps = 0\n",
    "        action = None\n",
    "        while True:\n",
    "            state_tensor = FloatTensor([state])\n",
    "            action = self.select_epsilon_greedy_action(state_tensor)\n",
    "            position = self.convert_action(action)\n",
    "            next_state, reward, done, _ = environment.step(position)\n",
    "\n",
    "            self.memory.push(\n",
    "                (\n",
    "                    FloatTensor([state]),\n",
    "                    action,  # action is already a tensor\n",
    "                    FloatTensor([next_state]),\n",
    "                    FloatTensor([reward]),\n",
    "                    FloatTensor([int(done)]),\n",
    "                )\n",
    "            )\n",
    "\n",
    "            self.learn()\n",
    "            if self.steps_done % self.TARGET_UPDATE == 0:\n",
    "                self.target.load_state_dict(self.model.state_dict())\n",
    "\n",
    "            state = next_state\n",
    "            steps += 1\n",
    "            if done:\n",
    "                break\n",
    "        history = environment.close()\n",
    "        return history\n",
    "\n",
    "    def max_next_q_values(self, batch_next_state):\n",
    "        # expected Q values are estimated from actions which gives maximum Q value\n",
    "        return self.target(batch_next_state).detach().max(1)[0]\n",
    "\n",
    "    def learn(self):\n",
    "        if len(self.memory) <= self.BATCH_SIZE:\n",
    "            return\n",
    "        # random transition batch is taken from experience replay memory\n",
    "        transitions = self.memory.sample(self.BATCH_SIZE)\n",
    "        batch_state, batch_action, batch_next_state, batch_reward, batch_done = zip(\n",
    "            *transitions\n",
    "        )\n",
    "        batch_state = Variable(torch.cat(batch_state))\n",
    "        batch_action = Variable(torch.cat(batch_action))\n",
    "        batch_reward = Variable(torch.cat(batch_reward))\n",
    "        batch_next_state = Variable(torch.cat(batch_next_state))\n",
    "        batch_done = Variable(torch.cat(batch_done))\n",
    "\n",
    "        # current Q values are estimated by NN for all actions\n",
    "        current_q_values = self.model(batch_state).gather(1, batch_action).squeeze()\n",
    "        expected_future_rewards = self.max_next_q_values(batch_next_state)\n",
    "\n",
    "        expected_q_values = batch_reward + (self.gamma * expected_future_rewards) * (\n",
    "            1 - batch_done\n",
    "        )\n",
    "\n",
    "        # loss is measured from error between current and newly expected Q values\n",
    "        loss = F.mse_loss(current_q_values, expected_q_values)\n",
    "\n",
    "        # backpropagation of loss to QNetwork\n",
    "        self.optimizer.zero_grad()\n",
    "        loss.backward()\n",
    "        self.optimizer.step()\n"
   ]
  },
  {
   "cell_type": "code",
   "execution_count": 16,
   "metadata": {},
   "outputs": [
    {
     "name": "stderr",
     "output_type": "stream",
     "text": [
      "100%|██████████| 429/429 [10:59<00:00,  1.54s/it]\n"
     ]
    }
   ],
   "source": [
    "dqn_agent = DQN()\n",
    "dqn_agent.train(num_tickers=len(dqn_agent.filtered_tickers), \n",
    "                num_episodes=len(dqn_agent.filtered_tickers) * 1)"
   ]
  },
  {
   "cell_type": "code",
   "execution_count": 17,
   "metadata": {},
   "outputs": [
    {
     "data": {
      "image/png": "[encoded data removed]",
      "text/plain": [
       "<Figure size 432x288 with 1 Axes>"
      ]
     },
     "metadata": {},
     "output_type": "display_data"
    }
   ],
   "source": [
    "dqn_agent.plot_cumulative_discounted_rewards()"
   ]
  },
  {
   "cell_type": "code",
   "execution_count": null,
   "metadata": {},
   "outputs": [],
   "source": []
  },
  {
   "cell_type": "code",
   "execution_count": null,
   "metadata": {},
   "outputs": [],
   "source": [
    "# plt.ylim(-1000,1000)\n",
    "dqn_agent.plot_returns('MMM')"
   ]
  },
  {
   "cell_type": "code",
   "execution_count": 13,
   "metadata": {},
   "outputs": [
    {
     "data": {
      "text/plain": [
       "<seaborn.axisgrid.FacetGrid at 0x7f5868098590>"
      ]
     },
     "execution_count": 13,
     "metadata": {},
     "output_type": "execute_result"
    },
    {
     "data": {
      "image/png": "[encoded data removed]",
      "text/plain": [
       "<Figure size 1391.04x216 with 3 Axes>"
      ]
     },
     "metadata": {},
     "output_type": "display_data"
    }
   ],
   "source": [
    "q = sns.FacetGrid(dqn_agent.history, col='episode', col_wrap=4, aspect=1.61)\n",
    "q.map(sns.lineplot, 'date', 'returns')"
   ]
  },
  {
   "cell_type": "markdown",
   "metadata": {},
   "source": [
    "# LongOnly Agent"
   ]
  },
  {
   "cell_type": "code",
   "execution_count": 19,
   "metadata": {},
   "outputs": [],
   "source": [
    "class LongOnlyAgent(BaseAgent):\n",
    "    def __init__(self):\n",
    "        super().__init__()\n",
    "        self.name = \"Long-Only Strategy\"\n",
    "\n",
    "    def run_episode(self, environment):\n",
    "        state = environment.reset()\n",
    "        steps = 0\n",
    "        position = 1\n",
    "        while True:\n",
    "            _, r, done, __ = environment.step(position)\n",
    "            self.steps_done += 1\n",
    "            steps += 1\n",
    "            if done:\n",
    "                break\n",
    "        self.history.append(environment.rewards_list)\n",
    "        return environment.close()\n"
   ]
  },
  {
   "cell_type": "code",
   "execution_count": 20,
   "metadata": {},
   "outputs": [],
   "source": [
    "long_agent = LongOnlyAgent()"
   ]
  },
  {
   "cell_type": "code",
   "execution_count": 23,
   "metadata": {},
   "outputs": [
    {
     "name": "stderr",
     "output_type": "stream",
     "text": [
      "100%|██████████| 429/429 [07:01<00:00,  1.02it/s]\n"
     ]
    }
   ],
   "source": [
    "long_agent.train(num_tickers=len(long_agent.filtered_tickers), \n",
    "                num_episodes=len(long_agent.filtered_tickers) * 1)"
   ]
  },
  {
   "cell_type": "code",
   "execution_count": 24,
   "metadata": {},
   "outputs": [
    {
     "data": {
      "image/png": "[encoded data removed]",
      "text/plain": [
       "<Figure size 432x288 with 1 Axes>"
      ]
     },
     "metadata": {},
     "output_type": "display_data"
    }
   ],
   "source": [
    "long_agent.plot_cumulative_discounted_rewards()"
   ]
  },
  {
   "cell_type": "code",
   "execution_count": 21,
   "metadata": {},
   "outputs": [
    {
     "data": {
      "text/plain": [
       "<seaborn.axisgrid.FacetGrid at 0x7f586c53c850>"
      ]
     },
     "execution_count": 21,
     "metadata": {},
     "output_type": "execute_result"
    },
    {
     "data": {
      "image/png": "[encoded data removed]",
      "text/plain": [
       "<Figure size 1391.04x432 with 5 Axes>"
      ]
     },
     "metadata": {},
     "output_type": "display_data"
    }
   ],
   "source": [
    "q = sns.FacetGrid(long_agent.history[long_agent.history.episode % 20 == 0], col='episode', col_wrap=4, aspect=1.61)\n",
    "q.map(sns.lineplot, 'date', 'returns')"
   ]
  },
  {
   "cell_type": "markdown",
   "metadata": {},
   "source": [
    "# Policy Network"
   ]
  },
  {
   "cell_type": "code",
   "execution_count": 31,
   "metadata": {},
   "outputs": [],
   "source": [
    "class PolicyNetwork(nn.Module):\n",
    "    # for Policy-Gradient methods, e.g. actor-only and actor-critic methods\n",
    "    def __init__(self):\n",
    "        nn.Module.__init__(self)\n",
    "        self.l1 = nn.Linear(STATE_DIM, HIDDEN_LAYER)\n",
    "        self.l2 = nn.Linear(HIDDEN_LAYER, ACTION_DIM)\n",
    "#         self.l2 = nn.Linear(HIDDEN_LAYER, HIDDEN_LAYER)\n",
    "#         self.l3 = nn.Linear(HIDDEN_LAYER, ACTION_DIM)\n",
    "\n",
    "    def forward(self, x, logits=True):\n",
    "        \"\"\"\n",
    "            returns the logits of the probability\n",
    "        \"\"\"\n",
    "        assert not torch.isnan(x).any(), f\"NaN in input {x}\"\n",
    "        x = F.relu(self.l1(x))\n",
    "        x = self.l2(x)\n",
    "#         x = F.relu(self.l2(x))\n",
    "#         x = self.l3(x)\n",
    "        if not logits:\n",
    "            x = torch.softmax(x, dim=1)\n",
    "        return x\n",
    "\n",
    "    def sample_from_softmax_policy(self, batch_state):\n",
    "        batch_logits = self.forward(batch_state).detach()\n",
    "        assert not torch.isnan(batch_logits).any(), f\"NaN in policy logits {batch_logits}\"\n",
    "        batch_size = batch_logits.shape[0]\n",
    "        actions = torch.empty(batch_size, 1)\n",
    "        for i in range(batch_size):\n",
    "            logits = batch_logits[i, :]\n",
    "            dist = torch.distributions.Categorical(logits=logits)\n",
    "            actions[i, 0] = dist.sample().view(1, 1)\n",
    "        if use_cuda:\n",
    "            actions = actions.to(batch_state.get_device())\n",
    "        return actions.long()"
   ]
  },
  {
   "cell_type": "markdown",
   "metadata": {},
   "source": [
    "# A2C"
   ]
  },
  {
   "cell_type": "code",
   "execution_count": 32,
   "metadata": {},
   "outputs": [],
   "source": [
    "class A2C(BaseAgent):\n",
    "    def __init__(self):\n",
    "        super().__init__()\n",
    "        self.name = \"A2C\"\n",
    "        self.policy = PolicyNetwork()\n",
    "        self.model = QNetwork()\n",
    "        if use_cuda:\n",
    "            self.policy.cuda()\n",
    "            self.model.cuda()\n",
    "\n",
    "        self.optimizer = optim.SGD(\n",
    "            chain(self.model.parameters(), self.policy.parameters()), self.LR\n",
    "        )\n",
    "\n",
    "    def run_episode(self, environment):\n",
    "        state = environment.reset()\n",
    "        self.steps_done = 0\n",
    "        action = None\n",
    "        while True:\n",
    "            state_tensor = FloatTensor([state])\n",
    "            action = self.policy.sample_from_softmax_policy(state_tensor)\n",
    "            position = self.convert_action(action)\n",
    "            next_state, reward, done, _ = environment.step(position)\n",
    "            next_state_tensor = FloatTensor([next_state])\n",
    "            self.learn(state_tensor, action, next_state_tensor, reward)\n",
    "            state = next_state\n",
    "            self.steps_done += 1\n",
    "            if done:\n",
    "                break\n",
    "        history = environment.close()\n",
    "        return history\n",
    "\n",
    "    def learn(self, state_tensor, action, next_state_tensor, reward):\n",
    "        n = self.steps_done\n",
    "        q_values = self.model(state_tensor)\n",
    "        q_values_detached = q_values.detach()\n",
    "        pi = self.policy(state_tensor, logits=False)\n",
    "        with torch.no_grad():\n",
    "            pi_detached = pi.detach()\n",
    "            q = q_values_detached.gather(1, action)\n",
    "            future_q = reward + self.gamma * self.model(next_state_tensor).max(dim=1)[0].detach()\n",
    "            delta = future_q - q\n",
    "\n",
    "            A = future_q - torch.dot(\n",
    "                q_values_detached.squeeze(0), pi_detached.squeeze(0)\n",
    "            )\n",
    "\n",
    "        q_loss = delta * q_values.gather(1, action)\n",
    "        pi_a = pi.gather(1, action)\n",
    "        policy_loss = A * torch.log(pi_a)\n",
    "\n",
    "        loss = (self.gamma ** n) * (policy_loss + q_loss)\n",
    "\n",
    "        # backpropagation of loss to QNetwork and PolicyNetwork\n",
    "        self.optimizer.zero_grad()\n",
    "        loss.backward()\n",
    "        self.optimizer.step()\n"
   ]
  },
  {
   "cell_type": "code",
   "execution_count": 33,
   "metadata": {},
   "outputs": [
    {
     "name": "stderr",
     "output_type": "stream",
     "text": [
      " 53%|█████▎    | 227/429 [04:45<04:14,  1.26s/it]\n"
     ]
    },
    {
     "ename": "AssertionError",
     "evalue": "NaN in policy logits tensor([[nan, nan, nan]])",
     "output_type": "error",
     "traceback": [
      "\u001b[0;31m---------------------------------------------------------------------------\u001b[0m",
      "\u001b[0;31mAssertionError\u001b[0m                            Traceback (most recent call last)",
      "\u001b[0;32m<ipython-input-33-1e22402a9e49>\u001b[0m in \u001b[0;36m<module>\u001b[0;34m\u001b[0m\n\u001b[1;32m      1\u001b[0m \u001b[0ma2c_agent\u001b[0m \u001b[0;34m=\u001b[0m \u001b[0mA2C\u001b[0m\u001b[0;34m(\u001b[0m\u001b[0;34m)\u001b[0m\u001b[0;34m\u001b[0m\u001b[0;34m\u001b[0m\u001b[0m\n\u001b[1;32m      2\u001b[0m a2c_agent.train(num_tickers=len(a2c_agent.filtered_tickers),\n\u001b[0;32m----> 3\u001b[0;31m                 num_episodes=len(a2c_agent.filtered_tickers))\n\u001b[0m",
      "\u001b[0;32m<ipython-input-11-073014297462>\u001b[0m in \u001b[0;36mtrain\u001b[0;34m(self, env_mode, num_tickers, num_episodes)\u001b[0m\n\u001b[1;32m    146\u001b[0m             \u001b[0mticker\u001b[0m \u001b[0;34m=\u001b[0m \u001b[0mself\u001b[0m\u001b[0;34m.\u001b[0m\u001b[0mfiltered_tickers\u001b[0m\u001b[0;34m[\u001b[0m\u001b[0mi\u001b[0m \u001b[0;34m%\u001b[0m \u001b[0mnum_tickers\u001b[0m\u001b[0;34m]\u001b[0m\u001b[0;34m\u001b[0m\u001b[0;34m\u001b[0m\u001b[0m\n\u001b[1;32m    147\u001b[0m             \u001b[0menv\u001b[0m \u001b[0;34m=\u001b[0m \u001b[0mTradingEnv\u001b[0m\u001b[0;34m(\u001b[0m\u001b[0mticker\u001b[0m\u001b[0;34m=\u001b[0m\u001b[0mticker\u001b[0m\u001b[0;34m,\u001b[0m \u001b[0mmode\u001b[0m\u001b[0;34m=\u001b[0m\u001b[0menv_mode\u001b[0m\u001b[0;34m)\u001b[0m\u001b[0;34m\u001b[0m\u001b[0;34m\u001b[0m\u001b[0m\n\u001b[0;32m--> 148\u001b[0;31m             \u001b[0mhistory\u001b[0m \u001b[0;34m=\u001b[0m \u001b[0mself\u001b[0m\u001b[0;34m.\u001b[0m\u001b[0mrun_episode\u001b[0m\u001b[0;34m(\u001b[0m\u001b[0menv\u001b[0m\u001b[0;34m)\u001b[0m\u001b[0;34m\u001b[0m\u001b[0;34m\u001b[0m\u001b[0m\n\u001b[0m\u001b[1;32m    149\u001b[0m             \u001b[0mhistory\u001b[0m\u001b[0;34m[\u001b[0m\u001b[0;34m\"ticker\"\u001b[0m\u001b[0;34m]\u001b[0m \u001b[0;34m=\u001b[0m \u001b[0mticker\u001b[0m\u001b[0;34m\u001b[0m\u001b[0;34m\u001b[0m\u001b[0m\n\u001b[1;32m    150\u001b[0m             \u001b[0mhistory\u001b[0m\u001b[0;34m[\u001b[0m\u001b[0;34m\"episode\"\u001b[0m\u001b[0;34m]\u001b[0m \u001b[0;34m=\u001b[0m \u001b[0mi\u001b[0m \u001b[0;34m+\u001b[0m \u001b[0;36m1\u001b[0m\u001b[0;34m\u001b[0m\u001b[0;34m\u001b[0m\u001b[0m\n",
      "\u001b[0;32m<ipython-input-32-d470bc07c583>\u001b[0m in \u001b[0;36mrun_episode\u001b[0;34m(self, environment)\u001b[0m\n\u001b[1;32m     19\u001b[0m         \u001b[0;32mwhile\u001b[0m \u001b[0;32mTrue\u001b[0m\u001b[0;34m:\u001b[0m\u001b[0;34m\u001b[0m\u001b[0;34m\u001b[0m\u001b[0m\n\u001b[1;32m     20\u001b[0m             \u001b[0mstate_tensor\u001b[0m \u001b[0;34m=\u001b[0m \u001b[0mFloatTensor\u001b[0m\u001b[0;34m(\u001b[0m\u001b[0;34m[\u001b[0m\u001b[0mstate\u001b[0m\u001b[0;34m]\u001b[0m\u001b[0;34m)\u001b[0m\u001b[0;34m\u001b[0m\u001b[0;34m\u001b[0m\u001b[0m\n\u001b[0;32m---> 21\u001b[0;31m             \u001b[0maction\u001b[0m \u001b[0;34m=\u001b[0m \u001b[0mself\u001b[0m\u001b[0;34m.\u001b[0m\u001b[0mpolicy\u001b[0m\u001b[0;34m.\u001b[0m\u001b[0msample_from_softmax_policy\u001b[0m\u001b[0;34m(\u001b[0m\u001b[0mstate_tensor\u001b[0m\u001b[0;34m)\u001b[0m\u001b[0;34m\u001b[0m\u001b[0;34m\u001b[0m\u001b[0m\n\u001b[0m\u001b[1;32m     22\u001b[0m             \u001b[0mposition\u001b[0m \u001b[0;34m=\u001b[0m \u001b[0mself\u001b[0m\u001b[0;34m.\u001b[0m\u001b[0mconvert_action\u001b[0m\u001b[0;34m(\u001b[0m\u001b[0maction\u001b[0m\u001b[0;34m)\u001b[0m\u001b[0;34m\u001b[0m\u001b[0;34m\u001b[0m\u001b[0m\n\u001b[1;32m     23\u001b[0m             \u001b[0mnext_state\u001b[0m\u001b[0;34m,\u001b[0m \u001b[0mreward\u001b[0m\u001b[0;34m,\u001b[0m \u001b[0mdone\u001b[0m\u001b[0;34m,\u001b[0m \u001b[0m_\u001b[0m \u001b[0;34m=\u001b[0m \u001b[0menvironment\u001b[0m\u001b[0;34m.\u001b[0m\u001b[0mstep\u001b[0m\u001b[0;34m(\u001b[0m\u001b[0mposition\u001b[0m\u001b[0;34m)\u001b[0m\u001b[0;34m\u001b[0m\u001b[0;34m\u001b[0m\u001b[0m\n",
      "\u001b[0;32m<ipython-input-31-5e02bc9819d4>\u001b[0m in \u001b[0;36msample_from_softmax_policy\u001b[0;34m(self, batch_state)\u001b[0m\n\u001b[1;32m     23\u001b[0m     \u001b[0;32mdef\u001b[0m \u001b[0msample_from_softmax_policy\u001b[0m\u001b[0;34m(\u001b[0m\u001b[0mself\u001b[0m\u001b[0;34m,\u001b[0m \u001b[0mbatch_state\u001b[0m\u001b[0;34m)\u001b[0m\u001b[0;34m:\u001b[0m\u001b[0;34m\u001b[0m\u001b[0;34m\u001b[0m\u001b[0m\n\u001b[1;32m     24\u001b[0m         \u001b[0mbatch_logits\u001b[0m \u001b[0;34m=\u001b[0m \u001b[0mself\u001b[0m\u001b[0;34m.\u001b[0m\u001b[0mforward\u001b[0m\u001b[0;34m(\u001b[0m\u001b[0mbatch_state\u001b[0m\u001b[0;34m)\u001b[0m\u001b[0;34m.\u001b[0m\u001b[0mdetach\u001b[0m\u001b[0;34m(\u001b[0m\u001b[0;34m)\u001b[0m\u001b[0;34m\u001b[0m\u001b[0;34m\u001b[0m\u001b[0m\n\u001b[0;32m---> 25\u001b[0;31m         \u001b[0;32massert\u001b[0m \u001b[0;32mnot\u001b[0m \u001b[0mtorch\u001b[0m\u001b[0;34m.\u001b[0m\u001b[0misnan\u001b[0m\u001b[0;34m(\u001b[0m\u001b[0mbatch_logits\u001b[0m\u001b[0;34m)\u001b[0m\u001b[0;34m.\u001b[0m\u001b[0many\u001b[0m\u001b[0;34m(\u001b[0m\u001b[0;34m)\u001b[0m\u001b[0;34m,\u001b[0m \u001b[0;34mf\"NaN in policy logits {batch_logits}\"\u001b[0m\u001b[0;34m\u001b[0m\u001b[0;34m\u001b[0m\u001b[0m\n\u001b[0m\u001b[1;32m     26\u001b[0m         \u001b[0mbatch_size\u001b[0m \u001b[0;34m=\u001b[0m \u001b[0mbatch_logits\u001b[0m\u001b[0;34m.\u001b[0m\u001b[0mshape\u001b[0m\u001b[0;34m[\u001b[0m\u001b[0;36m0\u001b[0m\u001b[0;34m]\u001b[0m\u001b[0;34m\u001b[0m\u001b[0;34m\u001b[0m\u001b[0m\n\u001b[1;32m     27\u001b[0m         \u001b[0mactions\u001b[0m \u001b[0;34m=\u001b[0m \u001b[0mtorch\u001b[0m\u001b[0;34m.\u001b[0m\u001b[0mempty\u001b[0m\u001b[0;34m(\u001b[0m\u001b[0mbatch_size\u001b[0m\u001b[0;34m,\u001b[0m \u001b[0;36m1\u001b[0m\u001b[0;34m)\u001b[0m\u001b[0;34m\u001b[0m\u001b[0;34m\u001b[0m\u001b[0m\n",
      "\u001b[0;31mAssertionError\u001b[0m: NaN in policy logits tensor([[nan, nan, nan]])"
     ]
    }
   ],
   "source": [
    "a2c_agent = A2C()\n",
    "a2c_agent.train(num_tickers=len(a2c_agent.filtered_tickers),\n",
    "                num_episodes=len(a2c_agent.filtered_tickers))"
   ]
  },
  {
   "cell_type": "code",
   "execution_count": null,
   "metadata": {},
   "outputs": [
    {
     "name": "stdout",
     "output_type": "stream",
     "text": [
      "> \u001b[0;32m<ipython-input-31-5e02bc9819d4>\u001b[0m(25)\u001b[0;36msample_from_softmax_policy\u001b[0;34m()\u001b[0m\n",
      "\u001b[0;32m     23 \u001b[0;31m    \u001b[0;32mdef\u001b[0m \u001b[0msample_from_softmax_policy\u001b[0m\u001b[0;34m(\u001b[0m\u001b[0mself\u001b[0m\u001b[0;34m,\u001b[0m \u001b[0mbatch_state\u001b[0m\u001b[0;34m)\u001b[0m\u001b[0;34m:\u001b[0m\u001b[0;34m\u001b[0m\u001b[0;34m\u001b[0m\u001b[0m\n",
      "\u001b[0m\u001b[0;32m     24 \u001b[0;31m        \u001b[0mbatch_logits\u001b[0m \u001b[0;34m=\u001b[0m \u001b[0mself\u001b[0m\u001b[0;34m.\u001b[0m\u001b[0mforward\u001b[0m\u001b[0;34m(\u001b[0m\u001b[0mbatch_state\u001b[0m\u001b[0;34m)\u001b[0m\u001b[0;34m.\u001b[0m\u001b[0mdetach\u001b[0m\u001b[0;34m(\u001b[0m\u001b[0;34m)\u001b[0m\u001b[0;34m\u001b[0m\u001b[0;34m\u001b[0m\u001b[0m\n",
      "\u001b[0m\u001b[0;32m---> 25 \u001b[0;31m        \u001b[0;32massert\u001b[0m \u001b[0;32mnot\u001b[0m \u001b[0mtorch\u001b[0m\u001b[0;34m.\u001b[0m\u001b[0misnan\u001b[0m\u001b[0;34m(\u001b[0m\u001b[0mbatch_logits\u001b[0m\u001b[0;34m)\u001b[0m\u001b[0;34m.\u001b[0m\u001b[0many\u001b[0m\u001b[0;34m(\u001b[0m\u001b[0;34m)\u001b[0m\u001b[0;34m,\u001b[0m \u001b[0;34mf\"NaN in policy logits {batch_logits}\"\u001b[0m\u001b[0;34m\u001b[0m\u001b[0;34m\u001b[0m\u001b[0m\n",
      "\u001b[0m\u001b[0;32m     26 \u001b[0;31m        \u001b[0mbatch_size\u001b[0m \u001b[0;34m=\u001b[0m \u001b[0mbatch_logits\u001b[0m\u001b[0;34m.\u001b[0m\u001b[0mshape\u001b[0m\u001b[0;34m[\u001b[0m\u001b[0;36m0\u001b[0m\u001b[0;34m]\u001b[0m\u001b[0;34m\u001b[0m\u001b[0;34m\u001b[0m\u001b[0m\n",
      "\u001b[0m\u001b[0;32m     27 \u001b[0;31m        \u001b[0mactions\u001b[0m \u001b[0;34m=\u001b[0m \u001b[0mtorch\u001b[0m\u001b[0;34m.\u001b[0m\u001b[0mempty\u001b[0m\u001b[0;34m(\u001b[0m\u001b[0mbatch_size\u001b[0m\u001b[0;34m,\u001b[0m \u001b[0;36m1\u001b[0m\u001b[0;34m)\u001b[0m\u001b[0;34m\u001b[0m\u001b[0;34m\u001b[0m\u001b[0m\n",
      "\u001b[0m\n"
     ]
    },
    {
     "name": "stdin",
     "output_type": "stream",
     "text": [
      "ipdb>  batch_state\n"
     ]
    },
    {
     "name": "stdout",
     "output_type": "stream",
     "text": [
      "tensor([[-3.7403e+00, -1.4508e-02,  7.5235e-03, -1.9217e-01, -1.0579e-03,\n",
      "         -3.7258e+00, -3.0816e-03,  8.2692e-03, -3.8359e-01, -1.0176e-03,\n",
      "         -3.7227e+00, -2.0492e-03,  6.9671e-03, -2.9670e-01, -8.9198e-04,\n",
      "         -3.7207e+00, -2.0449e-03,  7.5712e-03, -2.8458e-01, -7.8310e-04,\n",
      "         -3.7186e+00,  1.2333e-02,  8.2900e-03, -1.1215e-01,  4.5811e-04,\n",
      "         -3.7310e+00, -1.0288e-02,  7.8592e-03, -1.3689e-01, -3.7921e-04,\n",
      "         -3.7207e+00, -1.3218e-02,  8.3941e-03, -2.1376e-01, -1.2646e-03,\n",
      "         -3.7075e+00,  2.7651e-02,  1.0527e-02,  1.3034e-02,  1.3163e-03,\n",
      "         -3.7351e+00,  0.0000e+00,  1.0594e-02, -1.3129e-02,  1.1176e-03,\n",
      "         -3.7351e+00, -2.4617e-02,  1.0495e-02, -1.6389e-01, -1.0145e-03,\n",
      "         -3.7105e+00, -2.0243e-03,  1.1146e-02, -1.3589e-01, -8.7119e-04,\n",
      "         -3.7085e+00,  1.4257e-02,  1.2086e-02, -1.1825e-01,  5.4981e-04,\n",
      "         -3.7227e+00,  3.4432e-02,  1.0808e-02,  8.3560e-02,  3.2663e-03,\n",
      "         -3.7572e+00,  8.5288e-03,  1.3548e-02,  1.1122e-01,  3.2910e-03]])\n"
     ]
    }
   ],
   "source": [
    "%debug"
   ]
  },
  {
   "cell_type": "code",
   "execution_count": null,
   "metadata": {},
   "outputs": [],
   "source": [
    "a2c_agent.plot_cumulative_discounted_rewards()"
   ]
  },
  {
   "cell_type": "code",
   "execution_count": 30,
   "metadata": {},
   "outputs": [
    {
     "data": {
      "text/plain": [
       "'CCI'"
      ]
     },
     "execution_count": 30,
     "metadata": {},
     "output_type": "execute_result"
    }
   ],
   "source": [
    "a2c_agent.filtered_tickers[127]"
   ]
  },
  {
   "cell_type": "code",
   "execution_count": null,
   "metadata": {},
   "outputs": [],
   "source": [
    "a2c_agent"
   ]
  },
  {
   "cell_type": "code",
   "execution_count": 55,
   "metadata": {},
   "outputs": [],
   "source": [
    "tickers = a2c_agent.filtered_tickers"
   ]
  },
  {
   "cell_type": "code",
   "execution_count": 58,
   "metadata": {},
   "outputs": [
    {
     "data": {
      "text/html": [
       "<div>\n",
       "<style scoped>\n",
       "    .dataframe tbody tr th:only-of-type {\n",
       "        vertical-align: middle;\n",
       "    }\n",
       "\n",
       "    .dataframe tbody tr th {\n",
       "        vertical-align: top;\n",
       "    }\n",
       "\n",
       "    .dataframe thead th {\n",
       "        text-align: right;\n",
       "    }\n",
       "</style>\n",
       "<table border=\"1\" class=\"dataframe\">\n",
       "  <thead>\n",
       "    <tr style=\"text-align: right;\">\n",
       "      <th></th>\n",
       "      <th>x</th>\n",
       "      <th>std</th>\n",
       "      <th>sharpe</th>\n",
       "      <th>q</th>\n",
       "    </tr>\n",
       "    <tr>\n",
       "      <th>Date</th>\n",
       "      <th></th>\n",
       "      <th></th>\n",
       "      <th></th>\n",
       "      <th></th>\n",
       "    </tr>\n",
       "  </thead>\n",
       "  <tbody>\n",
       "    <tr>\n",
       "      <th>2015-02-19</th>\n",
       "      <td>0.0</td>\n",
       "      <td>5.653439e-10</td>\n",
       "      <td>NaN</td>\n",
       "      <td>-0.088084</td>\n",
       "    </tr>\n",
       "    <tr>\n",
       "      <th>2015-02-20</th>\n",
       "      <td>0.0</td>\n",
       "      <td>5.653439e-10</td>\n",
       "      <td>NaN</td>\n",
       "      <td>-0.079195</td>\n",
       "    </tr>\n",
       "    <tr>\n",
       "      <th>2015-02-23</th>\n",
       "      <td>0.0</td>\n",
       "      <td>5.653439e-10</td>\n",
       "      <td>NaN</td>\n",
       "      <td>-0.071327</td>\n",
       "    </tr>\n",
       "    <tr>\n",
       "      <th>2015-02-24</th>\n",
       "      <td>0.0</td>\n",
       "      <td>5.653439e-10</td>\n",
       "      <td>NaN</td>\n",
       "      <td>-0.064351</td>\n",
       "    </tr>\n",
       "    <tr>\n",
       "      <th>2015-02-25</th>\n",
       "      <td>0.0</td>\n",
       "      <td>5.653439e-10</td>\n",
       "      <td>NaN</td>\n",
       "      <td>-0.058151</td>\n",
       "    </tr>\n",
       "    <tr>\n",
       "      <th>...</th>\n",
       "      <td>...</td>\n",
       "      <td>...</td>\n",
       "      <td>...</td>\n",
       "      <td>...</td>\n",
       "    </tr>\n",
       "    <tr>\n",
       "      <th>2017-12-29</th>\n",
       "      <td>0.0</td>\n",
       "      <td>1.636465e-02</td>\n",
       "      <td>-0.377964</td>\n",
       "      <td>0.033018</td>\n",
       "    </tr>\n",
       "    <tr>\n",
       "      <th>2018-01-02</th>\n",
       "      <td>0.0</td>\n",
       "      <td>1.636465e-02</td>\n",
       "      <td>-0.377964</td>\n",
       "      <td>0.050515</td>\n",
       "    </tr>\n",
       "    <tr>\n",
       "      <th>2018-01-03</th>\n",
       "      <td>0.0</td>\n",
       "      <td>1.636465e-02</td>\n",
       "      <td>-0.377964</td>\n",
       "      <td>0.063648</td>\n",
       "    </tr>\n",
       "    <tr>\n",
       "      <th>2018-01-04</th>\n",
       "      <td>0.0</td>\n",
       "      <td>7.113094e-10</td>\n",
       "      <td>NaN</td>\n",
       "      <td>0.073212</td>\n",
       "    </tr>\n",
       "    <tr>\n",
       "      <th>2018-01-05</th>\n",
       "      <td>NaN</td>\n",
       "      <td>NaN</td>\n",
       "      <td>NaN</td>\n",
       "      <td>0.079870</td>\n",
       "    </tr>\n",
       "  </tbody>\n",
       "</table>\n",
       "<p>727 rows × 4 columns</p>\n",
       "</div>"
      ],
      "text/plain": [
       "              x           std    sharpe         q\n",
       "Date                                             \n",
       "2015-02-19  0.0  5.653439e-10       NaN -0.088084\n",
       "2015-02-20  0.0  5.653439e-10       NaN -0.079195\n",
       "2015-02-23  0.0  5.653439e-10       NaN -0.071327\n",
       "2015-02-24  0.0  5.653439e-10       NaN -0.064351\n",
       "2015-02-25  0.0  5.653439e-10       NaN -0.058151\n",
       "...         ...           ...       ...       ...\n",
       "2017-12-29  0.0  1.636465e-02 -0.377964  0.033018\n",
       "2018-01-02  0.0  1.636465e-02 -0.377964  0.050515\n",
       "2018-01-03  0.0  1.636465e-02 -0.377964  0.063648\n",
       "2018-01-04  0.0  7.113094e-10       NaN  0.073212\n",
       "2018-01-05  NaN           NaN       NaN  0.079870\n",
       "\n",
       "[727 rows x 4 columns]"
      ]
     },
     "execution_count": 58,
     "metadata": {},
     "output_type": "execute_result"
    }
   ],
   "source": [
    "e.data[e.df_index:]"
   ]
  },
  {
   "cell_type": "code",
   "execution_count": 29,
   "metadata": {},
   "outputs": [
    {
     "data": {
      "text/html": [
       "<div>\n",
       "<style scoped>\n",
       "    .dataframe tbody tr th:only-of-type {\n",
       "        vertical-align: middle;\n",
       "    }\n",
       "\n",
       "    .dataframe tbody tr th {\n",
       "        vertical-align: top;\n",
       "    }\n",
       "\n",
       "    .dataframe thead th {\n",
       "        text-align: right;\n",
       "    }\n",
       "</style>\n",
       "<table border=\"1\" class=\"dataframe\">\n",
       "  <thead>\n",
       "    <tr style=\"text-align: right;\">\n",
       "      <th></th>\n",
       "      <th>x</th>\n",
       "      <th>std</th>\n",
       "      <th>sharpe</th>\n",
       "      <th>q</th>\n",
       "    </tr>\n",
       "    <tr>\n",
       "      <th>Date</th>\n",
       "      <th></th>\n",
       "      <th></th>\n",
       "      <th></th>\n",
       "      <th></th>\n",
       "    </tr>\n",
       "  </thead>\n",
       "  <tbody>\n",
       "    <tr>\n",
       "      <th>2013-12-27</th>\n",
       "      <td>-0.008715</td>\n",
       "      <td>0.014263</td>\n",
       "      <td>0.246328</td>\n",
       "      <td>0.915886</td>\n",
       "    </tr>\n",
       "    <tr>\n",
       "      <th>2013-12-30</th>\n",
       "      <td>0.003780</td>\n",
       "      <td>0.007296</td>\n",
       "      <td>-0.066857</td>\n",
       "      <td>0.893301</td>\n",
       "    </tr>\n",
       "    <tr>\n",
       "      <th>2013-12-31</th>\n",
       "      <td>0.015842</td>\n",
       "      <td>0.009591</td>\n",
       "      <td>0.172775</td>\n",
       "      <td>0.849471</td>\n",
       "    </tr>\n",
       "    <tr>\n",
       "      <th>2014-01-02</th>\n",
       "      <td>-0.006137</td>\n",
       "      <td>0.010041</td>\n",
       "      <td>0.075806</td>\n",
       "      <td>0.739241</td>\n",
       "    </tr>\n",
       "    <tr>\n",
       "      <th>2014-01-03</th>\n",
       "      <td>0.037204</td>\n",
       "      <td>0.017153</td>\n",
       "      <td>0.317064</td>\n",
       "      <td>0.669980</td>\n",
       "    </tr>\n",
       "    <tr>\n",
       "      <th>...</th>\n",
       "      <td>...</td>\n",
       "      <td>...</td>\n",
       "      <td>...</td>\n",
       "      <td>...</td>\n",
       "    </tr>\n",
       "    <tr>\n",
       "      <th>2017-12-29</th>\n",
       "      <td>-0.017426</td>\n",
       "      <td>0.009047</td>\n",
       "      <td>-0.161914</td>\n",
       "      <td>0.873943</td>\n",
       "    </tr>\n",
       "    <tr>\n",
       "      <th>2018-01-02</th>\n",
       "      <td>-0.015528</td>\n",
       "      <td>0.010490</td>\n",
       "      <td>-0.283490</td>\n",
       "      <td>0.896064</td>\n",
       "    </tr>\n",
       "    <tr>\n",
       "      <th>2018-01-03</th>\n",
       "      <td>0.005719</td>\n",
       "      <td>0.010987</td>\n",
       "      <td>-0.155026</td>\n",
       "      <td>1.026033</td>\n",
       "    </tr>\n",
       "    <tr>\n",
       "      <th>2018-01-04</th>\n",
       "      <td>-0.017258</td>\n",
       "      <td>0.011951</td>\n",
       "      <td>-0.407165</td>\n",
       "      <td>1.070697</td>\n",
       "    </tr>\n",
       "    <tr>\n",
       "      <th>2018-01-05</th>\n",
       "      <td>NaN</td>\n",
       "      <td>NaN</td>\n",
       "      <td>NaN</td>\n",
       "      <td>1.231495</td>\n",
       "    </tr>\n",
       "  </tbody>\n",
       "</table>\n",
       "<p>1014 rows × 4 columns</p>\n",
       "</div>"
      ],
      "text/plain": [
       "                   x       std    sharpe         q\n",
       "Date                                              \n",
       "2013-12-27 -0.008715  0.014263  0.246328  0.915886\n",
       "2013-12-30  0.003780  0.007296 -0.066857  0.893301\n",
       "2013-12-31  0.015842  0.009591  0.172775  0.849471\n",
       "2014-01-02 -0.006137  0.010041  0.075806  0.739241\n",
       "2014-01-03  0.037204  0.017153  0.317064  0.669980\n",
       "...              ...       ...       ...       ...\n",
       "2017-12-29 -0.017426  0.009047 -0.161914  0.873943\n",
       "2018-01-02 -0.015528  0.010490 -0.283490  0.896064\n",
       "2018-01-03  0.005719  0.010987 -0.155026  1.026033\n",
       "2018-01-04 -0.017258  0.011951 -0.407165  1.070697\n",
       "2018-01-05       NaN       NaN       NaN  1.231495\n",
       "\n",
       "[1014 rows x 4 columns]"
      ]
     },
     "execution_count": 29,
     "metadata": {},
     "output_type": "execute_result"
    }
   ],
   "source": [
    "e = TradingEnv('ABBV')\n",
    "e.data[e.df_initial_index-5:]"
   ]
  },
  {
   "cell_type": "code",
   "execution_count": 34,
   "metadata": {},
   "outputs": [
    {
     "data": {
      "text/plain": [
       "<seaborn.axisgrid.FacetGrid at 0x7f57f0147ad0>"
      ]
     },
     "execution_count": 34,
     "metadata": {},
     "output_type": "execute_result"
    },
    {
     "data": {
      "image/png": "[encoded data removed]",
      "text/plain": [
       "<Figure size 1080x216 with 5 Axes>"
      ]
     },
     "metadata": {},
     "output_type": "display_data"
    }
   ],
   "source": [
    "h = a2c_agent.history\n",
    "q = sns.FacetGrid(h[h.episode % 20 == 0], col='episode',row='ticker')\n",
    "q.map(sns.lineplot, 'date', 'returns')"
   ]
  },
  {
   "cell_type": "code",
   "execution_count": 42,
   "metadata": {},
   "outputs": [],
   "source": [
    "e = TradingEnv('AAPL')\n",
    "# s0 = FloatTensor([e.reset()])"
   ]
  },
  {
   "cell_type": "code",
   "execution_count": 45,
   "metadata": {},
   "outputs": [
    {
     "data": {
      "text/plain": [
       "Timer unit: 1e-06 s\n",
       "\n",
       "Total time: 5.15225 s\n",
       "File: <ipython-input-37-bcce39958266>\n",
       "Function: learn at line 31\n",
       "\n",
       "Line #      Hits         Time  Per Hit   % Time  Line Contents\n",
       "==============================================================\n",
       "    31                                               def learn(self, state_tensor, action, next_state_tensor, reward):\n",
       "    32      3015       3336.0      1.1      0.1          n = self.steps_done\n",
       "    33      3015     664178.0    220.3     12.9          q_values = self.model(state_tensor)\n",
       "    34      3015     661365.0    219.4     12.8          pi = self.policy(state_tensor)\n",
       "    35      3015      10079.0      3.3      0.2          with torch.no_grad():\n",
       "    36      3015       5440.0      1.8      0.1              q_values_detached = q_values.detach()\n",
       "    37      3015       3609.0      1.2      0.1              pi_detached = pi.detach()\n",
       "    38      3015      38354.0     12.7      0.7              q = q_values_detached.gather(1, action)\n",
       "    39      3015     705073.0    233.9     13.7              future_q = reward + self.gamma * self.model(next_state_tensor).max(dim=1)[0]\n",
       "    40      3015      32163.0     10.7      0.6              delta = future_q - q\n",
       "    41                                                       \n",
       "    42      3015     173712.0     57.6      3.4              A = future_q - torch.dot(q_values_detached.squeeze(0), pi_detached.squeeze(0))\n",
       "    43                                                  \n",
       "    44      3015      81929.0     27.2      1.6          q_loss = delta * q_values.gather(1, action)\n",
       "    45      3015      33225.0     11.0      0.6          pi_a = pi.gather(1, action)\n",
       "    46      3015      68570.0     22.7      1.3          policy_loss = A * torch.log(pi_a)\n",
       "    47                                                   \n",
       "    48      3015      72532.0     24.1      1.4          loss = (self.gamma ** n) * (policy_loss + q_loss)\n",
       "    49                                           \n",
       "    50                                                   # backpropagation of loss to QNetwork and PolicyNetwork\n",
       "    51      3015     332137.0    110.2      6.4          self.optimizer.zero_grad()\n",
       "    52      3015    1863975.0    618.2     36.2          loss.backward()\n",
       "    53      3015     402569.0    133.5      7.8          self.optimizer.step()"
      ]
     },
     "metadata": {},
     "output_type": "display_data"
    }
   ],
   "source": [
    "a2c_agent = A2C()\n",
    "%lprun -f a2c_agent.learn [a2c_agent.run_episode(e) for _ in range(3)]"
   ]
  },
  {
   "cell_type": "code",
   "execution_count": 46,
   "metadata": {},
   "outputs": [
    {
     "data": {
      "text/plain": [
       "Timer unit: 1e-06 s\n",
       "\n",
       "Total time: 9.39259 s\n",
       "File: <ipython-input-37-bcce39958266>\n",
       "Function: run_episode at line 12\n",
       "\n",
       "Line #      Hits         Time  Per Hit   % Time  Line Contents\n",
       "==============================================================\n",
       "    12                                               def run_episode(self, environment):\n",
       "    13         3       3729.0   1243.0      0.0          state = environment.reset()\n",
       "    14         3          5.0      1.7      0.0          self.steps_done = 0\n",
       "    15         3          4.0      1.3      0.0          action = None\n",
       "    16         3          2.0      0.7      0.0          while True:\n",
       "    17      3015      88921.0     29.5      0.9              state_tensor = FloatTensor([state])\n",
       "    18      3015    1302285.0    431.9     13.9              action = self.policy.sample_from_softmax_policy(state_tensor)\n",
       "    19      3015      96108.0     31.9      1.0              position = self.convert_action(action)\n",
       "    20      3015    2569393.0    852.2     27.4              next_state, reward, done, _ = environment.step(position)\n",
       "    21      3015     105151.0     34.9      1.1              next_state_tensor = FloatTensor([next_state])\n",
       "    22      3015    5213333.0   1729.1     55.5              self.learn(state_tensor, action, next_state_tensor, reward)\n",
       "    23      3015       3560.0      1.2      0.0              state = next_state\n",
       "    24      3015       2620.0      0.9      0.0              self.steps_done += 1\n",
       "    25      3015       1216.0      0.4      0.0              if done:\n",
       "    26         3          1.0      0.3      0.0                  break\n",
       "    27         3       6254.0   2084.7      0.1          history = environment.close()\n",
       "    28         3          3.0      1.0      0.0          return history"
      ]
     },
     "metadata": {},
     "output_type": "display_data"
    }
   ],
   "source": [
    "%lprun -f a2c_agent.run_episode [a2c_agent.run_episode(e) for _ in range(3)]"
   ]
  },
  {
   "cell_type": "code",
   "execution_count": null,
   "metadata": {},
   "outputs": [],
   "source": [
    "a2c_agent.policy"
   ]
  },
  {
   "cell_type": "markdown",
   "metadata": {},
   "source": [
    " # Model-based (using Reddit Comments)"
   ]
  },
  {
   "cell_type": "code",
   "execution_count": null,
   "metadata": {},
   "outputs": [],
   "source": [
    "class ModelBasedAgent(BaseAgent):\n",
    "    def __init__(self):\n",
    "        super().__init__()"
   ]
  }
 ],
 "metadata": {
  "kernelspec": {
   "display_name": "Python 3",
   "language": "python",
   "name": "python3"
  },
  "language_info": {
   "codemirror_mode": {
    "name": "ipython",
    "version": 3
   },
   "file_extension": ".py",
   "mimetype": "text/x-python",
   "name": "python",
   "nbconvert_exporter": "python",
   "pygments_lexer": "ipython3",
   "version": "3.7.6"
  }
 },
 "nbformat": 4,
 "nbformat_minor": 4
}
