{
 "cells": [
  {
   "cell_type": "code",
   "execution_count": 10,
   "metadata": {},
   "outputs": [],
   "source": [
    "from system import *\n",
    "import torch\n",
    "import torch.nn as nn\n",
    "import torch.optim as optim\n",
    "from torch.autograd import Variable\n",
    "import torch.nn.functional as F\n",
    "import matplotlib.pyplot as plt\n",
    "import seaborn as sns\n",
    "from itertools import chain\n",
    "import numpy as np\n",
    "import pandas as pd\n",
    "import random\n",
    "import math\n",
    "from tqdm import tqdm"
   ]
  },
  {
   "cell_type": "code",
   "execution_count": 2,
   "metadata": {},
   "outputs": [],
   "source": [
    "class ReplayMemory:\n",
    "    def __init__(self, capacity):\n",
    "        self.capacity = capacity\n",
    "        self.memory = []\n",
    "\n",
    "    def push(self, transition):\n",
    "        self.memory.append(transition)\n",
    "        if len(self.memory) > self.capacity:\n",
    "            del self.memory[0]\n",
    "\n",
    "    def sample(self, batch_size):\n",
    "        return random.sample(self.memory, batch_size)\n",
    "\n",
    "    def __len__(self):\n",
    "        return len(self.memory)"
   ]
  },
  {
   "cell_type": "code",
   "execution_count": null,
   "metadata": {},
   "outputs": [],
   "source": [
    "sns.set()"
   ]
  },
  {
   "cell_type": "code",
   "execution_count": 3,
   "metadata": {
    "colab": {},
    "colab_type": "code",
    "id": "Vlu9wCHd-oVS"
   },
   "outputs": [
    {
     "name": "stdout",
     "output_type": "stream",
     "text": [
      "STATE_DIM = 48\n"
     ]
    }
   ],
   "source": [
    "e = TradingEnv()\n",
    "STATE_DIM = len(e.reset())\n",
    "print(f'STATE_DIM = {STATE_DIM}')\n",
    "EMBED_DIM = 50 # from the dimensionality-reduced fastText model\n",
    "ACTION_DIM = 3\n",
    "EPISODES = 2000  # number of episodes\n",
    "EPS_START = 0.9  # e-greedy threshold start value\n",
    "EPS_END = 0.05  # e-greedy threshold end value\n",
    "EPS_DECAY = 200  # e-greedy threshold decay\n",
    "# GAMMA = 0.99  # Q-learning discount factor\n",
    "LR = 0.001  # NN optimizer learning rate\n",
    "HIDDEN_LAYER = 128  # NN hidden layer size\n",
    "BATCH_SIZE = 16  # Q-learning batch size\n",
    "TARGET_UPDATE = 100  # frequency of target update\n",
    "BUFFER_SIZE = 100  # capacity of the replay buffer \n",
    "\n",
    "# if gpu is to be used\n",
    "# use_cuda = torch.cuda.is_available()\n",
    "use_cuda = False\n",
    "FloatTensor = torch.cuda.FloatTensor if use_cuda else torch.FloatTensor\n",
    "LongTensor  = torch.cuda.LongTensor if use_cuda else torch.LongTensor\n",
    "ByteTensor  = torch.cuda.ByteTensor if use_cuda else torch.ByteTensor\n",
    "Tensor = FloatTensor\n",
    "del e"
   ]
  },
  {
   "cell_type": "code",
   "execution_count": 4,
   "metadata": {},
   "outputs": [
    {
     "name": "stdout",
     "output_type": "stream",
     "text": [
      "No GPU will be used\n"
     ]
    }
   ],
   "source": [
    "if use_cuda:\n",
    "    print('GPU found and in use')\n",
    "else:\n",
    "    print('No GPU will be used')"
   ]
  },
  {
   "cell_type": "markdown",
   "metadata": {
    "colab_type": "text",
    "id": "MA7IgkTA_Jsp"
   },
   "source": [
    "# Simple QNetwork \n",
    "Corresponds to a fully connected network with two hidden layers"
   ]
  },
  {
   "cell_type": "code",
   "execution_count": 11,
   "metadata": {
    "colab": {},
    "colab_type": "code",
    "id": "rpkLvLcR_WOl"
   },
   "outputs": [],
   "source": [
    "class QNetwork(nn.Module):\n",
    "    def __init__(self):\n",
    "        nn.Module.__init__(self)\n",
    "        self.l1 = nn.Linear(STATE_DIM, HIDDEN_LAYER)\n",
    "        self.l2 = nn.Linear(HIDDEN_LAYER, HIDDEN_LAYER)\n",
    "        self.l3 = nn.Linear(HIDDEN_LAYER, ACTION_DIM)\n",
    "                \n",
    "    def forward(self, x):\n",
    "        \"\"\"\n",
    "            Computes the estimated Q-values for a given batch x\n",
    "        \"\"\"\n",
    "        x = F.leaky_relu(self.l1(x))\n",
    "        x = F.leaky_relu(self.l2(x))\n",
    "        x = self.l3(x)\n",
    "        return x      \n",
    "    \n",
    "    def sample_from_softmax_policy(self, batch_state):\n",
    "        batch_q_values = self.forward(batch_state)\n",
    "        batch_pi = F.softmax(batch_q_values, dim=1)\n",
    "        batch_size = batch_pi.shape[0]\n",
    "        batch_actions = torch.empty(batch_size, 1)\n",
    "        for i in range(batch_size):\n",
    "            pi = batch_pi[i, :]\n",
    "            dist = torch.distributions.Categorical(pi)\n",
    "            # Subtract 1, so batch_actions is in {-1, 0, 1}\n",
    "            batch_actions[i, 0] = dist.sample().view(1,1) - 1\n",
    "        if use_cuda:\n",
    "            batch_actions = batch_actions.to(batch_state.get_device())\n",
    "        return batch_actions.long()"
   ]
  },
  {
   "cell_type": "markdown",
   "metadata": {},
   "source": [
    "# Generic Training Agent"
   ]
  },
  {
   "cell_type": "code",
   "execution_count": 31,
   "metadata": {},
   "outputs": [],
   "source": [
    "class BaseAgent:\n",
    "    def __init__(self, gamma=0.8):\n",
    "        assert 0 < gamma < 1, f\"Invalid gamma: {gamma}\" \n",
    "        self.gamma = gamma\n",
    "        self.memory = ReplayMemory(BUFFER_SIZE)\n",
    "        self.history = pd.DataFrame()\n",
    "        self.rewards_history = []\n",
    "        self.steps_done = 0\n",
    "        with open('sp500.txt', 'r') as src:\n",
    "            self.filtered_tickers = src.read().split(',')\n",
    "        \n",
    "    def run_episode(self, environment):\n",
    "        \"\"\"\n",
    "            Takes an env, and trains the agent until the environment\n",
    "            reaches a terminal state (ie the training window is complete).\n",
    "            Must return environment.close()\n",
    "        \"\"\"\n",
    "        raise NotImplementedError()\n",
    "    \n",
    "    def plot_cumulative_discounted_rewards(self):\n",
    "        rl_data = self.history\n",
    "        rl_data['discount_factor'] = np.power(self.gamma, rl_data.episode-1)\n",
    "        rl_data['discounted_future_reward'] = rl_data['discount_factor'] * rl_data['rewards']\n",
    "        rl_data = rl_data[['episode', 'discounted_future_reward']]\n",
    "        rl_data = rl_data.groupby('episode').sum()\n",
    "#         rl_plot = sns.lineplot(data=rl_data, legend=False)\n",
    "        rl_data.plot(legend=False, title=f'Cumulative Discounted Rewards over Episodes')\n",
    "        plt.ylabel('Cumulative Discounted Reward')\n",
    "        plt.show()\n",
    "        \n",
    "    def convert_action(self, action):\n",
    "        \"\"\"\n",
    "            Takes action of shape 1 x 3, and converts into an integer in {-1, 0, 1}.\n",
    "            This integer is the position short/hold/long respectively.\n",
    "        \"\"\"\n",
    "        position = action - 1\n",
    "#         assert position in [-1,0,1]\n",
    "        return position.item()\n",
    "    \n",
    "    def train(self, env_mode='train', num_tickers=20, num_episodes = 5):\n",
    "        \"\"\"\n",
    "            Trains the agent for num_episodes episodes, looping over the approved\n",
    "            list of tickers (filtered by num_tickers). This is a convenience function.\n",
    "        \"\"\"\n",
    "        num_tickers = min(num_tickers, len(self.filtered_tickers))\n",
    "        if num_tickers == np.Inf:\n",
    "            num_tickers = len(self.filtered_tickers)\n",
    "        self.history = pd.DataFrame()\n",
    "        for i in tqdm(range(num_episodes)):\n",
    "            ticker = self.filtered_tickers[ i % num_tickers ]\n",
    "            env = TradingEnv(ticker=ticker, mode=env_mode)\n",
    "            history = self.run_episode(env)\n",
    "            history['ticker'] = ticker\n",
    "            history['episode'] = i + 1\n",
    "            self.history = pd.concat((self.history, history))\n",
    "        self.history = self.history.reset_index('Date', drop=True)\n",
    "#         self.plot_returns(num_tickers)\n",
    "        self.plot_cumulative_discounted_rewards()\n",
    "    \n",
    "    def plot_returns(self, ticker):\n",
    "        h = agent.history\n",
    "        roi_data = h[h.ticker == ticker][['date','episode','returns']]\n",
    "        plt.title(f'Returns for {ticker}')\n",
    "        roi_plot = sns.lineplot(data=h, x='date', y='returns', hue='episode')\n",
    "        roi_plot.set_xticklabels(roi_plot.get_xticklabels(), rotation=45);\n",
    "    \n",
    "\n",
    "        \n",
    "class DQN(BaseAgent):\n",
    "    def __init__(self):\n",
    "        super().__init__()\n",
    "        self.model = QNetwork()\n",
    "        self.target = QNetwork()\n",
    "        self.optimizer = optim.SGD(self.model.parameters(), LR)\n",
    "\n",
    "    def select_epsilon_greedy_action(self, state):\n",
    "        sample = random.random()\n",
    "        eps_threshold = EPS_END + (EPS_START - EPS_END) * math.exp(-1. * self.steps_done / EPS_DECAY)\n",
    "        self.steps_done += 1\n",
    "        greedy_action = None\n",
    "        with torch.no_grad():\n",
    "            greedy_action = self.model(state).data.argmax(dim=1).view(1,1)\n",
    "        \n",
    "        random_action = LongTensor([[random.randrange(ACTION_DIM)]])\n",
    "        assert greedy_action.shape == random_action.shape, f\"Incorrect sampling techinque {greedy_action.shape, random_action.shape}\"\n",
    "        if sample > eps_threshold:\n",
    "            return greedy_action\n",
    "        else:\n",
    "            return random_action\n",
    "    \n",
    "    def run_episode(self, environment):\n",
    "        state = environment.reset()\n",
    "        steps = 0\n",
    "        action = None\n",
    "        while True:\n",
    "            state_tensor = FloatTensor([state])\n",
    "            action = self.select_epsilon_greedy_action(state_tensor)\n",
    "            position = self.convert_action(action)\n",
    "            next_state, reward, done, _ = environment.step(position)\n",
    "            \n",
    "            self.memory.push(\n",
    "                (\n",
    "                    FloatTensor([state]),\n",
    "                    action,  # action is already a tensor\n",
    "                    FloatTensor([next_state]),\n",
    "                    FloatTensor([reward]),\n",
    "                    FloatTensor([int(done)])\n",
    "                )\n",
    "            )\n",
    "\n",
    "            self.learn()\n",
    "            if self.steps_done % TARGET_UPDATE == 0:\n",
    "                self.target.load_state_dict(self.model.state_dict())\n",
    "        \n",
    "            state = next_state\n",
    "            steps += 1\n",
    "            if done:\n",
    "                break\n",
    "        history = environment.close()\n",
    "        return history\n",
    "\n",
    "    def max_next_q_values(self, batch_next_state):\n",
    "        # expected Q values are estimated from actions which gives maximum Q value\n",
    "        return self.target(batch_next_state).detach().max(1)[0]\n",
    "    \n",
    "    def learn(self):\n",
    "        if len(self.memory) <= BATCH_SIZE:\n",
    "            return\n",
    "        # random transition batch is taken from experience replay memory\n",
    "        transitions = self.memory.sample(BATCH_SIZE)\n",
    "        batch_state, batch_action, batch_next_state, batch_reward, batch_done = zip(*transitions)\n",
    "        batch_state = Variable(torch.cat(batch_state))\n",
    "        batch_action = Variable(torch.cat(batch_action))\n",
    "        batch_reward = Variable(torch.cat(batch_reward))\n",
    "        batch_next_state = Variable(torch.cat(batch_next_state))\n",
    "        batch_done = Variable(torch.cat(batch_done))\n",
    "\n",
    "        # current Q values are estimated by NN for all actions\n",
    "        current_q_values = self.model(batch_state).gather(1, batch_action).squeeze()\n",
    "        expected_future_rewards = self.max_next_q_values(batch_next_state)\n",
    "        \n",
    "        expected_q_values = batch_reward + (self.gamma * expected_future_rewards) * (1 - batch_done)\n",
    "\n",
    "        # loss is measured from error between current and newly expected Q values\n",
    "        loss = F.mse_loss(current_q_values, expected_q_values)\n",
    "\n",
    "        # backpropagation of loss to QNetwork\n",
    "        self.optimizer.zero_grad()\n",
    "        loss.backward()\n",
    "        self.optimizer.step()\n",
    "\n",
    "\n",
    "# agent=DQN()\n",
    "# env = TradingEnv()\n",
    "# for i in range(10):\n",
    "#     s = FloatTensor([env.reset()])\n",
    "#     agent.steps_done=100\n",
    "#     print(agent.select_epsilon_greedy_action(s))\n",
    "\n",
    "# agent.run_episode(env)"
   ]
  },
  {
   "cell_type": "code",
   "execution_count": 41,
   "metadata": {},
   "outputs": [
    {
     "name": "stderr",
     "output_type": "stream",
     "text": [
      "100%|██████████| 20/20 [00:42<00:00,  2.14s/it]\n"
     ]
    },
    {
     "data": {
      "image/png": "[encoded data removed]",
      "text/plain": [
       "<Figure size 432x288 with 1 Axes>"
      ]
     },
     "metadata": {},
     "output_type": "display_data"
    }
   ],
   "source": [
    "dqn_agent = DQN()\n",
    "dqn_agent.train(num_tickers=1, num_episodes=20)"
   ]
  },
  {
   "cell_type": "code",
   "execution_count": 42,
   "metadata": {},
   "outputs": [
    {
     "data": {
      "image/png": "[encoded data removed]",
      "text/plain": [
       "<Figure size 432x288 with 1 Axes>"
      ]
     },
     "metadata": {},
     "output_type": "display_data"
    }
   ],
   "source": [
    "plt.ylim(-1000,1000)\n",
    "dqn_agent.plot_returns('MMM')"
   ]
  },
  {
   "cell_type": "code",
   "execution_count": null,
   "metadata": {},
   "outputs": [],
   "source": [
    "rl_data = dqn_agent.history\n",
    "rl_data['discount_factor'] = np.power(dqn_agent.gamma, rl_data.episode-1)\n",
    "rl_data['discounted_future_reward'] = rl_data['discount_factor'] * rl_data['rewards']\n",
    "rl_data = rl_data[['episode', 'discounted_future_reward']]\n",
    "# rl_data.columns\n",
    "rl_data = rl_data.groupby('episode').sum()\n",
    "# rl_data\n",
    "# rl_plot = sns.lineplot(data=rl_data, legend=False)"
   ]
  },
  {
   "cell_type": "code",
   "execution_count": null,
   "metadata": {},
   "outputs": [],
   "source": [
    "rl_data.plot(legend=False, title=f'Cumulative Discounted Rewards over Episodes')\n",
    "plt.ylabel('Cumulative Discounted Reward')\n",
    "plt.show()"
   ]
  },
  {
   "cell_type": "code",
   "execution_count": null,
   "metadata": {},
   "outputs": [],
   "source": [
    "plt.title(f'Cumulative Discounted Rewards for {ticker}')\n",
    "rl_plot = sns.lineplot(data=rl_data, legend=False)\n",
    "# sns.legend(False)\n",
    "# roi_plot.set_xticklabels(roi_plot.get_xticklabels(), rotation=45);"
   ]
  },
  {
   "cell_type": "code",
   "execution_count": 25,
   "metadata": {},
   "outputs": [],
   "source": [
    "h = agent.history\n",
    "ticker='MMM'"
   ]
  },
  {
   "cell_type": "code",
   "execution_count": 30,
   "metadata": {},
   "outputs": [
    {
     "data": {
      "text/plain": [
       "[]"
      ]
     },
     "execution_count": 30,
     "metadata": {},
     "output_type": "execute_result"
    },
    {
     "data": {
      "image/png": "[encoded data removed]",
      "text/plain": [
       "<Figure size 432x288 with 1 Axes>"
      ]
     },
     "metadata": {},
     "output_type": "display_data"
    }
   ],
   "source": [
    "import seaborn as sns\n",
    "# fg=sns.FacetGrid(data=h, hue='episode', aspect=1.61)\n",
    "# fg.map(plt.plot)\n",
    "\n",
    "# roi_plot = sns.tsplot(data=h, x='date', y='returns', hue='episode')\n",
    "# roi_plot.set_xticklabels(roi_plot.get_xticklabels(), rotation=45);\n",
    "# h.plot()\n",
    "# roi_plot.show()\n",
    "# plt.plot()"
   ]
  },
  {
   "cell_type": "code",
   "execution_count": null,
   "metadata": {},
   "outputs": [],
   "source": [
    "# %load_ext line_profiler"
   ]
  },
  {
   "cell_type": "code",
   "execution_count": null,
   "metadata": {},
   "outputs": [],
   "source": [
    "# e = TradingEnv()"
   ]
  },
  {
   "cell_type": "code",
   "execution_count": null,
   "metadata": {},
   "outputs": [],
   "source": [
    "# %lprun -f agent.learn [agent.run_episode(e) for _ in range(10)]"
   ]
  },
  {
   "cell_type": "code",
   "execution_count": null,
   "metadata": {},
   "outputs": [],
   "source": [
    "# _ = e.reset()\n",
    "# %lprun -f e.step e.step(1)"
   ]
  },
  {
   "cell_type": "markdown",
   "metadata": {},
   "source": [
    "# Policy Network"
   ]
  },
  {
   "cell_type": "code",
   "execution_count": 37,
   "metadata": {},
   "outputs": [],
   "source": [
    "class PolicyNetwork(nn.Module):\n",
    "    # for Policy-Gradient methods, e.g. actor-only and actor-critic methods\n",
    "    def __init__(self):\n",
    "        nn.Module.__init__(self)\n",
    "        self.l1 = nn.Linear(STATE_DIM, HIDDEN_LAYER)\n",
    "        self.l2 = nn.Linear(HIDDEN_LAYER, HIDDEN_LAYER)\n",
    "        self.l3 = nn.Linear(HIDDEN_LAYER, ACTION_DIM) # 2, for the action\n",
    "\n",
    "    def forward(self, x, get_log=False):\n",
    "        x = F.relu(self.l1(x))\n",
    "        x = F.relu(self.l2(x))\n",
    "        if not get_log:\n",
    "            x = F.softmax(self.l3(x), dim=1)\n",
    "        else:\n",
    "            x = F.log_softmax(self.l3(x), dim=1)\n",
    "        return x\n",
    "\n",
    "    def sample_from_softmax_policy(self, batch_state):\n",
    "        batch_pi = self.forward(batch_state)\n",
    "        batch_size = batch_pi.shape[0]\n",
    "        actions = torch.empty(batch_size, 1)\n",
    "        for i in range(batch_size):\n",
    "            pi = batch_pi[i, :]\n",
    "            dist = torch.distributions.Categorical(pi)\n",
    "            actions[i, 0] = dist.sample().view(1,1)\n",
    "        if use_cuda:\n",
    "            actions = actions.to(batch_state.get_device())\n",
    "        return actions.long()\n",
    "\n",
    "# p = PolicyNetwork()\n",
    "# state = env.reset()\n",
    "# state_tensor = FloatTensor([state]).cuda()\n",
    "# p.cuda()\n",
    "# p.forward(state_tensor, d=1), p.forward(state_tensor, d=-1)\n",
    "# p.sample_from_softmax_policy(torch.cat(5*[state_tensor])).shape"
   ]
  },
  {
   "cell_type": "markdown",
   "metadata": {},
   "source": [
    "# LongOnly Agent"
   ]
  },
  {
   "cell_type": "code",
   "execution_count": 43,
   "metadata": {},
   "outputs": [],
   "source": [
    "class LongOnlyAgent(BaseAgent):\n",
    "    def __init__(self):\n",
    "        super().__init__()\n",
    "        \n",
    "    def run_episode(self, environment):\n",
    "        state = environment.reset()\n",
    "        steps = 0\n",
    "        position = 1\n",
    "        while True:\n",
    "            _, r, done, __ = environment.step(position)\n",
    "\n",
    "            self.steps_done += 1\n",
    "            steps += 1\n",
    "            if done:\n",
    "                break\n",
    "        self.rewards_history.append(environment.rewards_list)\n",
    "        return environment.close()\n",
    "\n",
    "# long_agent = LongOnlyAgent()\n",
    "# e = TradingEnv()\n",
    "# long_agent.run_episode(e)\n",
    "# # long_agent.rewards_history\n",
    "# long_agent.run_episode(e)"
   ]
  },
  {
   "cell_type": "code",
   "execution_count": 44,
   "metadata": {},
   "outputs": [],
   "source": [
    "long_agent = LongOnlyAgent()"
   ]
  },
  {
   "cell_type": "code",
   "execution_count": 45,
   "metadata": {},
   "outputs": [
    {
     "name": "stderr",
     "output_type": "stream",
     "text": [
      "100%|██████████| 20/20 [00:19<00:00,  1.04it/s]\n"
     ]
    },
    {
     "data": {
      "image/png": "[encoded data removed]",
      "text/plain": [
       "<Figure size 432x288 with 1 Axes>"
      ]
     },
     "metadata": {},
     "output_type": "display_data"
    }
   ],
   "source": [
    "long_agent.train(num_tickers=1, num_episodes=20)"
   ]
  },
  {
   "cell_type": "code",
   "execution_count": 46,
   "metadata": {},
   "outputs": [
    {
     "data": {
      "text/html": [
       "<div>\n",
       "<style scoped>\n",
       "    .dataframe tbody tr th:only-of-type {\n",
       "        vertical-align: middle;\n",
       "    }\n",
       "\n",
       "    .dataframe tbody tr th {\n",
       "        vertical-align: top;\n",
       "    }\n",
       "\n",
       "    .dataframe thead th {\n",
       "        text-align: right;\n",
       "    }\n",
       "</style>\n",
       "<table border=\"1\" class=\"dataframe\">\n",
       "  <thead>\n",
       "    <tr style=\"text-align: right;\">\n",
       "      <th></th>\n",
       "      <th>date</th>\n",
       "      <th>ticker</th>\n",
       "      <th>rewards</th>\n",
       "      <th>actions</th>\n",
       "      <th>returns</th>\n",
       "      <th>prices</th>\n",
       "      <th>episode</th>\n",
       "      <th>discount_factor</th>\n",
       "      <th>discounted_future_reward</th>\n",
       "    </tr>\n",
       "  </thead>\n",
       "  <tbody>\n",
       "    <tr>\n",
       "      <th>0</th>\n",
       "      <td>2014-01-06</td>\n",
       "      <td>MMM</td>\n",
       "      <td>-0.075815</td>\n",
       "      <td>1</td>\n",
       "      <td>5.815700</td>\n",
       "      <td>137.630005</td>\n",
       "      <td>1</td>\n",
       "      <td>1.000000</td>\n",
       "      <td>-0.075815</td>\n",
       "    </tr>\n",
       "    <tr>\n",
       "      <th>1</th>\n",
       "      <td>2014-01-07</td>\n",
       "      <td>MMM</td>\n",
       "      <td>-27.923206</td>\n",
       "      <td>1</td>\n",
       "      <td>-290.944802</td>\n",
       "      <td>137.649994</td>\n",
       "      <td>1</td>\n",
       "      <td>1.000000</td>\n",
       "      <td>-27.923206</td>\n",
       "    </tr>\n",
       "    <tr>\n",
       "      <th>2</th>\n",
       "      <td>2014-01-08</td>\n",
       "      <td>MMM</td>\n",
       "      <td>-7.871890</td>\n",
       "      <td>1</td>\n",
       "      <td>-343.317175</td>\n",
       "      <td>136.630005</td>\n",
       "      <td>1</td>\n",
       "      <td>1.000000</td>\n",
       "      <td>-7.871890</td>\n",
       "    </tr>\n",
       "    <tr>\n",
       "      <th>3</th>\n",
       "      <td>2014-01-09</td>\n",
       "      <td>MMM</td>\n",
       "      <td>-11.663949</td>\n",
       "      <td>1</td>\n",
       "      <td>-421.873515</td>\n",
       "      <td>136.449997</td>\n",
       "      <td>1</td>\n",
       "      <td>1.000000</td>\n",
       "      <td>-11.663949</td>\n",
       "    </tr>\n",
       "    <tr>\n",
       "      <th>4</th>\n",
       "      <td>2014-01-10</td>\n",
       "      <td>MMM</td>\n",
       "      <td>-45.344489</td>\n",
       "      <td>1</td>\n",
       "      <td>-858.290718</td>\n",
       "      <td>136.179993</td>\n",
       "      <td>1</td>\n",
       "      <td>1.000000</td>\n",
       "      <td>-45.344489</td>\n",
       "    </tr>\n",
       "    <tr>\n",
       "      <th>...</th>\n",
       "      <td>...</td>\n",
       "      <td>...</td>\n",
       "      <td>...</td>\n",
       "      <td>...</td>\n",
       "      <td>...</td>\n",
       "      <td>...</td>\n",
       "      <td>...</td>\n",
       "      <td>...</td>\n",
       "      <td>...</td>\n",
       "    </tr>\n",
       "    <tr>\n",
       "      <th>20095</th>\n",
       "      <td>2017-12-22</td>\n",
       "      <td>MMM</td>\n",
       "      <td>-3.073729</td>\n",
       "      <td>1</td>\n",
       "      <td>28460.218243</td>\n",
       "      <td>234.729996</td>\n",
       "      <td>20</td>\n",
       "      <td>0.014412</td>\n",
       "      <td>-0.044297</td>\n",
       "    </tr>\n",
       "    <tr>\n",
       "      <th>20096</th>\n",
       "      <td>2017-12-26</td>\n",
       "      <td>MMM</td>\n",
       "      <td>-5.720505</td>\n",
       "      <td>1</td>\n",
       "      <td>28678.426845</td>\n",
       "      <td>235.449997</td>\n",
       "      <td>20</td>\n",
       "      <td>0.014412</td>\n",
       "      <td>-0.082441</td>\n",
       "    </tr>\n",
       "    <tr>\n",
       "      <th>20097</th>\n",
       "      <td>2017-12-27</td>\n",
       "      <td>MMM</td>\n",
       "      <td>-26.316168</td>\n",
       "      <td>1</td>\n",
       "      <td>28538.774583</td>\n",
       "      <td>236.199997</td>\n",
       "      <td>20</td>\n",
       "      <td>0.014412</td>\n",
       "      <td>-0.379256</td>\n",
       "    </tr>\n",
       "    <tr>\n",
       "      <th>20098</th>\n",
       "      <td>2017-12-28</td>\n",
       "      <td>MMM</td>\n",
       "      <td>-31.930738</td>\n",
       "      <td>1</td>\n",
       "      <td>28436.942126</td>\n",
       "      <td>235.720001</td>\n",
       "      <td>20</td>\n",
       "      <td>0.014412</td>\n",
       "      <td>-0.460170</td>\n",
       "    </tr>\n",
       "    <tr>\n",
       "      <th>20099</th>\n",
       "      <td>2017-12-29</td>\n",
       "      <td>MMM</td>\n",
       "      <td>1.702162</td>\n",
       "      <td>1</td>\n",
       "      <td>28515.498466</td>\n",
       "      <td>235.369995</td>\n",
       "      <td>20</td>\n",
       "      <td>0.014412</td>\n",
       "      <td>0.024531</td>\n",
       "    </tr>\n",
       "  </tbody>\n",
       "</table>\n",
       "<p>20100 rows × 9 columns</p>\n",
       "</div>"
      ],
      "text/plain": [
       "            date ticker    rewards  actions       returns      prices  \\\n",
       "0     2014-01-06    MMM  -0.075815        1      5.815700  137.630005   \n",
       "1     2014-01-07    MMM -27.923206        1   -290.944802  137.649994   \n",
       "2     2014-01-08    MMM  -7.871890        1   -343.317175  136.630005   \n",
       "3     2014-01-09    MMM -11.663949        1   -421.873515  136.449997   \n",
       "4     2014-01-10    MMM -45.344489        1   -858.290718  136.179993   \n",
       "...          ...    ...        ...      ...           ...         ...   \n",
       "20095 2017-12-22    MMM  -3.073729        1  28460.218243  234.729996   \n",
       "20096 2017-12-26    MMM  -5.720505        1  28678.426845  235.449997   \n",
       "20097 2017-12-27    MMM -26.316168        1  28538.774583  236.199997   \n",
       "20098 2017-12-28    MMM -31.930738        1  28436.942126  235.720001   \n",
       "20099 2017-12-29    MMM   1.702162        1  28515.498466  235.369995   \n",
       "\n",
       "       episode  discount_factor  discounted_future_reward  \n",
       "0            1         1.000000                 -0.075815  \n",
       "1            1         1.000000                -27.923206  \n",
       "2            1         1.000000                 -7.871890  \n",
       "3            1         1.000000                -11.663949  \n",
       "4            1         1.000000                -45.344489  \n",
       "...        ...              ...                       ...  \n",
       "20095       20         0.014412                 -0.044297  \n",
       "20096       20         0.014412                 -0.082441  \n",
       "20097       20         0.014412                 -0.379256  \n",
       "20098       20         0.014412                 -0.460170  \n",
       "20099       20         0.014412                  0.024531  \n",
       "\n",
       "[20100 rows x 9 columns]"
      ]
     },
     "execution_count": 46,
     "metadata": {},
     "output_type": "execute_result"
    }
   ],
   "source": [
    "long_agent.history"
   ]
  },
  {
   "cell_type": "code",
   "execution_count": 47,
   "metadata": {},
   "outputs": [
    {
     "data": {
      "text/html": [
       "<div>\n",
       "<style scoped>\n",
       "    .dataframe tbody tr th:only-of-type {\n",
       "        vertical-align: middle;\n",
       "    }\n",
       "\n",
       "    .dataframe tbody tr th {\n",
       "        vertical-align: top;\n",
       "    }\n",
       "\n",
       "    .dataframe thead th {\n",
       "        text-align: right;\n",
       "    }\n",
       "</style>\n",
       "<table border=\"1\" class=\"dataframe\">\n",
       "  <thead>\n",
       "    <tr style=\"text-align: right;\">\n",
       "      <th></th>\n",
       "      <th>date</th>\n",
       "      <th>ticker</th>\n",
       "      <th>rewards</th>\n",
       "      <th>actions</th>\n",
       "      <th>returns</th>\n",
       "      <th>prices</th>\n",
       "      <th>episode</th>\n",
       "      <th>discount_factor</th>\n",
       "      <th>discounted_future_reward</th>\n",
       "    </tr>\n",
       "  </thead>\n",
       "  <tbody>\n",
       "    <tr>\n",
       "      <th>0</th>\n",
       "      <td>2014-01-06</td>\n",
       "      <td>MMM</td>\n",
       "      <td>-0.488206</td>\n",
       "      <td>-1</td>\n",
       "      <td>-5.815700</td>\n",
       "      <td>137.630005</td>\n",
       "      <td>1</td>\n",
       "      <td>1.000000</td>\n",
       "      <td>-0.488206</td>\n",
       "    </tr>\n",
       "    <tr>\n",
       "      <th>1</th>\n",
       "      <td>2014-01-07</td>\n",
       "      <td>MMM</td>\n",
       "      <td>-4.851185</td>\n",
       "      <td>0</td>\n",
       "      <td>-2.909086</td>\n",
       "      <td>137.649994</td>\n",
       "      <td>1</td>\n",
       "      <td>1.000000</td>\n",
       "      <td>-4.851185</td>\n",
       "    </tr>\n",
       "    <tr>\n",
       "      <th>2</th>\n",
       "      <td>2014-01-08</td>\n",
       "      <td>MMM</td>\n",
       "      <td>-0.000000</td>\n",
       "      <td>0</td>\n",
       "      <td>-2.909086</td>\n",
       "      <td>136.630005</td>\n",
       "      <td>1</td>\n",
       "      <td>1.000000</td>\n",
       "      <td>-0.000000</td>\n",
       "    </tr>\n",
       "    <tr>\n",
       "      <th>3</th>\n",
       "      <td>2014-01-09</td>\n",
       "      <td>MMM</td>\n",
       "      <td>-7.878143</td>\n",
       "      <td>1</td>\n",
       "      <td>-28.553995</td>\n",
       "      <td>136.449997</td>\n",
       "      <td>1</td>\n",
       "      <td>1.000000</td>\n",
       "      <td>-7.878143</td>\n",
       "    </tr>\n",
       "    <tr>\n",
       "      <th>4</th>\n",
       "      <td>2014-01-10</td>\n",
       "      <td>MMM</td>\n",
       "      <td>-5.696929</td>\n",
       "      <td>0</td>\n",
       "      <td>-21.324762</td>\n",
       "      <td>136.179993</td>\n",
       "      <td>1</td>\n",
       "      <td>1.000000</td>\n",
       "      <td>-5.696929</td>\n",
       "    </tr>\n",
       "    <tr>\n",
       "      <th>...</th>\n",
       "      <td>...</td>\n",
       "      <td>...</td>\n",
       "      <td>...</td>\n",
       "      <td>...</td>\n",
       "      <td>...</td>\n",
       "      <td>...</td>\n",
       "      <td>...</td>\n",
       "      <td>...</td>\n",
       "      <td>...</td>\n",
       "    </tr>\n",
       "    <tr>\n",
       "      <th>20095</th>\n",
       "      <td>2017-12-22</td>\n",
       "      <td>MMM</td>\n",
       "      <td>-11.404279</td>\n",
       "      <td>-1</td>\n",
       "      <td>-589.804183</td>\n",
       "      <td>234.729996</td>\n",
       "      <td>20</td>\n",
       "      <td>0.014412</td>\n",
       "      <td>-0.164353</td>\n",
       "    </tr>\n",
       "    <tr>\n",
       "      <th>20096</th>\n",
       "      <td>2017-12-26</td>\n",
       "      <td>MMM</td>\n",
       "      <td>-14.494776</td>\n",
       "      <td>-1</td>\n",
       "      <td>-590.164951</td>\n",
       "      <td>235.449997</td>\n",
       "      <td>20</td>\n",
       "      <td>0.014412</td>\n",
       "      <td>-0.208892</td>\n",
       "    </tr>\n",
       "    <tr>\n",
       "      <th>20097</th>\n",
       "      <td>2017-12-27</td>\n",
       "      <td>MMM</td>\n",
       "      <td>-19.516262</td>\n",
       "      <td>-1</td>\n",
       "      <td>-589.936441</td>\n",
       "      <td>236.199997</td>\n",
       "      <td>20</td>\n",
       "      <td>0.014412</td>\n",
       "      <td>-0.281259</td>\n",
       "    </tr>\n",
       "    <tr>\n",
       "      <th>20098</th>\n",
       "      <td>2017-12-28</td>\n",
       "      <td>MMM</td>\n",
       "      <td>-23.637053</td>\n",
       "      <td>-1</td>\n",
       "      <td>-589.768712</td>\n",
       "      <td>235.720001</td>\n",
       "      <td>20</td>\n",
       "      <td>0.014412</td>\n",
       "      <td>-0.340646</td>\n",
       "    </tr>\n",
       "    <tr>\n",
       "      <th>20099</th>\n",
       "      <td>2017-12-29</td>\n",
       "      <td>MMM</td>\n",
       "      <td>-7.918319</td>\n",
       "      <td>-1</td>\n",
       "      <td>-589.898728</td>\n",
       "      <td>235.369995</td>\n",
       "      <td>20</td>\n",
       "      <td>0.014412</td>\n",
       "      <td>-0.114115</td>\n",
       "    </tr>\n",
       "  </tbody>\n",
       "</table>\n",
       "<p>20100 rows × 9 columns</p>\n",
       "</div>"
      ],
      "text/plain": [
       "            date ticker    rewards  actions     returns      prices  episode  \\\n",
       "0     2014-01-06    MMM  -0.488206       -1   -5.815700  137.630005        1   \n",
       "1     2014-01-07    MMM  -4.851185        0   -2.909086  137.649994        1   \n",
       "2     2014-01-08    MMM  -0.000000        0   -2.909086  136.630005        1   \n",
       "3     2014-01-09    MMM  -7.878143        1  -28.553995  136.449997        1   \n",
       "4     2014-01-10    MMM  -5.696929        0  -21.324762  136.179993        1   \n",
       "...          ...    ...        ...      ...         ...         ...      ...   \n",
       "20095 2017-12-22    MMM -11.404279       -1 -589.804183  234.729996       20   \n",
       "20096 2017-12-26    MMM -14.494776       -1 -590.164951  235.449997       20   \n",
       "20097 2017-12-27    MMM -19.516262       -1 -589.936441  236.199997       20   \n",
       "20098 2017-12-28    MMM -23.637053       -1 -589.768712  235.720001       20   \n",
       "20099 2017-12-29    MMM  -7.918319       -1 -589.898728  235.369995       20   \n",
       "\n",
       "       discount_factor  discounted_future_reward  \n",
       "0             1.000000                 -0.488206  \n",
       "1             1.000000                 -4.851185  \n",
       "2             1.000000                 -0.000000  \n",
       "3             1.000000                 -7.878143  \n",
       "4             1.000000                 -5.696929  \n",
       "...                ...                       ...  \n",
       "20095         0.014412                 -0.164353  \n",
       "20096         0.014412                 -0.208892  \n",
       "20097         0.014412                 -0.281259  \n",
       "20098         0.014412                 -0.340646  \n",
       "20099         0.014412                 -0.114115  \n",
       "\n",
       "[20100 rows x 9 columns]"
      ]
     },
     "execution_count": 47,
     "metadata": {},
     "output_type": "execute_result"
    }
   ],
   "source": [
    "dqn_agent.history"
   ]
  },
  {
   "cell_type": "markdown",
   "metadata": {},
   "source": [
    "# A2C"
   ]
  },
  {
   "cell_type": "code",
   "execution_count": 48,
   "metadata": {},
   "outputs": [],
   "source": [
    "class A2C(BaseAgent):\n",
    "    def __init__(self):\n",
    "        super().__init__()\n",
    "        self.policy = PolicyNetwork()\n",
    "        self.model = QNetwork()\n",
    "        self.optimizer = optim.Adam(chain(self.model.parameters(),\n",
    "                                          self.policy.parameters()), LR)\n",
    "\n",
    "        \n",
    "    def temporal_diff(self, state, action, next_state, reward):\n",
    "        state_tensor = FloatTensor([state])\n",
    "        next_state_tensor = FloatTensor([next_state])\n",
    "        with torch.no_grad():\n",
    "            q = self.model(state_tensor).gather(1, action)\n",
    "            future_q = reward + self.gamma * self.model(next_state_tensor).max(dim=1)[0]\n",
    "            return future_q - q\n",
    "        \n",
    "        \n",
    "    def get_adv(self, state, action, next_state, reward):\n",
    "        state_tensor = FloatTensor([state])\n",
    "        next_state_tensor = FloatTensor([next_state])\n",
    "\n",
    "        with torch.no_grad():\n",
    "            future_q = reward + self.gamma * self.model(next_state_tensor).max(dim=1)[0]\n",
    "            pi = self.policy(state_tensor).squeeze(0)\n",
    "            q_values = self.model(state_tensor).squeeze(0)\n",
    "            return future_q - torch.dot(q_values, pi)\n",
    "    \n",
    "    \n",
    "    def run_episode(self, environment):\n",
    "        state = environment.reset()\n",
    "        steps = 0\n",
    "        action = None\n",
    "        while True:\n",
    "            if steps % 100 == 0:\n",
    "                print(f'steps = {steps}')\n",
    "            state_tensor = FloatTensor([state])\n",
    "            try:\n",
    "                action = self.policy.sample_from_softmax_policy(state_tensor)\n",
    "            except RuntimeError:\n",
    "                print(f'state = {state_tensor}')\n",
    "                print(f'policy = {self.policy(state_tensor)}')\n",
    "                raise\n",
    "            position = self.convert_action(action)\n",
    "            next_state, reward, done, _ = environment.step(position)\n",
    "            self.learn(state, action, next_state, reward)\n",
    "            state = next_state\n",
    "            steps += 1\n",
    "            if done:\n",
    "                break\n",
    "        history = environment.close()\n",
    "        return history\n",
    "\n",
    "\n",
    "    def learn(self, state, action, next_state, reward):\n",
    "        n = self.steps_done\n",
    "        state_tensor = FloatTensor([state])\n",
    "\n",
    "        delta = self.temporal_diff(state, action, next_state, reward)\n",
    "        q_loss = delta * self.model(state_tensor).gather(1, action)\n",
    "\n",
    "        A = self.get_adv(state, action, next_state, reward)\n",
    "        pi_a = self.policy(state_tensor).gather(1, action)\n",
    "        policy_loss = A * torch.log(pi_a)\n",
    "\n",
    "        loss = (self.gamma ** n) * (policy_loss + q_loss)\n",
    "\n",
    "        # backpropagation of loss to QNetwork and PolicyNetwork\n",
    "        self.optimizer.zero_grad()\n",
    "        loss.backward()\n",
    "        self.optimizer.step()\n"
   ]
  },
  {
   "cell_type": "code",
   "execution_count": null,
   "metadata": {},
   "outputs": [
    {
     "name": "stderr",
     "output_type": "stream",
     "text": [
      "  0%|          | 0/20 [00:00<?, ?it/s]"
     ]
    },
    {
     "name": "stdout",
     "output_type": "stream",
     "text": [
      "steps = 0\n",
      "steps = 100\n",
      "steps = 200\n",
      "steps = 300\n",
      "steps = 400\n",
      "steps = 500\n"
     ]
    }
   ],
   "source": [
    "a2c_agent = A2C()\n",
    "a2c_agent.train(env_mode=\"train\", num_tickers=1, num_episodes=20)"
   ]
  },
  {
   "cell_type": "code",
   "execution_count": 56,
   "metadata": {},
   "outputs": [
    {
     "data": {
      "image/png": "[encoded data removed]",
      "text/plain": [
       "<Figure size 432x288 with 1 Axes>"
      ]
     },
     "metadata": {},
     "output_type": "display_data"
    },
    {
     "data": {
      "text/plain": [
       "<matplotlib.axes._subplots.AxesSubplot at 0x7f01b227f3d0>"
      ]
     },
     "execution_count": 56,
     "metadata": {},
     "output_type": "execute_result"
    },
    {
     "data": {
      "image/png": "[encoded data removed]",
      "text/plain": [
       "<Figure size 432x288 with 1 Axes>"
      ]
     },
     "metadata": {},
     "output_type": "display_data"
    }
   ],
   "source": [
    "a2c_agent.plot_cumulative_discounted_rewards()\n",
    "a2c_agent.history['returns'].plot()"
   ]
  },
  {
   "cell_type": "code",
   "execution_count": null,
   "metadata": {},
   "outputs": [],
   "source": [
    "e = TradingEnv()\n",
    "s0 = FloatTensor([e.reset()])"
   ]
  },
  {
   "cell_type": "code",
   "execution_count": null,
   "metadata": {},
   "outputs": [],
   "source": [
    "a2c_agent.policy.sample_from_softmax_policy(s0)\n",
    "# a2c_agent.policy(s0).sum()"
   ]
  },
  {
   "cell_type": "code",
   "execution_count": null,
   "metadata": {},
   "outputs": [],
   "source": [
    "a2c_agent.policy"
   ]
  },
  {
   "cell_type": "markdown",
   "metadata": {},
   "source": [
    " # Model-based (using Reddit Comments)"
   ]
  },
  {
   "cell_type": "code",
   "execution_count": null,
   "metadata": {},
   "outputs": [],
   "source": [
    "class ModelBasedAgent(BaseAgent):\n",
    "    def __init__(self):\n",
    "        super().__init__()"
   ]
  }
 ],
 "metadata": {
  "kernelspec": {
   "display_name": "Python 3",
   "language": "python",
   "name": "python3"
  },
  "language_info": {
   "codemirror_mode": {
    "name": "ipython",
    "version": 3
   },
   "file_extension": ".py",
   "mimetype": "text/x-python",
   "name": "python",
   "nbconvert_exporter": "python",
   "pygments_lexer": "ipython3",
   "version": "3.7.6"
  }
 },
 "nbformat": 4,
 "nbformat_minor": 4
}
