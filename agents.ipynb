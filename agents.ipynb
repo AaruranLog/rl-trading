{
 "cells": [
  {
   "cell_type": "code",
   "execution_count": 1,
   "metadata": {},
   "outputs": [
    {
     "name": "stderr",
     "output_type": "stream",
     "text": [
      "/home/aaruran/miniconda3/lib/python3.7/site-packages/pandas_datareader/compat/__init__.py:7: FutureWarning: pandas.util.testing is deprecated. Use the functions in the public API at pandas.testing instead.\n",
      "  from pandas.util.testing import assert_frame_equal\n"
     ]
    }
   ],
   "source": [
    "from system import TradingEnv\n",
    "import torch\n",
    "import torch.nn as nn\n",
    "import torch.optim as optim\n",
    "from torch.autograd import Variable\n",
    "import torch.nn.functional as F\n",
    "import matplotlib.pyplot as plt\n",
    "from itertools import chain\n",
    "import numpy as np\n",
    "import pandas as pd\n",
    "import random\n",
    "import math\n",
    "from tqdm import tqdm"
   ]
  },
  {
   "cell_type": "code",
   "execution_count": 2,
   "metadata": {},
   "outputs": [],
   "source": [
    "class ReplayMemory:\n",
    "    def __init__(self, capacity):\n",
    "        self.capacity = capacity\n",
    "        self.memory = []\n",
    "\n",
    "    def push(self, transition):\n",
    "        self.memory.append(transition)\n",
    "        if len(self.memory) > self.capacity:\n",
    "            del self.memory[0]\n",
    "\n",
    "    def sample(self, batch_size):\n",
    "        return random.sample(self.memory, batch_size)\n",
    "\n",
    "    def __len__(self):\n",
    "        return len(self.memory)"
   ]
  },
  {
   "cell_type": "code",
   "execution_count": 3,
   "metadata": {
    "colab": {},
    "colab_type": "code",
    "id": "Vlu9wCHd-oVS"
   },
   "outputs": [
    {
     "name": "stdout",
     "output_type": "stream",
     "text": [
      "STATE_DIM = 98\n"
     ]
    }
   ],
   "source": [
    "e = TradingEnv()\n",
    "STATE_DIM = len(e.reset())\n",
    "print(f'STATE_DIM = {STATE_DIM}')\n",
    "EMBED_DIM = 50 # from the dimensionality-reduced fastText model\n",
    "ACTION_DIM = 3\n",
    "EPISODES = 2000  # number of episodes\n",
    "EPS_START = 0.9  # e-greedy threshold start value\n",
    "EPS_END = 0.05  # e-greedy threshold end value\n",
    "EPS_DECAY = 200  # e-greedy threshold decay\n",
    "# GAMMA = 0.99  # Q-learning discount factor\n",
    "LR = 0.1  # NN optimizer learning rate\n",
    "HIDDEN_LAYER = 10  # NN hidden layer size\n",
    "BATCH_SIZE = 16  # Q-learning batch size\n",
    "TARGET_UPDATE = 100  # frequency of target update\n",
    "BUFFER_SIZE = 100  # capacity of the replay buffer \n",
    "\n",
    "# if gpu is to be used\n",
    "# use_cuda = torch.cuda.is_available()\n",
    "use_cuda = False\n",
    "FloatTensor = torch.cuda.FloatTensor if use_cuda else torch.FloatTensor\n",
    "LongTensor = torch.cuda.LongTensor if use_cuda else torch.LongTensor\n",
    "ByteTensor = torch.cuda.ByteTensor if use_cuda else torch.ByteTensor\n",
    "Tensor = FloatTensor\n",
    "del e"
   ]
  },
  {
   "cell_type": "code",
   "execution_count": 4,
   "metadata": {},
   "outputs": [
    {
     "name": "stdout",
     "output_type": "stream",
     "text": [
      "No GPU will be used\n"
     ]
    }
   ],
   "source": [
    "if use_cuda:\n",
    "    print('GPU found and in use')\n",
    "else:\n",
    "    print('No GPU will be used')"
   ]
  },
  {
   "cell_type": "markdown",
   "metadata": {
    "colab_type": "text",
    "id": "MA7IgkTA_Jsp"
   },
   "source": [
    "# Simple QNetwork \n",
    "Corresponds to a fully connected network with two hidden layers"
   ]
  },
  {
   "cell_type": "code",
   "execution_count": 5,
   "metadata": {
    "colab": {},
    "colab_type": "code",
    "id": "rpkLvLcR_WOl"
   },
   "outputs": [],
   "source": [
    "class QNetwork(nn.Module):\n",
    "    def __init__(self):\n",
    "        nn.Module.__init__(self)\n",
    "        self.l1 = nn.Linear(STATE_DIM, HIDDEN_LAYER)\n",
    "        self.l2 = nn.Linear(HIDDEN_LAYER, HIDDEN_LAYER)\n",
    "        self.l3 = nn.Linear(HIDDEN_LAYER, ACTION_DIM)\n",
    "                \n",
    "\n",
    "    def forward(self, x):\n",
    "        \"\"\"\n",
    "            Computes the estimated Q-values for a given batch x\n",
    "        \"\"\"\n",
    "        x = F.relu(self.l1(x))\n",
    "        x = F.relu(self.l2(x))\n",
    "        x = self.l3(x)\n",
    "        return x      \n",
    "    \n",
    "    def sample_from_softmax_policy(self, batch_state):\n",
    "        batch_q_values = self.forward(batch_state)\n",
    "        batch_pi = F.softmax(batch_q_values, dim=1)\n",
    "        batch_size = batch_pi.shape[0]\n",
    "        batch_actions = torch.empty(batch_size, 1)\n",
    "        for i in range(batch_size):\n",
    "            pi = batch_pi[i, :]\n",
    "            dist = torch.distributions.Categorical(pi)\n",
    "            # Subtract 1, so batch_actions is in {-1, 0, 1}\n",
    "            batch_actions[i, 0] = dist.sample().view(1,1) - 1\n",
    "        if use_cuda:\n",
    "            batch_actions = batch_actions.to(batch_state.get_device())\n",
    "        return batch_actions.long()"
   ]
  },
  {
   "cell_type": "markdown",
   "metadata": {},
   "source": [
    "# Generic Training Agent"
   ]
  },
  {
   "cell_type": "code",
   "execution_count": 43,
   "metadata": {},
   "outputs": [],
   "source": [
    "class BaseAgent:\n",
    "    def __init__(self, gamma=0.8):\n",
    "        assert 0 < gamma < 1, f\"Invalid gamma: {gamma}\" \n",
    "        self.gamma = gamma\n",
    "        self.memory = ReplayMemory(BUFFER_SIZE)\n",
    "        self.history = pd.DataFrame()\n",
    "        self.rewards_history = []\n",
    "        self.steps_done = 0\n",
    "        with open('sp500.txt', 'r') as src:\n",
    "            self.filtered_tickers = src.read().split(',')\n",
    "        \n",
    "    def run_episode(self, environment):\n",
    "        \"\"\"\n",
    "            Takes an env, and trains the agent until the environment\n",
    "            reaches a terminal state (ie the training window is complete).\n",
    "        \"\"\"\n",
    "        raise NotImplementedError()\n",
    "    \n",
    "    def plot_cumulative_discounted_rewards(self):\n",
    "        rewards = np.array(self.rewards_history)\n",
    "        discount_array = np.power(self.gamma, np.arange(rewards.shape[0]))\n",
    "        plt.plot((discount_array[:, None] * rewards).sum(axis=1))\n",
    "        plt.grid()\n",
    "        plt.ylabel('Cumulative Discounted Rewards')\n",
    "        plt.xlabel('Episode')\n",
    "\n",
    "    def convert_action(self, action):\n",
    "        \"\"\"\n",
    "            Takes action of shape 1 x 3, and converts into an integer in {-1, 0, 1}.\n",
    "            This integer is the position short/hold/long respectively.\n",
    "        \"\"\"\n",
    "        position = torch.argmax(action, dim=-1) - 1\n",
    "        assert position in [-1,0,1]\n",
    "        return position.item()\n",
    "    \n",
    "    def train(self, env_mode='dev', num_tickers=20, num_episodes = 5):\n",
    "        \"\"\"\n",
    "            Trains the agent for num_tickers episodes, looping over the approved\n",
    "            list of tickers. This is a convenience function.\n",
    "        \"\"\"\n",
    "        if num_tickers == np.Inf:\n",
    "            num_tickers = len(self.filtered_tickers)\n",
    "        self.history = pd.DataFrame()\n",
    "        for e in tqdm(range(num_episodes)):\n",
    "            for i in range(num_tickers):\n",
    "                ticker = self.filtered_tickers[ i % len(self.filtered_tickers)]\n",
    "                env = TradingEnv(ticker=ticker, mode=env_mode)\n",
    "                history = self.run_episode(env)\n",
    "                history['ticker'] = ticker\n",
    "                history['episode'] = e + 1\n",
    "                self.history = pd.concat((self.history, history))\n",
    "\n",
    "        self.history = self.history.set_index(['date', 'ticker', 'episode'])\n",
    "        self.history = self.history.unstack(level=1).swaplevel(0,1,1)\n",
    "        self.history = self.history.swaplevel(0,1,0).sort_index(1,0)\n",
    "        self.plot_cumulative_discounted_rewards()\n",
    "\n",
    "        \n",
    "class DQN(BaseAgent):\n",
    "    def __init__(self):\n",
    "        super().__init__()\n",
    "        self.model = QNetwork()\n",
    "        self.target = QNetwork()\n",
    "        self.optimizer = optim.SGD(self.model.parameters(), LR)\n",
    "\n",
    "    def select_epsilon_greedy_action(self, state):\n",
    "        sample = random.random()\n",
    "        eps_threshold = EPS_END + (EPS_START - EPS_END) * math.exp(-1. * self.steps_done / EPS_DECAY)\n",
    "        self.steps_done += 1\n",
    "        if sample > eps_threshold:\n",
    "            with torch.no_grad():\n",
    "                return self.target(state).data.max(1)[1].view(1, 1)\n",
    "        else:\n",
    "            return LongTensor([[random.randrange(3)]])\n",
    "    \n",
    "    def run_episode(self, environment):\n",
    "        state = environment.reset()\n",
    "        steps = 0\n",
    "        action = None\n",
    "        while True:\n",
    "            state_tensor = FloatTensor([state])\n",
    "            action = self.select_epsilon_greedy_action(state_tensor)\n",
    "            position = self.convert_action(action)\n",
    "            next_state, reward, done, _ = environment.step(position)\n",
    "            \n",
    "            self.memory.push(\n",
    "                (\n",
    "                    FloatTensor([state]),\n",
    "                    action,  # action is already a tensor\n",
    "                    FloatTensor([next_state]),\n",
    "                    FloatTensor([reward]),\n",
    "                    FloatTensor([int(done)])\n",
    "                )\n",
    "            )\n",
    "\n",
    "            self.learn()\n",
    "            if self.steps_done % TARGET_UPDATE == 0:\n",
    "                self.target.load_state_dict(self.model.state_dict())\n",
    "        \n",
    "            state = next_state\n",
    "            steps += 1\n",
    "            if done:\n",
    "                break\n",
    "        self.rewards_history.append(environment.rewards_list)\n",
    "        history = environment.close()\n",
    "        return history\n",
    "\n",
    "        \n",
    "    def max_next_q_values(self, batch_next_state):\n",
    "        # expected Q values are estimated from actions which gives maximum Q value\n",
    "        return self.target(batch_next_state).detach().max(1)[0]\n",
    "    \n",
    "    def learn(self):\n",
    "        if len(self.memory) <= BATCH_SIZE:\n",
    "            return\n",
    "        # random transition batch is taken from experience replay memory\n",
    "        transitions = self.memory.sample(BATCH_SIZE)\n",
    "        batch_state, batch_action, batch_next_state, batch_reward, batch_done = zip(*transitions)\n",
    "        batch_state = Variable(torch.cat(batch_state))\n",
    "        batch_action = Variable(torch.cat(batch_action))\n",
    "        batch_reward = Variable(torch.cat(batch_reward))\n",
    "        batch_next_state = Variable(torch.cat(batch_next_state))\n",
    "        batch_done = Variable(torch.cat(batch_done))\n",
    "\n",
    "        # current Q values are estimated by NN for all actions\n",
    "        current_q_values = self.model(batch_state).gather(1, batch_action).squeeze()\n",
    "        expected_future_rewards = self.max_next_q_values(batch_next_state)\n",
    "        \n",
    "        expected_q_values = batch_reward + (self.gamma * expected_future_rewards) * (1-batch_done)\n",
    "\n",
    "        # loss is measured from error between current and newly expected Q values\n",
    "        loss = F.mse_loss(current_q_values, expected_q_values)\n",
    "\n",
    "        # backpropagation of loss to QNetwork\n",
    "        self.optimizer.zero_grad()\n",
    "        loss.backward()\n",
    "        self.optimizer.step()\n",
    "\n",
    "    \n",
    "# agent=DQN()\n",
    "# env = TradingEnv()\n",
    "# for i in range(10):\n",
    "#     s = FloatTensor([env.reset()])\n",
    "#     agent.steps_done=100\n",
    "#     print(agent.select_epsilon_greedy_action(s))\n",
    "\n",
    "# agent.run_episode(env)"
   ]
  },
  {
   "cell_type": "code",
   "execution_count": 44,
   "metadata": {},
   "outputs": [],
   "source": [
    "agent=DQN()"
   ]
  },
  {
   "cell_type": "code",
   "execution_count": 45,
   "metadata": {},
   "outputs": [
    {
     "name": "stderr",
     "output_type": "stream",
     "text": [
      "  5%|▌         | 1/20 [00:01<00:20,  1.07s/it]"
     ]
    },
    {
     "name": "stdout",
     "output_type": "stream",
     "text": [
      "Updating target network\n",
      "Updating target network\n",
      "Updating target network\n",
      "Updating target network\n"
     ]
    },
    {
     "name": "stderr",
     "output_type": "stream",
     "text": [
      " 10%|█         | 2/20 [00:01<00:18,  1.01s/it]"
     ]
    },
    {
     "name": "stdout",
     "output_type": "stream",
     "text": [
      "Updating target network\n",
      "Updating target network\n"
     ]
    },
    {
     "name": "stderr",
     "output_type": "stream",
     "text": [
      " 15%|█▌        | 3/20 [00:02<00:16,  1.01it/s]"
     ]
    },
    {
     "name": "stdout",
     "output_type": "stream",
     "text": [
      "Updating target network\n",
      "Updating target network\n",
      "Updating target network\n"
     ]
    },
    {
     "name": "stderr",
     "output_type": "stream",
     "text": [
      " 20%|██        | 4/20 [00:03<00:15,  1.06it/s]"
     ]
    },
    {
     "name": "stdout",
     "output_type": "stream",
     "text": [
      "Updating target network\n",
      "Updating target network\n",
      "Updating target network\n"
     ]
    },
    {
     "name": "stderr",
     "output_type": "stream",
     "text": [
      " 25%|██▌       | 5/20 [00:04<00:13,  1.12it/s]"
     ]
    },
    {
     "name": "stdout",
     "output_type": "stream",
     "text": [
      "Updating target network\n",
      "Updating target network\n"
     ]
    },
    {
     "name": "stderr",
     "output_type": "stream",
     "text": [
      " 30%|███       | 6/20 [00:05<00:13,  1.08it/s]"
     ]
    },
    {
     "name": "stdout",
     "output_type": "stream",
     "text": [
      "Updating target network\n",
      "Updating target network\n"
     ]
    },
    {
     "name": "stderr",
     "output_type": "stream",
     "text": [
      " 35%|███▌      | 7/20 [00:06<00:12,  1.04it/s]"
     ]
    },
    {
     "name": "stdout",
     "output_type": "stream",
     "text": [
      "Updating target network\n"
     ]
    },
    {
     "name": "stderr",
     "output_type": "stream",
     "text": [
      " 40%|████      | 8/20 [00:07<00:11,  1.05it/s]"
     ]
    },
    {
     "name": "stdout",
     "output_type": "stream",
     "text": [
      "Updating target network\n",
      "Updating target network\n",
      "Updating target network\n",
      "Updating target network\n"
     ]
    },
    {
     "name": "stderr",
     "output_type": "stream",
     "text": [
      " 45%|████▌     | 9/20 [00:08<00:09,  1.10it/s]"
     ]
    },
    {
     "name": "stdout",
     "output_type": "stream",
     "text": [
      "Updating target network\n"
     ]
    },
    {
     "name": "stderr",
     "output_type": "stream",
     "text": [
      " 50%|█████     | 10/20 [00:09<00:09,  1.11it/s]"
     ]
    },
    {
     "name": "stdout",
     "output_type": "stream",
     "text": [
      "Updating target network\n",
      "Updating target network\n",
      "Updating target network\n",
      "Updating target network\n"
     ]
    },
    {
     "name": "stderr",
     "output_type": "stream",
     "text": [
      " 55%|█████▌    | 11/20 [00:10<00:08,  1.03it/s]"
     ]
    },
    {
     "name": "stdout",
     "output_type": "stream",
     "text": [
      "Updating target network\n"
     ]
    },
    {
     "name": "stderr",
     "output_type": "stream",
     "text": [
      " 60%|██████    | 12/20 [00:11<00:07,  1.02it/s]"
     ]
    },
    {
     "name": "stdout",
     "output_type": "stream",
     "text": [
      "Updating target network\n",
      "Updating target network\n",
      "Updating target network\n",
      "Updating target network\n"
     ]
    },
    {
     "name": "stderr",
     "output_type": "stream",
     "text": [
      " 65%|██████▌   | 13/20 [00:12<00:06,  1.02it/s]"
     ]
    },
    {
     "name": "stdout",
     "output_type": "stream",
     "text": [
      "Updating target network\n",
      "Updating target network\n",
      "Updating target network\n"
     ]
    },
    {
     "name": "stderr",
     "output_type": "stream",
     "text": [
      " 70%|███████   | 14/20 [00:13<00:06,  1.00s/it]"
     ]
    },
    {
     "name": "stdout",
     "output_type": "stream",
     "text": [
      "Updating target network\n",
      "Updating target network\n"
     ]
    },
    {
     "name": "stderr",
     "output_type": "stream",
     "text": [
      " 75%|███████▌  | 15/20 [00:14<00:04,  1.05it/s]"
     ]
    },
    {
     "name": "stdout",
     "output_type": "stream",
     "text": [
      "Updating target network\n"
     ]
    },
    {
     "name": "stderr",
     "output_type": "stream",
     "text": [
      " 80%|████████  | 16/20 [00:15<00:03,  1.07it/s]"
     ]
    },
    {
     "name": "stdout",
     "output_type": "stream",
     "text": [
      "Updating target network\n",
      "Updating target network\n",
      "Updating target network\n",
      "Updating target network\n"
     ]
    },
    {
     "name": "stderr",
     "output_type": "stream",
     "text": [
      " 85%|████████▌ | 17/20 [00:16<00:03,  1.00s/it]"
     ]
    },
    {
     "name": "stdout",
     "output_type": "stream",
     "text": [
      "Updating target network\n",
      "Updating target network\n"
     ]
    },
    {
     "name": "stderr",
     "output_type": "stream",
     "text": [
      " 90%|█████████ | 18/20 [00:17<00:01,  1.01it/s]"
     ]
    },
    {
     "name": "stdout",
     "output_type": "stream",
     "text": [
      "Updating target network\n",
      "Updating target network\n",
      "Updating target network\n"
     ]
    },
    {
     "name": "stderr",
     "output_type": "stream",
     "text": [
      " 95%|█████████▌| 19/20 [00:18<00:01,  1.01s/it]"
     ]
    },
    {
     "name": "stdout",
     "output_type": "stream",
     "text": [
      "Updating target network\n",
      "Updating target network\n"
     ]
    },
    {
     "name": "stderr",
     "output_type": "stream",
     "text": [
      "100%|██████████| 20/20 [00:19<00:00,  1.01it/s]"
     ]
    },
    {
     "name": "stdout",
     "output_type": "stream",
     "text": [
      "Updating target network\n"
     ]
    },
    {
     "name": "stderr",
     "output_type": "stream",
     "text": [
      "\n"
     ]
    },
    {
     "data": {
      "image/png": "[encoded data removed]",
      "text/plain": [
       "<Figure size 432x288 with 1 Axes>"
      ]
     },
     "metadata": {
      "needs_background": "light"
     },
     "output_type": "display_data"
    }
   ],
   "source": [
    "agent.train(num_tickers=1, num_episodes=20)"
   ]
  },
  {
   "cell_type": "code",
   "execution_count": 46,
   "metadata": {},
   "outputs": [
    {
     "data": {
      "text/html": [
       "<div>\n",
       "<style scoped>\n",
       "    .dataframe tbody tr th:only-of-type {\n",
       "        vertical-align: middle;\n",
       "    }\n",
       "\n",
       "    .dataframe tbody tr th {\n",
       "        vertical-align: top;\n",
       "    }\n",
       "\n",
       "    .dataframe thead tr th {\n",
       "        text-align: left;\n",
       "    }\n",
       "\n",
       "    .dataframe thead tr:last-of-type th {\n",
       "        text-align: right;\n",
       "    }\n",
       "</style>\n",
       "<table border=\"1\" class=\"dataframe\">\n",
       "  <thead>\n",
       "    <tr>\n",
       "      <th></th>\n",
       "      <th>ticker</th>\n",
       "      <th colspan=\"4\" halign=\"left\">MMM</th>\n",
       "    </tr>\n",
       "    <tr>\n",
       "      <th></th>\n",
       "      <th></th>\n",
       "      <th>actions</th>\n",
       "      <th>prices</th>\n",
       "      <th>returns</th>\n",
       "      <th>rewards</th>\n",
       "    </tr>\n",
       "    <tr>\n",
       "      <th>episode</th>\n",
       "      <th>date</th>\n",
       "      <th></th>\n",
       "      <th></th>\n",
       "      <th></th>\n",
       "      <th></th>\n",
       "    </tr>\n",
       "  </thead>\n",
       "  <tbody>\n",
       "    <tr>\n",
       "      <th rowspan=\"50\" valign=\"top\">1</th>\n",
       "      <th>2014-01-06</th>\n",
       "      <td>-1</td>\n",
       "      <td>137.630005</td>\n",
       "      <td>-0.039978</td>\n",
       "      <td>-1.348460</td>\n",
       "    </tr>\n",
       "    <tr>\n",
       "      <th>2014-01-07</th>\n",
       "      <td>-1</td>\n",
       "      <td>137.649994</td>\n",
       "      <td>1.999408</td>\n",
       "      <td>-168.488392</td>\n",
       "    </tr>\n",
       "    <tr>\n",
       "      <th>2014-01-08</th>\n",
       "      <td>-1</td>\n",
       "      <td>136.630005</td>\n",
       "      <td>2.364693</td>\n",
       "      <td>-135.322048</td>\n",
       "    </tr>\n",
       "    <tr>\n",
       "      <th>2014-01-09</th>\n",
       "      <td>-1</td>\n",
       "      <td>136.449997</td>\n",
       "      <td>2.914050</td>\n",
       "      <td>-219.611148</td>\n",
       "    </tr>\n",
       "    <tr>\n",
       "      <th>2014-01-10</th>\n",
       "      <td>-1</td>\n",
       "      <td>136.179993</td>\n",
       "      <td>5.978091</td>\n",
       "      <td>-422.435737</td>\n",
       "    </tr>\n",
       "    <tr>\n",
       "      <th>2014-01-13</th>\n",
       "      <td>-1</td>\n",
       "      <td>134.679993</td>\n",
       "      <td>0.277296</td>\n",
       "      <td>-216.309235</td>\n",
       "    </tr>\n",
       "    <tr>\n",
       "      <th>2014-01-14</th>\n",
       "      <td>-1</td>\n",
       "      <td>137.410004</td>\n",
       "      <td>-1.788079</td>\n",
       "      <td>-12.746327</td>\n",
       "    </tr>\n",
       "    <tr>\n",
       "      <th>2014-01-15</th>\n",
       "      <td>-1</td>\n",
       "      <td>138.440002</td>\n",
       "      <td>-1.234974</td>\n",
       "      <td>-202.372180</td>\n",
       "    </tr>\n",
       "    <tr>\n",
       "      <th>2014-01-16</th>\n",
       "      <td>-1</td>\n",
       "      <td>138.160004</td>\n",
       "      <td>0.450919</td>\n",
       "      <td>-282.728844</td>\n",
       "    </tr>\n",
       "    <tr>\n",
       "      <th>2014-01-17</th>\n",
       "      <td>-1</td>\n",
       "      <td>137.309998</td>\n",
       "      <td>1.093445</td>\n",
       "      <td>-205.889642</td>\n",
       "    </tr>\n",
       "    <tr>\n",
       "      <th>2014-01-21</th>\n",
       "      <td>-1</td>\n",
       "      <td>136.990005</td>\n",
       "      <td>2.122301</td>\n",
       "      <td>-245.257212</td>\n",
       "    </tr>\n",
       "    <tr>\n",
       "      <th>2014-01-22</th>\n",
       "      <td>-1</td>\n",
       "      <td>136.479996</td>\n",
       "      <td>5.719632</td>\n",
       "      <td>-516.257384</td>\n",
       "    </tr>\n",
       "    <tr>\n",
       "      <th>2014-01-23</th>\n",
       "      <td>-1</td>\n",
       "      <td>134.710007</td>\n",
       "      <td>15.084935</td>\n",
       "      <td>-935.025181</td>\n",
       "    </tr>\n",
       "    <tr>\n",
       "      <th>2014-01-24</th>\n",
       "      <td>-1</td>\n",
       "      <td>130.220001</td>\n",
       "      <td>17.894281</td>\n",
       "      <td>-268.827879</td>\n",
       "    </tr>\n",
       "    <tr>\n",
       "      <th>2014-01-27</th>\n",
       "      <td>-1</td>\n",
       "      <td>128.960007</td>\n",
       "      <td>15.962066</td>\n",
       "      <td>-41.485987</td>\n",
       "    </tr>\n",
       "    <tr>\n",
       "      <th>2014-01-28</th>\n",
       "      <td>-1</td>\n",
       "      <td>129.809998</td>\n",
       "      <td>14.974943</td>\n",
       "      <td>-45.281766</td>\n",
       "    </tr>\n",
       "    <tr>\n",
       "      <th>2014-01-29</th>\n",
       "      <td>-1</td>\n",
       "      <td>130.250000</td>\n",
       "      <td>19.877178</td>\n",
       "      <td>-173.444133</td>\n",
       "    </tr>\n",
       "    <tr>\n",
       "      <th>2014-01-30</th>\n",
       "      <td>-1</td>\n",
       "      <td>128.050003</td>\n",
       "      <td>19.554499</td>\n",
       "      <td>-48.737675</td>\n",
       "    </tr>\n",
       "    <tr>\n",
       "      <th>2014-01-31</th>\n",
       "      <td>-1</td>\n",
       "      <td>128.190002</td>\n",
       "      <td>29.420748</td>\n",
       "      <td>-221.686676</td>\n",
       "    </tr>\n",
       "    <tr>\n",
       "      <th>2014-02-03</th>\n",
       "      <td>-1</td>\n",
       "      <td>123.900002</td>\n",
       "      <td>22.486126</td>\n",
       "      <td>-55.322380</td>\n",
       "    </tr>\n",
       "    <tr>\n",
       "      <th>2014-02-04</th>\n",
       "      <td>-1</td>\n",
       "      <td>126.720001</td>\n",
       "      <td>20.982359</td>\n",
       "      <td>-16.932338</td>\n",
       "    </tr>\n",
       "    <tr>\n",
       "      <th>2014-02-05</th>\n",
       "      <td>-1</td>\n",
       "      <td>127.360001</td>\n",
       "      <td>17.400299</td>\n",
       "      <td>-22.063962</td>\n",
       "    </tr>\n",
       "    <tr>\n",
       "      <th>2014-02-06</th>\n",
       "      <td>-1</td>\n",
       "      <td>128.899994</td>\n",
       "      <td>14.153545</td>\n",
       "      <td>-22.354932</td>\n",
       "    </tr>\n",
       "    <tr>\n",
       "      <th>2014-02-07</th>\n",
       "      <td>-1</td>\n",
       "      <td>130.330002</td>\n",
       "      <td>15.552547</td>\n",
       "      <td>-76.770260</td>\n",
       "    </tr>\n",
       "    <tr>\n",
       "      <th>2014-02-10</th>\n",
       "      <td>-1</td>\n",
       "      <td>129.699997</td>\n",
       "      <td>12.682541</td>\n",
       "      <td>-25.430404</td>\n",
       "    </tr>\n",
       "    <tr>\n",
       "      <th>2014-02-11</th>\n",
       "      <td>-1</td>\n",
       "      <td>130.979996</td>\n",
       "      <td>13.869646</td>\n",
       "      <td>-103.355476</td>\n",
       "    </tr>\n",
       "    <tr>\n",
       "      <th>2014-02-12</th>\n",
       "      <td>-1</td>\n",
       "      <td>130.440002</td>\n",
       "      <td>14.534625</td>\n",
       "      <td>-108.373196</td>\n",
       "    </tr>\n",
       "    <tr>\n",
       "      <th>2014-02-13</th>\n",
       "      <td>-1</td>\n",
       "      <td>130.139999</td>\n",
       "      <td>10.125587</td>\n",
       "      <td>-96.646184</td>\n",
       "    </tr>\n",
       "    <tr>\n",
       "      <th>2014-02-14</th>\n",
       "      <td>-1</td>\n",
       "      <td>132.119995</td>\n",
       "      <td>10.816786</td>\n",
       "      <td>-136.448002</td>\n",
       "    </tr>\n",
       "    <tr>\n",
       "      <th>2014-02-18</th>\n",
       "      <td>-1</td>\n",
       "      <td>131.800003</td>\n",
       "      <td>13.508264</td>\n",
       "      <td>-198.580456</td>\n",
       "    </tr>\n",
       "    <tr>\n",
       "      <th>2014-02-19</th>\n",
       "      <td>-1</td>\n",
       "      <td>130.559998</td>\n",
       "      <td>11.296497</td>\n",
       "      <td>-11.772385</td>\n",
       "    </tr>\n",
       "    <tr>\n",
       "      <th>2014-02-20</th>\n",
       "      <td>-1</td>\n",
       "      <td>131.559998</td>\n",
       "      <td>11.274694</td>\n",
       "      <td>-90.830710</td>\n",
       "    </tr>\n",
       "    <tr>\n",
       "      <th>2014-02-21</th>\n",
       "      <td>-1</td>\n",
       "      <td>131.570007</td>\n",
       "      <td>9.902695</td>\n",
       "      <td>-40.807607</td>\n",
       "    </tr>\n",
       "    <tr>\n",
       "      <th>2014-02-24</th>\n",
       "      <td>-1</td>\n",
       "      <td>132.199997</td>\n",
       "      <td>8.328054</td>\n",
       "      <td>-10.849608</td>\n",
       "    </tr>\n",
       "    <tr>\n",
       "      <th>2014-02-25</th>\n",
       "      <td>-1</td>\n",
       "      <td>132.929993</td>\n",
       "      <td>8.477373</td>\n",
       "      <td>-134.117497</td>\n",
       "    </tr>\n",
       "    <tr>\n",
       "      <th>2014-02-26</th>\n",
       "      <td>-1</td>\n",
       "      <td>132.860001</td>\n",
       "      <td>5.316676</td>\n",
       "      <td>-109.072545</td>\n",
       "    </tr>\n",
       "    <tr>\n",
       "      <th>2014-02-27</th>\n",
       "      <td>-1</td>\n",
       "      <td>134.339996</td>\n",
       "      <td>4.502141</td>\n",
       "      <td>-123.976806</td>\n",
       "    </tr>\n",
       "    <tr>\n",
       "      <th>2014-02-28</th>\n",
       "      <td>-1</td>\n",
       "      <td>134.729996</td>\n",
       "      <td>9.734810</td>\n",
       "      <td>-495.803217</td>\n",
       "    </tr>\n",
       "    <tr>\n",
       "      <th>2014-03-03</th>\n",
       "      <td>-1</td>\n",
       "      <td>132.210007</td>\n",
       "      <td>8.721698</td>\n",
       "      <td>-75.930819</td>\n",
       "    </tr>\n",
       "    <tr>\n",
       "      <th>2014-03-04</th>\n",
       "      <td>-1</td>\n",
       "      <td>132.679993</td>\n",
       "      <td>6.217459</td>\n",
       "      <td>-24.489939</td>\n",
       "    </tr>\n",
       "    <tr>\n",
       "      <th>2014-03-05</th>\n",
       "      <td>-1</td>\n",
       "      <td>133.850006</td>\n",
       "      <td>5.733794</td>\n",
       "      <td>-128.057559</td>\n",
       "    </tr>\n",
       "    <tr>\n",
       "      <th>2014-03-06</th>\n",
       "      <td>-1</td>\n",
       "      <td>134.080002</td>\n",
       "      <td>5.670925</td>\n",
       "      <td>-160.579630</td>\n",
       "    </tr>\n",
       "    <tr>\n",
       "      <th>2014-03-07</th>\n",
       "      <td>-1</td>\n",
       "      <td>134.110001</td>\n",
       "      <td>6.823060</td>\n",
       "      <td>-263.105400</td>\n",
       "    </tr>\n",
       "    <tr>\n",
       "      <th>2014-03-10</th>\n",
       "      <td>-1</td>\n",
       "      <td>133.559998</td>\n",
       "      <td>9.040701</td>\n",
       "      <td>-331.028946</td>\n",
       "    </tr>\n",
       "    <tr>\n",
       "      <th>2014-03-11</th>\n",
       "      <td>-1</td>\n",
       "      <td>132.509995</td>\n",
       "      <td>8.911943</td>\n",
       "      <td>-158.994381</td>\n",
       "    </tr>\n",
       "    <tr>\n",
       "      <th>2014-03-12</th>\n",
       "      <td>-1</td>\n",
       "      <td>132.570007</td>\n",
       "      <td>12.684632</td>\n",
       "      <td>-541.096734</td>\n",
       "    </tr>\n",
       "    <tr>\n",
       "      <th>2014-03-13</th>\n",
       "      <td>-1</td>\n",
       "      <td>130.809998</td>\n",
       "      <td>14.841841</td>\n",
       "      <td>-371.705702</td>\n",
       "    </tr>\n",
       "    <tr>\n",
       "      <th>2014-03-14</th>\n",
       "      <td>-1</td>\n",
       "      <td>129.830002</td>\n",
       "      <td>9.389717</td>\n",
       "      <td>-156.972496</td>\n",
       "    </tr>\n",
       "    <tr>\n",
       "      <th>2014-03-17</th>\n",
       "      <td>-1</td>\n",
       "      <td>132.270004</td>\n",
       "      <td>8.378258</td>\n",
       "      <td>-89.928231</td>\n",
       "    </tr>\n",
       "    <tr>\n",
       "      <th>2014-03-18</th>\n",
       "      <td>-1</td>\n",
       "      <td>132.740005</td>\n",
       "      <td>11.604840</td>\n",
       "      <td>-354.134144</td>\n",
       "    </tr>\n",
       "  </tbody>\n",
       "</table>\n",
       "</div>"
      ],
      "text/plain": [
       "ticker                 MMM                                   \n",
       "                   actions      prices    returns     rewards\n",
       "episode date                                                 \n",
       "1       2014-01-06      -1  137.630005  -0.039978   -1.348460\n",
       "        2014-01-07      -1  137.649994   1.999408 -168.488392\n",
       "        2014-01-08      -1  136.630005   2.364693 -135.322048\n",
       "        2014-01-09      -1  136.449997   2.914050 -219.611148\n",
       "        2014-01-10      -1  136.179993   5.978091 -422.435737\n",
       "        2014-01-13      -1  134.679993   0.277296 -216.309235\n",
       "        2014-01-14      -1  137.410004  -1.788079  -12.746327\n",
       "        2014-01-15      -1  138.440002  -1.234974 -202.372180\n",
       "        2014-01-16      -1  138.160004   0.450919 -282.728844\n",
       "        2014-01-17      -1  137.309998   1.093445 -205.889642\n",
       "        2014-01-21      -1  136.990005   2.122301 -245.257212\n",
       "        2014-01-22      -1  136.479996   5.719632 -516.257384\n",
       "        2014-01-23      -1  134.710007  15.084935 -935.025181\n",
       "        2014-01-24      -1  130.220001  17.894281 -268.827879\n",
       "        2014-01-27      -1  128.960007  15.962066  -41.485987\n",
       "        2014-01-28      -1  129.809998  14.974943  -45.281766\n",
       "        2014-01-29      -1  130.250000  19.877178 -173.444133\n",
       "        2014-01-30      -1  128.050003  19.554499  -48.737675\n",
       "        2014-01-31      -1  128.190002  29.420748 -221.686676\n",
       "        2014-02-03      -1  123.900002  22.486126  -55.322380\n",
       "        2014-02-04      -1  126.720001  20.982359  -16.932338\n",
       "        2014-02-05      -1  127.360001  17.400299  -22.063962\n",
       "        2014-02-06      -1  128.899994  14.153545  -22.354932\n",
       "        2014-02-07      -1  130.330002  15.552547  -76.770260\n",
       "        2014-02-10      -1  129.699997  12.682541  -25.430404\n",
       "        2014-02-11      -1  130.979996  13.869646 -103.355476\n",
       "        2014-02-12      -1  130.440002  14.534625 -108.373196\n",
       "        2014-02-13      -1  130.139999  10.125587  -96.646184\n",
       "        2014-02-14      -1  132.119995  10.816786 -136.448002\n",
       "        2014-02-18      -1  131.800003  13.508264 -198.580456\n",
       "        2014-02-19      -1  130.559998  11.296497  -11.772385\n",
       "        2014-02-20      -1  131.559998  11.274694  -90.830710\n",
       "        2014-02-21      -1  131.570007   9.902695  -40.807607\n",
       "        2014-02-24      -1  132.199997   8.328054  -10.849608\n",
       "        2014-02-25      -1  132.929993   8.477373 -134.117497\n",
       "        2014-02-26      -1  132.860001   5.316676 -109.072545\n",
       "        2014-02-27      -1  134.339996   4.502141 -123.976806\n",
       "        2014-02-28      -1  134.729996   9.734810 -495.803217\n",
       "        2014-03-03      -1  132.210007   8.721698  -75.930819\n",
       "        2014-03-04      -1  132.679993   6.217459  -24.489939\n",
       "        2014-03-05      -1  133.850006   5.733794 -128.057559\n",
       "        2014-03-06      -1  134.080002   5.670925 -160.579630\n",
       "        2014-03-07      -1  134.110001   6.823060 -263.105400\n",
       "        2014-03-10      -1  133.559998   9.040701 -331.028946\n",
       "        2014-03-11      -1  132.509995   8.911943 -158.994381\n",
       "        2014-03-12      -1  132.570007  12.684632 -541.096734\n",
       "        2014-03-13      -1  130.809998  14.841841 -371.705702\n",
       "        2014-03-14      -1  129.830002   9.389717 -156.972496\n",
       "        2014-03-17      -1  132.270004   8.378258  -89.928231\n",
       "        2014-03-18      -1  132.740005  11.604840 -354.134144"
      ]
     },
     "execution_count": 46,
     "metadata": {},
     "output_type": "execute_result"
    }
   ],
   "source": [
    "agent.history.sort_index(0).head(50)"
   ]
  },
  {
   "cell_type": "code",
   "execution_count": 28,
   "metadata": {},
   "outputs": [
    {
     "data": {
      "text/plain": [
       "-1"
      ]
     },
     "execution_count": 28,
     "metadata": {},
     "output_type": "execute_result"
    }
   ],
   "source": [
    "agent.history['MMM', 'actions'].max()"
   ]
  },
  {
   "cell_type": "code",
   "execution_count": 29,
   "metadata": {},
   "outputs": [
    {
     "data": {
      "text/plain": [
       "<matplotlib.axes._subplots.AxesSubplot at 0x7f2d4c045fd0>"
      ]
     },
     "execution_count": 29,
     "metadata": {},
     "output_type": "execute_result"
    },
    {
     "data": {
      "image/png": "[encoded data removed]",
      "text/plain": [
       "<Figure size 432x288 with 1 Axes>"
      ]
     },
     "metadata": {
      "needs_background": "light"
     },
     "output_type": "display_data"
    }
   ],
   "source": [
    "agent.history['MMM', 'prices'].unstack(level=0).plot()"
   ]
  },
  {
   "cell_type": "code",
   "execution_count": 31,
   "metadata": {},
   "outputs": [
    {
     "data": {
      "text/plain": [
       "<matplotlib.axes._subplots.AxesSubplot at 0x7f2d445203d0>"
      ]
     },
     "execution_count": 31,
     "metadata": {},
     "output_type": "execute_result"
    },
    {
     "data": {
      "image/png": "[encoded data removed]",
      "text/plain": [
       "<Figure size 432x288 with 1 Axes>"
      ]
     },
     "metadata": {
      "needs_background": "light"
     },
     "output_type": "display_data"
    }
   ],
   "source": [
    "agent.history['MMM', 'rewards'].unstack(level=0).cumsum().plot()"
   ]
  },
  {
   "cell_type": "code",
   "execution_count": 32,
   "metadata": {},
   "outputs": [
    {
     "name": "stdout",
     "output_type": "stream",
     "text": [
      "action = tensor([[1]]),  position = -1\n",
      "action = tensor([[1]]),  position = -1\n",
      "action = tensor([[1]]),  position = -1\n",
      "action = tensor([[1]]),  position = -1\n",
      "action = tensor([[1]]),  position = -1\n",
      "action = tensor([[1]]),  position = -1\n",
      "action = tensor([[1]]),  position = -1\n",
      "action = tensor([[1]]),  position = -1\n",
      "action = tensor([[1]]),  position = -1\n",
      "action = tensor([[1]]),  position = -1\n",
      "action = tensor([[1]]),  position = -1\n"
     ]
    }
   ],
   "source": [
    "for i, t in enumerate(agent.memory.memory):\n",
    "    if i > 10:\n",
    "        break\n",
    "    action = t[1]\n",
    "    print(f'action = {action}, ', end= ' ')\n",
    "    position = agent.convert_action(action)\n",
    "    print(f'position = {position}')"
   ]
  },
  {
   "cell_type": "code",
   "execution_count": 33,
   "metadata": {},
   "outputs": [
    {
     "data": {
      "text/plain": [
       "98"
      ]
     },
     "execution_count": 33,
     "metadata": {},
     "output_type": "execute_result"
    }
   ],
   "source": [
    "STATE_DIM"
   ]
  },
  {
   "cell_type": "code",
   "execution_count": 42,
   "metadata": {},
   "outputs": [
    {
     "name": "stdout",
     "output_type": "stream",
     "text": [
      "q_values = tensor([[-0.0536, -0.1901, -0.1533]]),\n",
      "max_next_q_values = tensor([-0.0536])\n",
      "optimal_action = tensor([[0]])\n",
      "q_values = tensor([[ 0.0158,  0.2212, -0.0147]]),\n",
      "max_next_q_values = tensor([0.2212])\n",
      "optimal_action = tensor([[1]])\n",
      "q_values = tensor([[-0.1137,  0.0271,  0.0738]]),\n",
      "max_next_q_values = tensor([0.0738])\n",
      "optimal_action = tensor([[2]])\n",
      "q_values = tensor([[-0.1743,  0.0728,  0.0736]]),\n",
      "max_next_q_values = tensor([0.0736])\n",
      "optimal_action = tensor([[2]])\n",
      "q_values = tensor([[-0.1569, -0.0673,  0.0188]]),\n",
      "max_next_q_values = tensor([0.0188])\n",
      "optimal_action = tensor([[2]])\n",
      "q_values = tensor([[-0.0982,  0.0159,  0.0059]]),\n",
      "max_next_q_values = tensor([0.0159])\n",
      "optimal_action = tensor([[1]])\n",
      "q_values = tensor([[-0.1393,  0.0204,  0.0376]]),\n",
      "max_next_q_values = tensor([0.0376])\n",
      "optimal_action = tensor([[2]])\n",
      "q_values = tensor([[ 0.0235, -0.0563, -0.0867]]),\n",
      "max_next_q_values = tensor([0.0235])\n",
      "optimal_action = tensor([[0]])\n",
      "q_values = tensor([[-0.1215,  0.0416,  0.0991]]),\n",
      "max_next_q_values = tensor([0.0991])\n",
      "optimal_action = tensor([[2]])\n",
      "q_values = tensor([[-0.2086,  0.0492,  0.0169]]),\n",
      "max_next_q_values = tensor([0.0492])\n",
      "optimal_action = tensor([[1]])\n"
     ]
    }
   ],
   "source": [
    "dqn_agent = DQN()\n",
    "for _ in range(10):\n",
    "    random_state = FloatTensor([np.random.randn(98)])\n",
    "    q_values = dqn_agent.target(random_state).detach()\n",
    "    print(f'q_values = {q_values},')\n",
    "    print(f'max_next_q_values = {dqn_agent.max_next_q_values(random_state)}')\n",
    "    with torch.no_grad():\n",
    "        optimal_action = q_values.data.max(1)[1].view(1, 1)\n",
    "        print(f'optimal_action = {optimal_action}')"
   ]
  },
  {
   "cell_type": "code",
   "execution_count": null,
   "metadata": {},
   "outputs": [],
   "source": [
    "agent.history['MMM', 'rewards'].unstack(level=0)[1].apply(lambda x : x.item()).plot()"
   ]
  },
  {
   "cell_type": "code",
   "execution_count": null,
   "metadata": {},
   "outputs": [],
   "source": [
    "plt.plot(agent.rewards_history[-1])"
   ]
  },
  {
   "cell_type": "code",
   "execution_count": null,
   "metadata": {},
   "outputs": [],
   "source": [
    "plt.plot(agent.rewards_history[0])"
   ]
  },
  {
   "cell_type": "code",
   "execution_count": null,
   "metadata": {},
   "outputs": [],
   "source": [
    "agent.plot_cumulative_discounted_rewards()"
   ]
  },
  {
   "cell_type": "code",
   "execution_count": null,
   "metadata": {},
   "outputs": [],
   "source": [
    "# %load_ext line_profiler"
   ]
  },
  {
   "cell_type": "code",
   "execution_count": null,
   "metadata": {},
   "outputs": [],
   "source": [
    "# e = TradingEnv()"
   ]
  },
  {
   "cell_type": "code",
   "execution_count": null,
   "metadata": {},
   "outputs": [],
   "source": [
    "# %lprun -f agent.learn [agent.run_episode(e) for _ in range(10)]"
   ]
  },
  {
   "cell_type": "code",
   "execution_count": null,
   "metadata": {},
   "outputs": [],
   "source": [
    "# _ = e.reset()\n",
    "# %lprun -f e.step e.step(1)"
   ]
  },
  {
   "cell_type": "code",
   "execution_count": null,
   "metadata": {},
   "outputs": [],
   "source": [
    "plt.plot(e.prices)"
   ]
  },
  {
   "cell_type": "markdown",
   "metadata": {},
   "source": [
    "# Policy Network"
   ]
  },
  {
   "cell_type": "code",
   "execution_count": null,
   "metadata": {},
   "outputs": [],
   "source": [
    "class PolicyNetwork(nn.Module):\n",
    "    # for Policy-Gradient methods, e.g. actor-only and actor-critic methods\n",
    "    def __init__(self):\n",
    "        nn.Module.__init__(self)\n",
    "        self.l1 = nn.Linear(4, HIDDEN_LAYER)\n",
    "        self.l2 = nn.Linear(HIDDEN_LAYER, HIDDEN_LAYER)\n",
    "        self.l3 = nn.Linear(HIDDEN_LAYER, 2) # 2, for the action\n",
    "\n",
    "    def forward(self, x, d=1, get_log=False):\n",
    "        x = F.relu(self.l1(x))\n",
    "        x = F.relu(self.l2(x))\n",
    "        if not get_log:\n",
    "            x = F.softmax(self.l3(x), dim=d)\n",
    "        else:\n",
    "            x = F.log_softmax(self.l3(x), dim=d)\n",
    "        return x\n",
    "    \n",
    "    def sample_from_softmax_policy(self, batch_state):\n",
    "        batch_pi = self.forward(batch_state)\n",
    "        batch_size = batch_pi.shape[0]\n",
    "        actions = torch.empty(batch_size, 1)\n",
    "        for i in range(batch_size):\n",
    "            pi = batch_pi[i, :]\n",
    "            dist = torch.distributions.Categorical(pi)\n",
    "            actions[i, 0] = dist.sample().view(1,1)\n",
    "        if use_cuda:\n",
    "            actions = actions.to(batch_state.get_device())\n",
    "        return actions.long()\n",
    "\n",
    "# p = PolicyNetwork()\n",
    "# state = env.reset()\n",
    "# state_tensor = FloatTensor([state]).cuda()\n",
    "# p.cuda()\n",
    "# p.forward(state_tensor, d=1), p.forward(state_tensor, d=-1)\n",
    "# p.sample_from_softmax_policy(torch.cat(5*[state_tensor])).shape"
   ]
  },
  {
   "cell_type": "markdown",
   "metadata": {},
   "source": [
    "# LongOnly Agent"
   ]
  },
  {
   "cell_type": "code",
   "execution_count": null,
   "metadata": {},
   "outputs": [],
   "source": [
    "class LongOnlyAgent(BaseAgent):\n",
    "    def __init__(self):\n",
    "        super().__init__()\n",
    "        \n",
    "    def run_episode(self, environment):\n",
    "        state = environment.reset()\n",
    "        steps = 0\n",
    "        position = 1\n",
    "        while True:\n",
    "#             if steps % 50 == 0:\n",
    "#                 print(f'steps = {steps}')\n",
    "            _, r, done, __ = environment.step(position)\n",
    "\n",
    "            self.steps_done += 1\n",
    "            steps += 1\n",
    "            if done:\n",
    "                break\n",
    "        self.rewards_history.append(environment.rewards_list)\n",
    "        return environment.close()\n",
    "\n",
    "# long_agent = LongOnlyAgent()\n",
    "# e = TradingEnv()\n",
    "# long_agent.run_episode(e)\n",
    "# # long_agent.rewards_history\n",
    "# long_agent.run_episode(e)"
   ]
  },
  {
   "cell_type": "code",
   "execution_count": null,
   "metadata": {},
   "outputs": [],
   "source": [
    "long_agent = LongOnlyAgent()"
   ]
  },
  {
   "cell_type": "code",
   "execution_count": null,
   "metadata": {},
   "outputs": [],
   "source": [
    "long_agent.train(num_tickers=1)"
   ]
  },
  {
   "cell_type": "code",
   "execution_count": null,
   "metadata": {},
   "outputs": [],
   "source": [
    "agent.plot_cumulative_discounted_rewards()"
   ]
  },
  {
   "cell_type": "code",
   "execution_count": null,
   "metadata": {},
   "outputs": [],
   "source": [
    "class ModelBasedAgent(BaseAgent):\n",
    "    def __init__(self):\n",
    "        super().__init__()"
   ]
  }
 ],
 "metadata": {
  "kernelspec": {
   "display_name": "Python 3",
   "language": "python",
   "name": "python3"
  },
  "language_info": {
   "codemirror_mode": {
    "name": "ipython",
    "version": 3
   },
   "file_extension": ".py",
   "mimetype": "text/x-python",
   "name": "python",
   "nbconvert_exporter": "python",
   "pygments_lexer": "ipython3",
   "version": "3.7.6"
  }
 },
 "nbformat": 4,
 "nbformat_minor": 4
}
