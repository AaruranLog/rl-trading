{
 "cells": [
  {
   "cell_type": "code",
   "execution_count": 1,
   "metadata": {},
   "outputs": [
    {
     "name": "stderr",
     "output_type": "stream",
     "text": [
      "/home/aaruran/miniconda3/lib/python3.7/site-packages/pandas_datareader/compat/__init__.py:7: FutureWarning: pandas.util.testing is deprecated. Use the functions in the public API at pandas.testing instead.\n",
      "  from pandas.util.testing import assert_frame_equal\n"
     ]
    }
   ],
   "source": [
    "from system import TradingEnv\n",
    "import torch\n",
    "import torch.nn as nn\n",
    "import torch.optim as optim\n",
    "from torch.autograd import Variable\n",
    "import torch.nn.functional as F\n",
    "import matplotlib.pyplot as plt\n",
    "from itertools import chain\n",
    "import numpy as np\n",
    "\n",
    "import random\n",
    "import math\n",
    "from tqdm import tqdm"
   ]
  },
  {
   "cell_type": "code",
   "execution_count": 2,
   "metadata": {},
   "outputs": [],
   "source": [
    "class ReplayMemory:\n",
    "    def __init__(self, capacity):\n",
    "        self.capacity = capacity\n",
    "        self.memory = []\n",
    "\n",
    "    def push(self, transition):\n",
    "        self.memory.append(transition)\n",
    "        if len(self.memory) > self.capacity:\n",
    "            del self.memory[0]\n",
    "\n",
    "    def sample(self, batch_size):\n",
    "        return random.sample(self.memory, batch_size)\n",
    "\n",
    "    def __len__(self):\n",
    "        return len(self.memory)"
   ]
  },
  {
   "cell_type": "code",
   "execution_count": 3,
   "metadata": {},
   "outputs": [],
   "source": [
    "e = TradingEnv()"
   ]
  },
  {
   "cell_type": "code",
   "execution_count": 4,
   "metadata": {
    "colab": {},
    "colab_type": "code",
    "id": "Vlu9wCHd-oVS"
   },
   "outputs": [],
   "source": [
    "STATE_DIM = len(e.reset())\n",
    "ACTION_DIM = 3\n",
    "EPISODES = 2000  # number of episodes\n",
    "EPS_START = 0.9  # e-greedy threshold start value\n",
    "EPS_END = 0.05  # e-greedy threshold end value\n",
    "EPS_DECAY = 200  # e-greedy threshold decay\n",
    "GAMMA = 0.99  # Q-learning discount factor\n",
    "LR = 0.001  # NN optimizer learning rate\n",
    "HIDDEN_LAYER = 10  # NN hidden layer size\n",
    "BATCH_SIZE = 500  # Q-learning batch size\n",
    "TARGET_UPDATE = 100  # frequency of target update\n",
    "BUFFER_SIZE = 10000  # capacity of the replay buffer \n",
    "\n",
    "# if gpu is to be used\n",
    "# use_cuda = torch.cuda.is_available()\n",
    "use_cuda = False\n",
    "FloatTensor = torch.cuda.FloatTensor if use_cuda else torch.FloatTensor\n",
    "LongTensor = torch.cuda.LongTensor if use_cuda else torch.LongTensor\n",
    "ByteTensor = torch.cuda.ByteTensor if use_cuda else torch.ByteTensor\n",
    "Tensor = FloatTensor"
   ]
  },
  {
   "cell_type": "code",
   "execution_count": 5,
   "metadata": {},
   "outputs": [],
   "source": [
    "del e"
   ]
  },
  {
   "cell_type": "code",
   "execution_count": 6,
   "metadata": {},
   "outputs": [
    {
     "name": "stdout",
     "output_type": "stream",
     "text": [
      "No GPU will be used\n"
     ]
    }
   ],
   "source": [
    "if use_cuda:\n",
    "    print('GPU found and in use')\n",
    "else:\n",
    "    print('No GPU will be used')"
   ]
  },
  {
   "cell_type": "markdown",
   "metadata": {
    "colab_type": "text",
    "id": "MA7IgkTA_Jsp"
   },
   "source": [
    "# Simple QNetwork \n",
    "Corresponds to a fully connected network with two hidden layers"
   ]
  },
  {
   "cell_type": "code",
   "execution_count": 7,
   "metadata": {
    "colab": {},
    "colab_type": "code",
    "id": "rpkLvLcR_WOl"
   },
   "outputs": [],
   "source": [
    "class QNetwork(nn.Module):\n",
    "    def __init__(self):\n",
    "        nn.Module.__init__(self)\n",
    "        self.l1 = nn.Linear(STATE_DIM, HIDDEN_LAYER)\n",
    "        self.l2 = nn.Linear(HIDDEN_LAYER, HIDDEN_LAYER)\n",
    "        self.l3 = nn.Linear(HIDDEN_LAYER, ACTION_DIM)\n",
    "\n",
    "    def forward(self, x):\n",
    "        \"\"\"\n",
    "            Computes the estimated Q-values for a given batch x\n",
    "        \"\"\"\n",
    "        x = F.relu(self.l1(x))\n",
    "        x = F.relu(self.l2(x))\n",
    "        x = self.l3(x)\n",
    "        return x      \n",
    "    \n",
    "    def sample_from_softmax_policy(self, batch_state):\n",
    "        batch_q_values = self.forward(batch_state)\n",
    "        batch_pi = F.softmax(batch_q_values, dim=1)\n",
    "        batch_size = batch_pi.shape[0]\n",
    "        batch_actions = torch.empty(batch_size, 1)\n",
    "        for i in range(batch_size):\n",
    "            pi = batch_pi[i, :]\n",
    "            dist = torch.distributions.Categorical(pi)\n",
    "            # Subtract 1, so batch_actions is in {-1, 0, 1}\n",
    "            batch_actions[i, 0] = dist.sample().view(1,1) - 1\n",
    "        if use_cuda:\n",
    "            batch_actions = batch_actions.to(batch_state.get_device())\n",
    "        return batch_actions.long()"
   ]
  },
  {
   "cell_type": "markdown",
   "metadata": {},
   "source": [
    "# Generic Training Agent"
   ]
  },
  {
   "cell_type": "code",
   "execution_count": 92,
   "metadata": {},
   "outputs": [],
   "source": [
    "class BaseAgent:\n",
    "    def __init__(self, gamma=0.8):\n",
    "        assert 0 < gamma < 1, f\"Invalid gamma: {gamma}\" \n",
    "        self.gamma = gamma\n",
    "        self.memory = ReplayMemory(BUFFER_SIZE)\n",
    "        self.rewards_history = []\n",
    "        self.steps_done = 0\n",
    "        \n",
    "    def run_episode(self, environment):\n",
    "        \"\"\"\n",
    "            Takes an env, and trains the agent until the environment\n",
    "            reaches a terminal state (ie the training window is complete).\n",
    "        \"\"\"\n",
    "        raise NotImplementedError()\n",
    "    \n",
    "    def plot_cumulative_discounted_rewards(self):\n",
    "        rewards = np.array(self.rewards_history)\n",
    "        discount_array = np.power(0.8, np.arange(rewards.shape[0]))\n",
    "        plt.plot((discount_array[:, None] * rewards).sum(axis=1))\n",
    "        plt.grid()\n",
    "        plt.ylabel('Cumulative Discounted Rewards')\n",
    "        plt.xlabel('Episode')\n",
    "\n",
    "    def convert_action(self, action):\n",
    "        \"\"\"\n",
    "            Takes action of shape 1 x 3, and converts into an integer in {-1, 0, 1}.\n",
    "            This integer is the position short/hold/long respectively.\n",
    "        \"\"\"\n",
    "        position = torch.argmax(action, dim=-1) - 1\n",
    "        assert position in [-1,0,1]\n",
    "        return position\n",
    "        \n",
    "class DQN(BaseAgent):\n",
    "    def __init__(self):\n",
    "        super().__init__()\n",
    "        self.model = QNetwork()\n",
    "        self.target = QNetwork()\n",
    "        self.optimizer = optim.Adam(self.model.parameters(), LR)\n",
    "\n",
    "    def select_epsilon_greedy_action(self, state):\n",
    "        sample = random.random()\n",
    "        eps_threshold = EPS_END + (EPS_START - EPS_END) * math.exp(-1. * self.steps_done / EPS_DECAY)\n",
    "        self.steps_done += 1\n",
    "        if sample > eps_threshold:\n",
    "            with torch.no_grad():\n",
    "                return self.target(state).data.max(1)[1].view(1, 1)\n",
    "        else:\n",
    "            return LongTensor([[random.randrange(3)]])\n",
    "    \n",
    "    def run_episode(self, environment):\n",
    "        state = environment.reset()\n",
    "        steps = 0\n",
    "        action = None\n",
    "        while True:\n",
    "#             if steps % 50 == 0:\n",
    "#                 print(f'steps = {steps}')\n",
    "            state_tensor = FloatTensor([state])\n",
    "            action = self.select_epsilon_greedy_action(state_tensor)\n",
    "            position = self.convert_action(action)\n",
    "            next_state, reward, done, _ = environment.step(position)\n",
    "#             print(f'action = {action}')            \n",
    "#             print(f'position = {position}')\n",
    "#             print(f'next_state length = {len(next_state)}')\n",
    "#             print(f'reward = {reward}')\n",
    "            self.memory.push((FloatTensor([state]),\n",
    "                         action,  # action is already a tensor\n",
    "                         FloatTensor([next_state]),\n",
    "                         FloatTensor([reward]),\n",
    "                         FloatTensor([int(done)])))\n",
    "\n",
    "            self.learn()\n",
    "            if self.steps_done % TARGET_UPDATE == 0:\n",
    "                self.target.load_state_dict(self.model.state_dict())\n",
    "        \n",
    "            state = next_state\n",
    "            steps += 1\n",
    "            if done:\n",
    "                break\n",
    "        self.rewards_history.append(environment.rewards_list)\n",
    "        \n",
    "    def max_next_q_values(self, batch_next_state):\n",
    "        # expected Q values are estimated from actions which gives maximum Q value\n",
    "        return self.target(batch_next_state).detach().max(1)[0]\n",
    "    \n",
    "    def learn(self):\n",
    "        if len(self.memory) <= BATCH_SIZE:\n",
    "            return\n",
    "        # random transition batch is taken from experience replay memory\n",
    "        transitions = self.memory.sample(BATCH_SIZE)\n",
    "        batch_state, batch_action, batch_next_state, batch_reward, batch_done = zip(*transitions)\n",
    "        batch_state = Variable(torch.cat(batch_state))\n",
    "        batch_action = Variable(torch.cat(batch_action))\n",
    "        batch_reward = Variable(torch.cat(batch_reward))\n",
    "        batch_next_state = Variable(torch.cat(batch_next_state))\n",
    "        batch_done = Variable(torch.cat(batch_done))\n",
    "\n",
    "        # current Q values are estimated by NN for all actions\n",
    "        current_q_values = self.model(batch_state).gather(1, batch_action).squeeze()\n",
    "        expected_future_rewards = self.max_next_q_values(batch_next_state)\n",
    "        \n",
    "        expected_q_values = batch_reward + (self.gamma * expected_future_rewards) * (1-batch_done)\n",
    "\n",
    "        # loss is measured from error between current and newly expected Q values\n",
    "        loss = F.mse_loss(current_q_values, expected_q_values)\n",
    "\n",
    "        # backpropagation of loss to QNetwork\n",
    "        self.optimizer.zero_grad()\n",
    "        loss.backward()\n",
    "        self.optimizer.step()\n",
    "\n",
    "    \n",
    "# agent=DQN()\n",
    "# env = TradingEnv()\n",
    "# for i in range(10):\n",
    "#     s = FloatTensor([env.reset()])\n",
    "#     agent.steps_done=100\n",
    "#     print(agent.select_epsilon_greedy_action(s))\n",
    "\n",
    "# agent.run_episode(env)"
   ]
  },
  {
   "cell_type": "code",
   "execution_count": 72,
   "metadata": {},
   "outputs": [],
   "source": [
    "with open('sp500.txt', 'r') as src:\n",
    "    filtered_tickers = src.read().split(',')"
   ]
  },
  {
   "cell_type": "code",
   "execution_count": 74,
   "metadata": {},
   "outputs": [
    {
     "name": "stderr",
     "output_type": "stream",
     "text": [
      " 52%|█████▏    | 34/65 [02:09<01:30,  2.93s/it]"
     ]
    },
    {
     "name": "stdout",
     "output_type": "stream",
     "text": [
      "VIAC\n"
     ]
    },
    {
     "name": "stderr",
     "output_type": "stream",
     "text": [
      "100%|██████████| 65/65 [04:05<00:00,  3.77s/it]\n"
     ]
    }
   ],
   "source": [
    "# env = TradingEnv()\n",
    "# plt.plot(env.rewards_list)\n",
    "for i in tqdm(range(failed-12, len(filtered_tickers))):\n",
    "#     ticker = random.choice(filtered_tickers)\n",
    "    ticker = filtered_tickers[i  % len(filtered_tickers)]\n",
    "#     print(f'Training on {ticker}')\n",
    "    try:\n",
    "        env = TradingEnv(ticker=ticker)\n",
    "        agent.run_episode(env)\n",
    "    except KeyError:\n",
    "        print(ticker)\n",
    "# agent.plot_cumulative_discounted_rewards()"
   ]
  },
  {
   "cell_type": "code",
   "execution_count": 69,
   "metadata": {},
   "outputs": [
    {
     "data": {
      "text/plain": [
       "'TT'"
      ]
     },
     "execution_count": 69,
     "metadata": {},
     "output_type": "execute_result"
    }
   ],
   "source": [
    "ticker"
   ]
  },
  {
   "cell_type": "code",
   "execution_count": 75,
   "metadata": {},
   "outputs": [
    {
     "data": {
      "text/html": [
       "<div>\n",
       "<style scoped>\n",
       "    .dataframe tbody tr th:only-of-type {\n",
       "        vertical-align: middle;\n",
       "    }\n",
       "\n",
       "    .dataframe tbody tr th {\n",
       "        vertical-align: top;\n",
       "    }\n",
       "\n",
       "    .dataframe thead th {\n",
       "        text-align: right;\n",
       "    }\n",
       "</style>\n",
       "<table border=\"1\" class=\"dataframe\">\n",
       "  <thead>\n",
       "    <tr style=\"text-align: right;\">\n",
       "      <th></th>\n",
       "      <th>High</th>\n",
       "      <th>Low</th>\n",
       "      <th>Open</th>\n",
       "      <th>Close</th>\n",
       "      <th>Volume</th>\n",
       "      <th>Adj Close</th>\n",
       "    </tr>\n",
       "    <tr>\n",
       "      <th>Date</th>\n",
       "      <th></th>\n",
       "      <th></th>\n",
       "      <th></th>\n",
       "      <th></th>\n",
       "      <th></th>\n",
       "      <th></th>\n",
       "    </tr>\n",
       "  </thead>\n",
       "  <tbody>\n",
       "    <tr>\n",
       "      <th>2019-03-12</th>\n",
       "      <td>38.000000</td>\n",
       "      <td>38.000000</td>\n",
       "      <td>38.000000</td>\n",
       "      <td>38.000000</td>\n",
       "      <td>10000.0</td>\n",
       "      <td>37.231663</td>\n",
       "    </tr>\n",
       "    <tr>\n",
       "      <th>2019-03-13</th>\n",
       "      <td>39.900002</td>\n",
       "      <td>38.700001</td>\n",
       "      <td>39.000000</td>\n",
       "      <td>39.750000</td>\n",
       "      <td>20477400.0</td>\n",
       "      <td>38.946278</td>\n",
       "    </tr>\n",
       "    <tr>\n",
       "      <th>2019-03-14</th>\n",
       "      <td>41.400002</td>\n",
       "      <td>39.750000</td>\n",
       "      <td>39.750000</td>\n",
       "      <td>40.650002</td>\n",
       "      <td>6248600.0</td>\n",
       "      <td>39.828079</td>\n",
       "    </tr>\n",
       "    <tr>\n",
       "      <th>2019-03-15</th>\n",
       "      <td>41.869999</td>\n",
       "      <td>41.240002</td>\n",
       "      <td>41.380001</td>\n",
       "      <td>41.700001</td>\n",
       "      <td>7107300.0</td>\n",
       "      <td>40.856846</td>\n",
       "    </tr>\n",
       "    <tr>\n",
       "      <th>2019-03-18</th>\n",
       "      <td>41.950001</td>\n",
       "      <td>41.049999</td>\n",
       "      <td>41.950001</td>\n",
       "      <td>41.700001</td>\n",
       "      <td>4020900.0</td>\n",
       "      <td>40.856846</td>\n",
       "    </tr>\n",
       "    <tr>\n",
       "      <th>...</th>\n",
       "      <td>...</td>\n",
       "      <td>...</td>\n",
       "      <td>...</td>\n",
       "      <td>...</td>\n",
       "      <td>...</td>\n",
       "      <td>...</td>\n",
       "    </tr>\n",
       "    <tr>\n",
       "      <th>2020-07-06</th>\n",
       "      <td>27.290001</td>\n",
       "      <td>26.120001</td>\n",
       "      <td>27.010000</td>\n",
       "      <td>26.500000</td>\n",
       "      <td>5096700.0</td>\n",
       "      <td>26.500000</td>\n",
       "    </tr>\n",
       "    <tr>\n",
       "      <th>2020-07-07</th>\n",
       "      <td>26.379999</td>\n",
       "      <td>25.629999</td>\n",
       "      <td>26.240000</td>\n",
       "      <td>25.690001</td>\n",
       "      <td>3815000.0</td>\n",
       "      <td>25.690001</td>\n",
       "    </tr>\n",
       "    <tr>\n",
       "      <th>2020-07-08</th>\n",
       "      <td>25.670000</td>\n",
       "      <td>24.995001</td>\n",
       "      <td>25.580000</td>\n",
       "      <td>25.299999</td>\n",
       "      <td>4276500.0</td>\n",
       "      <td>25.299999</td>\n",
       "    </tr>\n",
       "    <tr>\n",
       "      <th>2020-07-09</th>\n",
       "      <td>25.420000</td>\n",
       "      <td>23.930000</td>\n",
       "      <td>25.280001</td>\n",
       "      <td>24.370001</td>\n",
       "      <td>5923700.0</td>\n",
       "      <td>24.370001</td>\n",
       "    </tr>\n",
       "    <tr>\n",
       "      <th>2020-07-10</th>\n",
       "      <td>25.385000</td>\n",
       "      <td>24.209999</td>\n",
       "      <td>24.430000</td>\n",
       "      <td>25.320000</td>\n",
       "      <td>3359700.0</td>\n",
       "      <td>25.320000</td>\n",
       "    </tr>\n",
       "  </tbody>\n",
       "</table>\n",
       "<p>337 rows × 6 columns</p>\n",
       "</div>"
      ],
      "text/plain": [
       "                 High        Low       Open      Close      Volume  Adj Close\n",
       "Date                                                                         \n",
       "2019-03-12  38.000000  38.000000  38.000000  38.000000     10000.0  37.231663\n",
       "2019-03-13  39.900002  38.700001  39.000000  39.750000  20477400.0  38.946278\n",
       "2019-03-14  41.400002  39.750000  39.750000  40.650002   6248600.0  39.828079\n",
       "2019-03-15  41.869999  41.240002  41.380001  41.700001   7107300.0  40.856846\n",
       "2019-03-18  41.950001  41.049999  41.950001  41.700001   4020900.0  40.856846\n",
       "...               ...        ...        ...        ...         ...        ...\n",
       "2020-07-06  27.290001  26.120001  27.010000  26.500000   5096700.0  26.500000\n",
       "2020-07-07  26.379999  25.629999  26.240000  25.690001   3815000.0  25.690001\n",
       "2020-07-08  25.670000  24.995001  25.580000  25.299999   4276500.0  25.299999\n",
       "2020-07-09  25.420000  23.930000  25.280001  24.370001   5923700.0  24.370001\n",
       "2020-07-10  25.385000  24.209999  24.430000  25.320000   3359700.0  25.320000\n",
       "\n",
       "[337 rows x 6 columns]"
      ]
     },
     "execution_count": 75,
     "metadata": {},
     "output_type": "execute_result"
    }
   ],
   "source": [
    "import pandas as pd\n",
    "from pandas_datareader import data\n",
    "data.DataReader('FOXA', 'yahoo')"
   ]
  },
  {
   "cell_type": "code",
   "execution_count": 78,
   "metadata": {},
   "outputs": [
    {
     "data": {
      "text/plain": [
       "[<matplotlib.lines.Line2D at 0x7f4aa2f76b90>]"
      ]
     },
     "execution_count": 78,
     "metadata": {},
     "output_type": "execute_result"
    },
    {
     "data": {
      "image/png": "[encoded data removed]",
      "text/plain": [
       "<Figure size 432x288 with 1 Axes>"
      ]
     },
     "metadata": {
      "needs_background": "light"
     },
     "output_type": "display_data"
    }
   ],
   "source": [
    "plt.plot(agent.rewards_history[-1])"
   ]
  },
  {
   "cell_type": "code",
   "execution_count": 79,
   "metadata": {},
   "outputs": [
    {
     "data": {
      "text/plain": [
       "[<matplotlib.lines.Line2D at 0x7f4aa30ab190>]"
      ]
     },
     "execution_count": 79,
     "metadata": {},
     "output_type": "execute_result"
    },
    {
     "data": {
      "image/png": "[encoded data removed]",
      "text/plain": [
       "<Figure size 432x288 with 1 Axes>"
      ]
     },
     "metadata": {
      "needs_background": "light"
     },
     "output_type": "display_data"
    }
   ],
   "source": [
    "plt.plot(agent.rewards_history[0])"
   ]
  },
  {
   "cell_type": "code",
   "execution_count": 12,
   "metadata": {},
   "outputs": [],
   "source": [
    "%load_ext line_profiler"
   ]
  },
  {
   "cell_type": "code",
   "execution_count": 13,
   "metadata": {},
   "outputs": [],
   "source": [
    "e = TradingEnv()"
   ]
  },
  {
   "cell_type": "code",
   "execution_count": 14,
   "metadata": {},
   "outputs": [],
   "source": [
    "# %lprun -f agent.run_episode [agent.run_episode(e) for _ in range(50)]"
   ]
  },
  {
   "cell_type": "code",
   "execution_count": 15,
   "metadata": {},
   "outputs": [],
   "source": [
    "# _ = e.reset()\n",
    "# %lprun -f e.step e.step(1)"
   ]
  },
  {
   "cell_type": "code",
   "execution_count": 16,
   "metadata": {},
   "outputs": [
    {
     "data": {
      "text/plain": [
       "[<matplotlib.lines.Line2D at 0x7f4ab05486d0>]"
      ]
     },
     "execution_count": 16,
     "metadata": {},
     "output_type": "execute_result"
    },
    {
     "data": {
      "image/png": "[encoded data removed]",
      "text/plain": [
       "<Figure size 432x288 with 1 Axes>"
      ]
     },
     "metadata": {
      "needs_background": "light"
     },
     "output_type": "display_data"
    }
   ],
   "source": [
    "plt.plot(e.prices)"
   ]
  },
  {
   "cell_type": "markdown",
   "metadata": {},
   "source": [
    "# Policy Network"
   ]
  },
  {
   "cell_type": "code",
   "execution_count": null,
   "metadata": {},
   "outputs": [],
   "source": [
    "class PolicyNetwork(nn.Module):\n",
    "    # for Policy-Gradient methods, e.g. actor-only and actor-critic methods\n",
    "    def __init__(self):\n",
    "        nn.Module.__init__(self)\n",
    "        self.l1 = nn.Linear(4, HIDDEN_LAYER)\n",
    "        self.l2 = nn.Linear(HIDDEN_LAYER, HIDDEN_LAYER)\n",
    "        self.l3 = nn.Linear(HIDDEN_LAYER, 2) # 2, for the action\n",
    "\n",
    "    def forward(self, x, d=1, get_log=False):\n",
    "        x = F.relu(self.l1(x))\n",
    "        x = F.relu(self.l2(x))\n",
    "        if not get_log:\n",
    "            x = F.softmax(self.l3(x), dim=d)\n",
    "        else:\n",
    "            x = F.log_softmax(self.l3(x), dim=d)\n",
    "        return x\n",
    "    \n",
    "    def sample_from_softmax_policy(self, batch_state):\n",
    "        batch_pi = self.forward(batch_state)\n",
    "        batch_size = batch_pi.shape[0]\n",
    "        actions = torch.empty(batch_size, 1)\n",
    "        for i in range(batch_size):\n",
    "            pi = batch_pi[i, :]\n",
    "            dist = torch.distributions.Categorical(pi)\n",
    "            actions[i, 0] = dist.sample().view(1,1)\n",
    "        if use_cuda:\n",
    "            actions = actions.to(batch_state.get_device())\n",
    "        return actions.long()\n",
    "\n",
    "# p = PolicyNetwork()\n",
    "# state = env.reset()\n",
    "# state_tensor = FloatTensor([state]).cuda()\n",
    "# p.cuda()\n",
    "# p.forward(state_tensor, d=1), p.forward(state_tensor, d=-1)\n",
    "# p.sample_from_softmax_policy(torch.cat(5*[state_tensor])).shape"
   ]
  },
  {
   "cell_type": "markdown",
   "metadata": {},
   "source": [
    "# LongOnly Agent"
   ]
  },
  {
   "cell_type": "code",
   "execution_count": 102,
   "metadata": {},
   "outputs": [],
   "source": [
    "class LongOnlyAgent(BaseAgent):\n",
    "    def __init__(self):\n",
    "        super().__init__()\n",
    "        \n",
    "    def run_episode(self, environment):\n",
    "        state = environment.reset()\n",
    "        steps = 0\n",
    "        position = 1\n",
    "        while True:\n",
    "#             if steps % 50 == 0:\n",
    "#                 print(f'steps = {steps}')\n",
    "            _, r, done, __ = environment.step(position)\n",
    "\n",
    "            self.steps_done += 1\n",
    "            steps += 1\n",
    "            if done:\n",
    "                break\n",
    "        self.rewards_history.append(environment.rewards_list)\n",
    "\n",
    "# long_agent = LongOnlyAgent()\n",
    "# e = TradingEnv()\n",
    "# long_agent.run_episode(e)\n",
    "# # long_agent.rewards_history\n",
    "# long_agent.run_episode(e)"
   ]
  },
  {
   "cell_type": "code",
   "execution_count": 94,
   "metadata": {},
   "outputs": [],
   "source": [
    "\n"
   ]
  },
  {
   "cell_type": "code",
   "execution_count": 105,
   "metadata": {},
   "outputs": [
    {
     "name": "stderr",
     "output_type": "stream",
     "text": [
      "  5%|▌         | 27/493 [00:29<08:48,  1.14s/it]/home/aaruran/Documents/Git/rl-course/project/system.py:122: RuntimeWarning: invalid value encountered in double_scalars\n",
      "  \n",
      "/home/aaruran/Documents/Git/rl-course/project/system.py:124: RuntimeWarning: divide by zero encountered in double_scalars\n",
      "  sigma_prev = self.data[\"std\"][self.df_index - 2]\n",
      "/home/aaruran/Documents/Git/rl-course/project/system.py:122: RuntimeWarning: divide by zero encountered in double_scalars\n",
      "  \n",
      "/home/aaruran/Documents/Git/rl-course/project/system.py:124: RuntimeWarning: invalid value encountered in double_scalars\n",
      "  sigma_prev = self.data[\"std\"][self.df_index - 2]\n",
      " 94%|█████████▎| 462/493 [08:19<00:24,  1.25it/s]"
     ]
    },
    {
     "name": "stdout",
     "output_type": "stream",
     "text": [
      "skipping VIAC\n"
     ]
    },
    {
     "name": "stderr",
     "output_type": "stream",
     "text": [
      "100%|██████████| 493/493 [08:51<00:00,  1.08s/it]\n"
     ]
    }
   ],
   "source": [
    "for i in tqdm(range(len(filtered_tickers))):\n",
    "# for i in tqdm(range(10)):\n",
    "#     ticker = random.choice(filtered_tickers)\n",
    "    ticker = filtered_tickers[i  % len(filtered_tickers)]\n",
    "#     print(f'Training on {ticker}')\n",
    "    try:\n",
    "        env = TradingEnv(ticker=ticker)\n",
    "        long_agent.run_episode(env)\n",
    "    except KeyError:\n",
    "        print('skipping', ticker)"
   ]
  },
  {
   "cell_type": "code",
   "execution_count": 104,
   "metadata": {},
   "outputs": [
    {
     "data": {
      "image/png": "[encoded data removed]",
      "text/plain": [
       "<Figure size 432x288 with 1 Axes>"
      ]
     },
     "metadata": {
      "needs_background": "light"
     },
     "output_type": "display_data"
    }
   ],
   "source": [
    "long_agent.plot_cumulative_discounted_rewards()"
   ]
  },
  {
   "cell_type": "code",
   "execution_count": 97,
   "metadata": {},
   "outputs": [
    {
     "data": {
      "text/plain": [
       "[]"
      ]
     },
     "execution_count": 97,
     "metadata": {},
     "output_type": "execute_result"
    }
   ],
   "source": [
    "long_agent.rewards_history"
   ]
  },
  {
   "cell_type": "code",
   "execution_count": null,
   "metadata": {},
   "outputs": [],
   "source": []
  }
 ],
 "metadata": {
  "kernelspec": {
   "display_name": "Python 3",
   "language": "python",
   "name": "python3"
  },
  "language_info": {
   "codemirror_mode": {
    "name": "ipython",
    "version": 3
   },
   "file_extension": ".py",
   "mimetype": "text/x-python",
   "name": "python",
   "nbconvert_exporter": "python",
   "pygments_lexer": "ipython3",
   "version": "3.7.6"
  }
 },
 "nbformat": 4,
 "nbformat_minor": 4
}
