{
 "cells": [
  {
   "cell_type": "code",
   "execution_count": 3,
   "metadata": {},
   "outputs": [
    {
     "name": "stderr",
     "output_type": "stream",
     "text": [
      "/home/aaruran/miniconda3/lib/python3.7/site-packages/pandas_datareader/compat/__init__.py:7: FutureWarning: pandas.util.testing is deprecated. Use the functions in the public API at pandas.testing instead.\n",
      "  from pandas.util.testing import assert_frame_equal\n"
     ]
    }
   ],
   "source": [
    "import pandas as pd\n",
    "from pandas_datareader import data\n",
    "import numpy as np\n",
    "import matplotlib.pyplot as plt\n",
    "import gym\n",
    "import tulipy as ti\n",
    "from sqlalchemy import create_engine\n",
    "import ast\n",
    "import re\n",
    "from wsb_pipeline import get_all_embeddings"
   ]
  },
  {
   "cell_type": "code",
   "execution_count": 24,
   "metadata": {},
   "outputs": [],
   "source": [
    "INITIAL_BALANCE = 10\n",
    "TRANSACTION_COST = 0.01\n",
    "WINDOW_SIZE = 14\n",
    "DELTA_DAY = pd.Timedelta(days=1)\n",
    "DEFAULT_ACTIONS_LIST = [0]\n",
    "DEFAULT_REWARDS_LIST = [0]\n",
    "EXP_DECAY = 0.8\n",
    "class TradingEnv(gym.Env):\n",
    "    def __init__(self, ticker='AAPL', target_volatility=10, mode=\"train\", **kwargs):\n",
    "        self.ticker = ticker\n",
    "        self.window = pd.Timedelta(days=WINDOW_SIZE)\n",
    "        assert mode in set([\"train\", \"validation\", \"test\", \"dev\"]), f\"Invalid environment  mode: {mode}\"\n",
    "        self.mode = mode\n",
    "        self.target_volatility = target_volatility\n",
    "        self.returns_list = DEFAULT_REWARDS_LIST.copy()\n",
    "        self.rewards_list = DEFAULT_REWARDS_LIST.copy()\n",
    "        self.actions_list = DEFAULT_ACTIONS_LIST.copy()\n",
    "#         self.balance = INITIAL_BALANCE\n",
    "        \n",
    "        self._compute_simple_states()\n",
    "        \n",
    "    def _compute_simple_states(self):\n",
    "        self.short_time = 63\n",
    "        self.long_time = 252\n",
    "        start, end = self.get_time_endpoints(self.mode)\n",
    "        self.start = start\n",
    "        self.end = end\n",
    "        # 81 needs to be added for some reason to make sure MACD is a number ???\n",
    "#         warn(\"Using unexplained extra pre-padding.\")\n",
    "        unexplained = 0\n",
    "        prepadding =  pd.Timedelta(days=self.short_time + self.long_time + WINDOW_SIZE + 1 + unexplained)\n",
    "        postpadding = self.window\n",
    "        self.prices = data.DataReader(self.ticker, 'yahoo',\n",
    "                                      start=start-prepadding, end=end+postpadding)['Close']\n",
    "\n",
    "        # We compute the mean, and standard deviation of the first WINDOW_SIZE days, and use this to standardize \n",
    "        # the entire time series.\n",
    "        assert WINDOW_SIZE > 5, \"WINDOW_SIZE is too small for rolling computations to be meaningful\"\n",
    "        self.mu_hat = self.prices[:WINDOW_SIZE].mean()\n",
    "        self.sigma_hat = self.prices[:WINDOW_SIZE].std()\n",
    "        self.data = pd.DataFrame({'mean' : (self.prices - self.mu_hat) / self.sigma_hat})\n",
    "        self.data['std'] = self.data['mean'].rolling(WINDOW_SIZE).std()\n",
    "        # Use additive returns, because the reward is computed using the additive return\n",
    "        rets = (self.prices - self.prices.shift(1))\n",
    "\n",
    "#         self.data['sharpe'] = rets.rolling(WINDOW_SIZE).mean() / rets.rolling(WINDOW_SIZE).std()\n",
    "#         warn('Sharpe ratio will need a risk-free return in the future, for proper calculation.')\n",
    "        \n",
    "#         exp_short = self.prices.ewm(span=self.short_time, adjust=False).mean()\n",
    "#         exp_long  = self.prices.ewm(span=self.long_time,  adjust=False).mean()\n",
    "#         self.data['q'] = (exp_short - exp_long) # / self.prices.rolling(self.short_time).std()\n",
    "        \n",
    "#         macd = ti.macd(self.data['mean'].values, short_period=self.short_time,\n",
    "#                        long_period=self.long_time, signal_period=WINDOW_SIZE)\n",
    "\n",
    "# #         self.data['MACD'] = self.data['q'] / self.data['q'].rolling(self.long_time).std()\n",
    "#         self.data['macd_0'] = self.data['macd_1'] = self.data['macd_2'] = np.nan\n",
    "#         self.data['macd_0'][self.long_time-1:] = macd[0]\n",
    "#         self.data['macd_1'][self.long_time-1:] = macd[1]\n",
    "#         self.data['macd_2'][self.long_time-1:] = macd[2]\n",
    "       \n",
    "        # to look up current price from self.data, irrespective of the date break due to the weekend\n",
    "        self.df_index = self.data.index.get_loc(self.start)\n",
    "        \n",
    "        \n",
    "    def get_time_endpoints(self, mode):\n",
    "        \"\"\"\n",
    "            Start must be in Monday - Friday\n",
    "        \"\"\"\n",
    "        if mode == \"train\":\n",
    "            return pd.Timestamp('2014-01-06'), pd.Timestamp('2017-12-31')\n",
    "        elif mode == \"dev\":\n",
    "            return pd.Timestamp('2014-01-06'), pd.Timestamp('2014-12-28')\n",
    "        else:\n",
    "            raise NotImplementedError()\n",
    "        \n",
    "    def _get_raw_price(self, diff=0):\n",
    "        return self.prices[self.df_index + diff]\n",
    "    \n",
    "    def _get_normalized_price(self, diff=0):\n",
    "        return self.data['mean'][self.df_index + diff]\n",
    "        \n",
    "    def _get_current_timestamp(self):\n",
    "        return self.data.index[self.df_index]\n",
    "    \n",
    "    def _get_melted_technical_indicators(self):\n",
    "        i = self.df_index\n",
    "#         indicators = self.data[['mean', 'std', 'sharpe', 'q']][(i-WINDOW_SIZE):i]\n",
    "#         indicators = self.data[['mean', 'std', 'sharpe']][(i-WINDOW_SIZE):i]\n",
    "#         indicators = self.data[['mean', 'std']][(i-WINDOW_SIZE):i]\n",
    "        indicators = self.data[(i-WINDOW_SIZE):i]\n",
    "        return indicators.values.reshape(-1).tolist()\n",
    "        \n",
    "    def _get_current_state(self):\n",
    "        return self._get_melted_technical_indicators()\n",
    "    \n",
    "    def _get_date(self, diff=0):\n",
    "        return self.data.index[self.df_index + diff]\n",
    "\n",
    "    def reset(self):\n",
    "        self.df_index = self.data.index.get_loc(self.start)  \n",
    "        self.returns_list = DEFAULT_REWARDS_LIST.copy()\n",
    "        self.rewards_list = DEFAULT_REWARDS_LIST.copy()\n",
    "        self.actions_list = DEFAULT_ACTIONS_LIST.copy()\n",
    "        return self._get_current_state()\n",
    "\n",
    "    def _compute_reward_function(self, action):\n",
    "        assert action in [-1, 0, 1], f\"Got {action} but expected one of {-1, 0, 1}\"\n",
    "        next_price = self._get_normalized_price(diff=1)\n",
    "        price = self._get_normalized_price()\n",
    "        r = next_price - price\n",
    "        mu = 1\n",
    "        \n",
    "        sigma = self.data['std'][self.df_index - 1]\n",
    "        sigma_prev = self.data['std'][self.df_index - 2]\n",
    "       \n",
    "        term1 = action * self.target_volatility * r / sigma\n",
    "        prev_action = self.actions_list[-1]\n",
    "        term2 = price * TRANSACTION_COST * np.abs(term1 - self.target_volatility * prev_action / sigma_prev)\n",
    "        R = mu*(term1 - term2)\n",
    "        self.rewards_list.append(R)\n",
    "        # # Additive Returns as reward function\n",
    "        # if action == 1:\n",
    "        #     R = r - TRANSACTION_COST\n",
    "        # elif action == -1:\n",
    "        #     R = -r - TRANSACTION_COST\n",
    "        # elif action == 0:\n",
    "        #     R = 0 - TRANSACTION_COST\n",
    "        return R\n",
    "    \n",
    "    def step(self, action):\n",
    "        \"\"\"\n",
    "            Executes an action in the stock environment, using \n",
    "            the discrete action space described in: Deep Reinforcement Learning for Trading\n",
    "            \n",
    "            i.e. -1 is maximally short, 0 is no holdings, 1 is maximally long\n",
    "            Inputs: action (one of {-1,0,1})\n",
    "            Outputs: a tuple (observation/state, step_reward, is_done, info)\n",
    "        \"\"\"\n",
    "        # TODO: Refactor rewards_list, actions_list into a pd.DataFrame so that\n",
    "        # 1. I can plot things more easily, and group them together by ticker, and episode number\n",
    "        # 2. I can collect rewards_list, actions_list into a single variable\n",
    "        R = self._compute_reward_function(action)\n",
    "        self.actions_list.append(action)\n",
    "        self.df_index += 1\n",
    "        return self._get_current_state(), R, self._get_current_timestamp() > self.end, {}\n",
    "        \n",
    "    def seed(self, seed=None):\n",
    "        return\n",
    "    \n",
    "    def close(self):\n",
    "        return\n",
    "    \n",
    "    def compute_returns():\n",
    "        raise NotImplementedError()\n",
    "        self.returns_list = [INITIAL_BALANCE]\n",
    "        episode_length = (self.end - self.start).days\n",
    "        for i in range(1, episode_length):\n",
    "            past_value = self.returns_list[-1]\n",
    "            a = self.actions_list[i]\n",
    "            prev_a = self.actions_list[i-1]\n",
    "            current_price = self._get_raw_price(i)\n",
    "            next_price = self._get_raw_price(i+1)\n",
    "            if a == 0:\n",
    "                self.returns_list.append(past_value)\n",
    "            elif a == 1:\n",
    "                value = past_value * next_price / current_price\n",
    "        \n",
    "e = TradingEnv()"
   ]
  },
  {
   "cell_type": "code",
   "execution_count": 26,
   "metadata": {},
   "outputs": [
    {
     "name": "stderr",
     "output_type": "stream",
     "text": [
      "/home/aaruran/miniconda3/lib/python3.7/site-packages/ipykernel_launcher.py:10: SettingWithCopyWarning: \n",
      "A value is trying to be set on a copy of a slice from a DataFrame.\n",
      "Try using .loc[row_indexer,col_indexer] = value instead\n",
      "\n",
      "See the caveats in the documentation: https://pandas.pydata.org/pandas-docs/stable/user_guide/indexing.html#returning-a-view-versus-a-copy\n",
      "  # Remove the CWD from sys.path while we load stuff.\n"
     ]
    }
   ],
   "source": [
    "class TradingWithRedditEnv(TradingEnv):\n",
    "#     def __init__(self, ticker='AAPL', target_volatility=10, mode=\"train\"):\n",
    "    def __init__(self, **kwargs):\n",
    "        super(TradingWithRedditEnv, self).__init__(**kwargs)\n",
    "#         super(TradingWithRedditEnv, self).__init__(ticker=ticker, target_volatility=target_volatility, mode=mode)\n",
    "        text = get_all_embeddings(ticker=self.ticker)\n",
    "        text['date'] = pd.to_datetime(text['date'])\n",
    "        self.text_embeddings = text\n",
    "        stocks = self.data[self.df_index:]\n",
    "        stocks['date'] = stocks.index\n",
    "        self.embedding_lookup = pd.merge(stocks, text, how='left')[['date', 'embeddings']]\n",
    "    \n",
    "    def _get_current_embeddings(self):\n",
    "        date = self._get_date()\n",
    "        daily_data = self.embedding_lookup.loc[self.embedding_lookup.date == date]\n",
    "        raw_values = daily_data.embeddings.values\n",
    "        vectors = []\n",
    "        for v in raw_values:\n",
    "            if np.isnan(v):\n",
    "                vectors.append((np.zeros(50)))\n",
    "            else:\n",
    "                vectors.append(v)\n",
    "        return vectors\n",
    "        \n",
    "    def _get_current_state(self):\n",
    "        melted = self._get_melted_technical_indicators()\n",
    "        embedded = self._get_current_embeddings()\n",
    "        return melted, embedded\n",
    "\n",
    "e = TradingWithRedditEnv()\n",
    "# stocks = e.data\n",
    "# text = e.text_embeddings\n",
    "# stocks\n",
    "# text"
   ]
  },
  {
   "cell_type": "code",
   "execution_count": 63,
   "metadata": {},
   "outputs": [
    {
     "data": {
      "text/plain": [
       "[array([0., 0., 0., 0., 0., 0., 0., 0., 0., 0., 0., 0., 0., 0., 0., 0., 0.,\n",
       "        0., 0., 0., 0., 0., 0., 0., 0., 0., 0., 0., 0., 0., 0., 0., 0., 0.,\n",
       "        0., 0., 0., 0., 0., 0., 0., 0., 0., 0., 0., 0., 0., 0., 0., 0.])]"
      ]
     },
     "execution_count": 63,
     "metadata": {},
     "output_type": "execute_result"
    }
   ],
   "source": [
    "e._get_current_embeddings()"
   ]
  },
  {
   "cell_type": "code",
   "execution_count": 48,
   "metadata": {},
   "outputs": [
    {
     "data": {
      "text/plain": [
       "date          datetime64[ns]\n",
       "embeddings            object\n",
       "dtype: object"
      ]
     },
     "execution_count": 48,
     "metadata": {},
     "output_type": "execute_result"
    }
   ],
   "source": [
    "e.text_embeddings.dtypes"
   ]
  },
  {
   "cell_type": "code",
   "execution_count": 49,
   "metadata": {},
   "outputs": [
    {
     "data": {
      "text/plain": [
       "mean           float64\n",
       "std            float64\n",
       "date    datetime64[ns]\n",
       "dtype: object"
      ]
     },
     "execution_count": 49,
     "metadata": {},
     "output_type": "execute_result"
    }
   ],
   "source": [
    "e.data.dtypes"
   ]
  },
  {
   "cell_type": "code",
   "execution_count": 13,
   "metadata": {},
   "outputs": [
    {
     "data": {
      "text/html": [
       "<div>\n",
       "<style scoped>\n",
       "    .dataframe tbody tr th:only-of-type {\n",
       "        vertical-align: middle;\n",
       "    }\n",
       "\n",
       "    .dataframe tbody tr th {\n",
       "        vertical-align: top;\n",
       "    }\n",
       "\n",
       "    .dataframe thead th {\n",
       "        text-align: right;\n",
       "    }\n",
       "</style>\n",
       "<table border=\"1\" class=\"dataframe\">\n",
       "  <thead>\n",
       "    <tr style=\"text-align: right;\">\n",
       "      <th></th>\n",
       "      <th>mean</th>\n",
       "      <th>std</th>\n",
       "      <th>date</th>\n",
       "    </tr>\n",
       "    <tr>\n",
       "      <th>Date</th>\n",
       "      <th></th>\n",
       "      <th></th>\n",
       "      <th></th>\n",
       "    </tr>\n",
       "  </thead>\n",
       "  <tbody>\n",
       "    <tr>\n",
       "      <th>2013-02-11</th>\n",
       "      <td>1.944069</td>\n",
       "      <td>NaN</td>\n",
       "      <td>2013-02-11</td>\n",
       "    </tr>\n",
       "    <tr>\n",
       "      <th>2013-02-12</th>\n",
       "      <td>1.043350</td>\n",
       "      <td>NaN</td>\n",
       "      <td>2013-02-12</td>\n",
       "    </tr>\n",
       "    <tr>\n",
       "      <th>2013-02-13</th>\n",
       "      <td>0.976712</td>\n",
       "      <td>NaN</td>\n",
       "      <td>2013-02-13</td>\n",
       "    </tr>\n",
       "    <tr>\n",
       "      <th>2013-02-14</th>\n",
       "      <td>0.945267</td>\n",
       "      <td>NaN</td>\n",
       "      <td>2013-02-14</td>\n",
       "    </tr>\n",
       "    <tr>\n",
       "      <th>2013-02-15</th>\n",
       "      <td>0.463836</td>\n",
       "      <td>NaN</td>\n",
       "      <td>2013-02-15</td>\n",
       "    </tr>\n",
       "    <tr>\n",
       "      <th>...</th>\n",
       "      <td>...</td>\n",
       "      <td>...</td>\n",
       "      <td>...</td>\n",
       "    </tr>\n",
       "    <tr>\n",
       "      <th>2018-01-08</th>\n",
       "      <td>57.388741</td>\n",
       "      <td>1.128750</td>\n",
       "      <td>2018-01-08</td>\n",
       "    </tr>\n",
       "    <tr>\n",
       "      <th>2018-01-09</th>\n",
       "      <td>57.378256</td>\n",
       "      <td>1.033593</td>\n",
       "      <td>2018-01-09</td>\n",
       "    </tr>\n",
       "    <tr>\n",
       "      <th>2018-01-10</th>\n",
       "      <td>57.357287</td>\n",
       "      <td>1.026139</td>\n",
       "      <td>2018-01-10</td>\n",
       "    </tr>\n",
       "    <tr>\n",
       "      <th>2018-01-11</th>\n",
       "      <td>57.876157</td>\n",
       "      <td>1.060585</td>\n",
       "      <td>2018-01-11</td>\n",
       "    </tr>\n",
       "    <tr>\n",
       "      <th>2018-01-12</th>\n",
       "      <td>58.824792</td>\n",
       "      <td>1.176738</td>\n",
       "      <td>2018-01-12</td>\n",
       "    </tr>\n",
       "  </tbody>\n",
       "</table>\n",
       "<p>1241 rows × 3 columns</p>\n",
       "</div>"
      ],
      "text/plain": [
       "                 mean       std       date\n",
       "Date                                      \n",
       "2013-02-11   1.944069       NaN 2013-02-11\n",
       "2013-02-12   1.043350       NaN 2013-02-12\n",
       "2013-02-13   0.976712       NaN 2013-02-13\n",
       "2013-02-14   0.945267       NaN 2013-02-14\n",
       "2013-02-15   0.463836       NaN 2013-02-15\n",
       "...               ...       ...        ...\n",
       "2018-01-08  57.388741  1.128750 2018-01-08\n",
       "2018-01-09  57.378256  1.033593 2018-01-09\n",
       "2018-01-10  57.357287  1.026139 2018-01-10\n",
       "2018-01-11  57.876157  1.060585 2018-01-11\n",
       "2018-01-12  58.824792  1.176738 2018-01-12\n",
       "\n",
       "[1241 rows x 3 columns]"
      ]
     },
     "execution_count": 13,
     "metadata": {},
     "output_type": "execute_result"
    }
   ],
   "source": [
    "stocks['date'] = stocks.index\n",
    "stocks"
   ]
  },
  {
   "cell_type": "code",
   "execution_count": 5,
   "metadata": {},
   "outputs": [
    {
     "data": {
      "text/html": [
       "<div>\n",
       "<style scoped>\n",
       "    .dataframe tbody tr th:only-of-type {\n",
       "        vertical-align: middle;\n",
       "    }\n",
       "\n",
       "    .dataframe tbody tr th {\n",
       "        vertical-align: top;\n",
       "    }\n",
       "\n",
       "    .dataframe thead th {\n",
       "        text-align: right;\n",
       "    }\n",
       "</style>\n",
       "<table border=\"1\" class=\"dataframe\">\n",
       "  <thead>\n",
       "    <tr style=\"text-align: right;\">\n",
       "      <th></th>\n",
       "      <th>date</th>\n",
       "      <th>embeddings</th>\n",
       "    </tr>\n",
       "  </thead>\n",
       "  <tbody>\n",
       "    <tr>\n",
       "      <th>0</th>\n",
       "      <td>2014-10-14</td>\n",
       "      <td>[-0.03803207725286484, 0.0013342425227165222, ...</td>\n",
       "    </tr>\n",
       "    <tr>\n",
       "      <th>1</th>\n",
       "      <td>2015-06-03</td>\n",
       "      <td>[-0.4903160035610199, -0.3853575885295868, 0.2...</td>\n",
       "    </tr>\n",
       "    <tr>\n",
       "      <th>2</th>\n",
       "      <td>2015-06-10</td>\n",
       "      <td>[-0.4903160035610199, -0.3853575885295868, 0.2...</td>\n",
       "    </tr>\n",
       "    <tr>\n",
       "      <th>3</th>\n",
       "      <td>2015-08-25</td>\n",
       "      <td>[-0.4903160035610199, -0.3853575885295868, 0.2...</td>\n",
       "    </tr>\n",
       "    <tr>\n",
       "      <th>4</th>\n",
       "      <td>2015-09-08</td>\n",
       "      <td>[-0.4903160035610199, -0.3853575885295868, 0.2...</td>\n",
       "    </tr>\n",
       "    <tr>\n",
       "      <th>5</th>\n",
       "      <td>2015-11-19</td>\n",
       "      <td>[-0.4903160035610199, -0.3853575885295868, 0.2...</td>\n",
       "    </tr>\n",
       "    <tr>\n",
       "      <th>6</th>\n",
       "      <td>2015-12-10</td>\n",
       "      <td>[-1.143259048461914, -0.9430350661277771, 0.92...</td>\n",
       "    </tr>\n",
       "    <tr>\n",
       "      <th>7</th>\n",
       "      <td>2015-12-17</td>\n",
       "      <td>[-0.4903160035610199, -0.3853575885295868, 0.2...</td>\n",
       "    </tr>\n",
       "    <tr>\n",
       "      <th>8</th>\n",
       "      <td>2015-12-20</td>\n",
       "      <td>[-0.4903160035610199, -0.3853575885295868, 0.2...</td>\n",
       "    </tr>\n",
       "    <tr>\n",
       "      <th>9</th>\n",
       "      <td>2016-01-09</td>\n",
       "      <td>[-0.4903160035610199, -0.3853575885295868, 0.2...</td>\n",
       "    </tr>\n",
       "    <tr>\n",
       "      <th>10</th>\n",
       "      <td>2016-01-10</td>\n",
       "      <td>[-0.4903160035610199, -0.3853575885295868, 0.2...</td>\n",
       "    </tr>\n",
       "    <tr>\n",
       "      <th>11</th>\n",
       "      <td>2016-01-17</td>\n",
       "      <td>[-0.4903160035610199, -0.3853575885295868, 0.2...</td>\n",
       "    </tr>\n",
       "    <tr>\n",
       "      <th>12</th>\n",
       "      <td>2016-03-31</td>\n",
       "      <td>[-0.4903160035610199, -0.3853575885295868, 0.2...</td>\n",
       "    </tr>\n",
       "    <tr>\n",
       "      <th>13</th>\n",
       "      <td>2016-05-04</td>\n",
       "      <td>[-0.3762035369873047, -0.5471701622009277, 0.1...</td>\n",
       "    </tr>\n",
       "    <tr>\n",
       "      <th>14</th>\n",
       "      <td>2016-05-27</td>\n",
       "      <td>[-0.4903160035610199, -0.3853575885295868, 0.2...</td>\n",
       "    </tr>\n",
       "    <tr>\n",
       "      <th>15</th>\n",
       "      <td>2016-05-28</td>\n",
       "      <td>[-0.4903160035610199, -0.3853575885295868, 0.2...</td>\n",
       "    </tr>\n",
       "    <tr>\n",
       "      <th>16</th>\n",
       "      <td>2016-06-10</td>\n",
       "      <td>[-0.4903160035610199, -0.3853575885295868, 0.2...</td>\n",
       "    </tr>\n",
       "    <tr>\n",
       "      <th>17</th>\n",
       "      <td>2016-07-19</td>\n",
       "      <td>[-0.4903160035610199, -0.3853575885295868, 0.2...</td>\n",
       "    </tr>\n",
       "    <tr>\n",
       "      <th>18</th>\n",
       "      <td>2016-07-25</td>\n",
       "      <td>[-0.4903160035610199, -0.3853575885295868, 0.2...</td>\n",
       "    </tr>\n",
       "    <tr>\n",
       "      <th>19</th>\n",
       "      <td>2016-07-25</td>\n",
       "      <td>[-0.4903160035610199, -0.3853575885295868, 0.2...</td>\n",
       "    </tr>\n",
       "    <tr>\n",
       "      <th>20</th>\n",
       "      <td>2016-08-18</td>\n",
       "      <td>[-0.03803207725286484, 0.0013342425227165222, ...</td>\n",
       "    </tr>\n",
       "    <tr>\n",
       "      <th>21</th>\n",
       "      <td>2016-10-07</td>\n",
       "      <td>[-1.143259048461914, -0.9430350661277771, 0.92...</td>\n",
       "    </tr>\n",
       "    <tr>\n",
       "      <th>22</th>\n",
       "      <td>2016-10-09</td>\n",
       "      <td>[-0.4903160035610199, -0.3853575885295868, 0.2...</td>\n",
       "    </tr>\n",
       "    <tr>\n",
       "      <th>23</th>\n",
       "      <td>2016-12-03</td>\n",
       "      <td>[-0.4903160035610199, -0.3853575885295868, 0.2...</td>\n",
       "    </tr>\n",
       "    <tr>\n",
       "      <th>24</th>\n",
       "      <td>2017-08-10</td>\n",
       "      <td>[-0.4903160035610199, -0.3853575885295868, 0.2...</td>\n",
       "    </tr>\n",
       "    <tr>\n",
       "      <th>25</th>\n",
       "      <td>2017-08-16</td>\n",
       "      <td>[-0.4903160035610199, -0.3853575885295868, 0.2...</td>\n",
       "    </tr>\n",
       "    <tr>\n",
       "      <th>26</th>\n",
       "      <td>2017-08-16</td>\n",
       "      <td>[-0.4903160035610199, -0.3853575885295868, 0.2...</td>\n",
       "    </tr>\n",
       "    <tr>\n",
       "      <th>27</th>\n",
       "      <td>2017-08-16</td>\n",
       "      <td>[-0.4903160035610199, -0.3853575885295868, 0.2...</td>\n",
       "    </tr>\n",
       "    <tr>\n",
       "      <th>28</th>\n",
       "      <td>2018-09-06</td>\n",
       "      <td>[-0.4903160035610199, -0.3853575885295868, 0.2...</td>\n",
       "    </tr>\n",
       "    <tr>\n",
       "      <th>29</th>\n",
       "      <td>2018-09-09</td>\n",
       "      <td>[-0.4903160035610199, -0.3853575885295868, 0.2...</td>\n",
       "    </tr>\n",
       "    <tr>\n",
       "      <th>30</th>\n",
       "      <td>2018-09-14</td>\n",
       "      <td>[-0.4903160035610199, -0.3853575885295868, 0.2...</td>\n",
       "    </tr>\n",
       "    <tr>\n",
       "      <th>31</th>\n",
       "      <td>2018-09-14</td>\n",
       "      <td>[-0.4903160035610199, -0.3853575885295868, 0.2...</td>\n",
       "    </tr>\n",
       "    <tr>\n",
       "      <th>32</th>\n",
       "      <td>2018-09-17</td>\n",
       "      <td>[-0.4903160035610199, -0.3853575885295868, 0.2...</td>\n",
       "    </tr>\n",
       "    <tr>\n",
       "      <th>33</th>\n",
       "      <td>2018-09-21</td>\n",
       "      <td>[-0.03803207725286484, 0.0013342425227165222, ...</td>\n",
       "    </tr>\n",
       "  </tbody>\n",
       "</table>\n",
       "</div>"
      ],
      "text/plain": [
       "         date                                         embeddings\n",
       "0  2014-10-14  [-0.03803207725286484, 0.0013342425227165222, ...\n",
       "1  2015-06-03  [-0.4903160035610199, -0.3853575885295868, 0.2...\n",
       "2  2015-06-10  [-0.4903160035610199, -0.3853575885295868, 0.2...\n",
       "3  2015-08-25  [-0.4903160035610199, -0.3853575885295868, 0.2...\n",
       "4  2015-09-08  [-0.4903160035610199, -0.3853575885295868, 0.2...\n",
       "5  2015-11-19  [-0.4903160035610199, -0.3853575885295868, 0.2...\n",
       "6  2015-12-10  [-1.143259048461914, -0.9430350661277771, 0.92...\n",
       "7  2015-12-17  [-0.4903160035610199, -0.3853575885295868, 0.2...\n",
       "8  2015-12-20  [-0.4903160035610199, -0.3853575885295868, 0.2...\n",
       "9  2016-01-09  [-0.4903160035610199, -0.3853575885295868, 0.2...\n",
       "10 2016-01-10  [-0.4903160035610199, -0.3853575885295868, 0.2...\n",
       "11 2016-01-17  [-0.4903160035610199, -0.3853575885295868, 0.2...\n",
       "12 2016-03-31  [-0.4903160035610199, -0.3853575885295868, 0.2...\n",
       "13 2016-05-04  [-0.3762035369873047, -0.5471701622009277, 0.1...\n",
       "14 2016-05-27  [-0.4903160035610199, -0.3853575885295868, 0.2...\n",
       "15 2016-05-28  [-0.4903160035610199, -0.3853575885295868, 0.2...\n",
       "16 2016-06-10  [-0.4903160035610199, -0.3853575885295868, 0.2...\n",
       "17 2016-07-19  [-0.4903160035610199, -0.3853575885295868, 0.2...\n",
       "18 2016-07-25  [-0.4903160035610199, -0.3853575885295868, 0.2...\n",
       "19 2016-07-25  [-0.4903160035610199, -0.3853575885295868, 0.2...\n",
       "20 2016-08-18  [-0.03803207725286484, 0.0013342425227165222, ...\n",
       "21 2016-10-07  [-1.143259048461914, -0.9430350661277771, 0.92...\n",
       "22 2016-10-09  [-0.4903160035610199, -0.3853575885295868, 0.2...\n",
       "23 2016-12-03  [-0.4903160035610199, -0.3853575885295868, 0.2...\n",
       "24 2017-08-10  [-0.4903160035610199, -0.3853575885295868, 0.2...\n",
       "25 2017-08-16  [-0.4903160035610199, -0.3853575885295868, 0.2...\n",
       "26 2017-08-16  [-0.4903160035610199, -0.3853575885295868, 0.2...\n",
       "27 2017-08-16  [-0.4903160035610199, -0.3853575885295868, 0.2...\n",
       "28 2018-09-06  [-0.4903160035610199, -0.3853575885295868, 0.2...\n",
       "29 2018-09-09  [-0.4903160035610199, -0.3853575885295868, 0.2...\n",
       "30 2018-09-14  [-0.4903160035610199, -0.3853575885295868, 0.2...\n",
       "31 2018-09-14  [-0.4903160035610199, -0.3853575885295868, 0.2...\n",
       "32 2018-09-17  [-0.4903160035610199, -0.3853575885295868, 0.2...\n",
       "33 2018-09-21  [-0.03803207725286484, 0.0013342425227165222, ..."
      ]
     },
     "execution_count": 5,
     "metadata": {},
     "output_type": "execute_result"
    }
   ],
   "source": [
    "text"
   ]
  },
  {
   "cell_type": "code",
   "execution_count": 32,
   "metadata": {},
   "outputs": [
    {
     "data": {
      "text/html": [
       "<div>\n",
       "<style scoped>\n",
       "    .dataframe tbody tr th:only-of-type {\n",
       "        vertical-align: middle;\n",
       "    }\n",
       "\n",
       "    .dataframe tbody tr th {\n",
       "        vertical-align: top;\n",
       "    }\n",
       "\n",
       "    .dataframe thead th {\n",
       "        text-align: right;\n",
       "    }\n",
       "</style>\n",
       "<table border=\"1\" class=\"dataframe\">\n",
       "  <thead>\n",
       "    <tr style=\"text-align: right;\">\n",
       "      <th></th>\n",
       "      <th>mean</th>\n",
       "      <th>std</th>\n",
       "      <th>date</th>\n",
       "      <th>embeddings</th>\n",
       "    </tr>\n",
       "  </thead>\n",
       "  <tbody>\n",
       "    <tr>\n",
       "      <th>0</th>\n",
       "      <td>6.735914</td>\n",
       "      <td>0.664223</td>\n",
       "      <td>2014-01-06</td>\n",
       "      <td>0</td>\n",
       "    </tr>\n",
       "    <tr>\n",
       "      <th>1</th>\n",
       "      <td>6.444662</td>\n",
       "      <td>0.726527</td>\n",
       "      <td>2014-01-07</td>\n",
       "      <td>0</td>\n",
       "    </tr>\n",
       "    <tr>\n",
       "      <th>2</th>\n",
       "      <td>6.700726</td>\n",
       "      <td>0.755144</td>\n",
       "      <td>2014-01-08</td>\n",
       "      <td>0</td>\n",
       "    </tr>\n",
       "    <tr>\n",
       "      <th>3</th>\n",
       "      <td>6.181108</td>\n",
       "      <td>0.824565</td>\n",
       "      <td>2014-01-09</td>\n",
       "      <td>0</td>\n",
       "    </tr>\n",
       "    <tr>\n",
       "      <th>4</th>\n",
       "      <td>5.913064</td>\n",
       "      <td>0.899194</td>\n",
       "      <td>2014-01-10</td>\n",
       "      <td>0</td>\n",
       "    </tr>\n",
       "    <tr>\n",
       "      <th>...</th>\n",
       "      <td>...</td>\n",
       "      <td>...</td>\n",
       "      <td>...</td>\n",
       "      <td>...</td>\n",
       "    </tr>\n",
       "    <tr>\n",
       "      <th>1012</th>\n",
       "      <td>57.388741</td>\n",
       "      <td>1.128750</td>\n",
       "      <td>2018-01-08</td>\n",
       "      <td>0</td>\n",
       "    </tr>\n",
       "    <tr>\n",
       "      <th>1013</th>\n",
       "      <td>57.378256</td>\n",
       "      <td>1.033593</td>\n",
       "      <td>2018-01-09</td>\n",
       "      <td>0</td>\n",
       "    </tr>\n",
       "    <tr>\n",
       "      <th>1014</th>\n",
       "      <td>57.357287</td>\n",
       "      <td>1.026139</td>\n",
       "      <td>2018-01-10</td>\n",
       "      <td>0</td>\n",
       "    </tr>\n",
       "    <tr>\n",
       "      <th>1015</th>\n",
       "      <td>57.876157</td>\n",
       "      <td>1.060585</td>\n",
       "      <td>2018-01-11</td>\n",
       "      <td>0</td>\n",
       "    </tr>\n",
       "    <tr>\n",
       "      <th>1016</th>\n",
       "      <td>58.824792</td>\n",
       "      <td>1.176738</td>\n",
       "      <td>2018-01-12</td>\n",
       "      <td>0</td>\n",
       "    </tr>\n",
       "  </tbody>\n",
       "</table>\n",
       "<p>1017 rows × 4 columns</p>\n",
       "</div>"
      ],
      "text/plain": [
       "           mean       std       date embeddings\n",
       "0      6.735914  0.664223 2014-01-06          0\n",
       "1      6.444662  0.726527 2014-01-07          0\n",
       "2      6.700726  0.755144 2014-01-08          0\n",
       "3      6.181108  0.824565 2014-01-09          0\n",
       "4      5.913064  0.899194 2014-01-10          0\n",
       "...         ...       ...        ...        ...\n",
       "1012  57.388741  1.128750 2018-01-08          0\n",
       "1013  57.378256  1.033593 2018-01-09          0\n",
       "1014  57.357287  1.026139 2018-01-10          0\n",
       "1015  57.876157  1.060585 2018-01-11          0\n",
       "1016  58.824792  1.176738 2018-01-12          0\n",
       "\n",
       "[1017 rows x 4 columns]"
      ]
     },
     "execution_count": 32,
     "metadata": {},
     "output_type": "execute_result"
    }
   ],
   "source": [
    "embedding_lookup = pd.merge(stocks[e.df_index:], text, how='left')\n",
    "embedding_lookup.fillna(0, axis=0, inplace=True)\n",
    "embedding_lookup"
   ]
  },
  {
   "cell_type": "code",
   "execution_count": 41,
   "metadata": {},
   "outputs": [
    {
     "data": {
      "text/html": [
       "<div>\n",
       "<style scoped>\n",
       "    .dataframe tbody tr th:only-of-type {\n",
       "        vertical-align: middle;\n",
       "    }\n",
       "\n",
       "    .dataframe tbody tr th {\n",
       "        vertical-align: top;\n",
       "    }\n",
       "\n",
       "    .dataframe thead th {\n",
       "        text-align: right;\n",
       "    }\n",
       "</style>\n",
       "<table border=\"1\" class=\"dataframe\">\n",
       "  <thead>\n",
       "    <tr style=\"text-align: right;\">\n",
       "      <th></th>\n",
       "      <th>mean</th>\n",
       "      <th>std</th>\n",
       "      <th>date</th>\n",
       "      <th>embeddings</th>\n",
       "    </tr>\n",
       "  </thead>\n",
       "  <tbody>\n",
       "  </tbody>\n",
       "</table>\n",
       "</div>"
      ],
      "text/plain": [
       "Empty DataFrame\n",
       "Columns: [mean, std, date, embeddings]\n",
       "Index: []"
      ]
     },
     "execution_count": 41,
     "metadata": {},
     "output_type": "execute_result"
    }
   ],
   "source": [
    "embedding_lookup.loc[embedding_lookup.date == '2016-05-28']"
   ]
  },
  {
   "cell_type": "code",
   "execution_count": 38,
   "metadata": {},
   "outputs": [
    {
     "data": {
      "text/plain": [
       "array([<class 'int'>, <class 'str'>], dtype=object)"
      ]
     },
     "execution_count": 38,
     "metadata": {},
     "output_type": "execute_result"
    }
   ],
   "source": [
    "embedding_lookup.embeddings.apply(lambda x : type(x)).unique()"
   ]
  },
  {
   "cell_type": "code",
   "execution_count": null,
   "metadata": {},
   "outputs": [],
   "source": [
    "unique"
   ]
  },
  {
   "cell_type": "code",
   "execution_count": 6,
   "metadata": {},
   "outputs": [
    {
     "data": {
      "text/plain": [
       "Timestamp('2014-01-06 00:00:00')"
      ]
     },
     "execution_count": 6,
     "metadata": {},
     "output_type": "execute_result"
    }
   ],
   "source": [
    "e._get_date()\n",
    "# stocks.dropna()"
   ]
  },
  {
   "cell_type": "code",
   "execution_count": 7,
   "metadata": {},
   "outputs": [],
   "source": [
    "def _get_embeddings(diff=0):\n",
    "    date = e._get_date(diff=diff)\n",
    "    relevant_text = text[text.date == date]\n",
    "    return values_to_matrix(relevant_text.embeddings.values)\n",
    "\n",
    "# _get_embeddings(diff=3).shape"
   ]
  },
  {
   "cell_type": "code",
   "execution_count": 9,
   "metadata": {},
   "outputs": [
    {
     "data": {
      "text/plain": [
       "0"
      ]
     },
     "execution_count": 9,
     "metadata": {},
     "output_type": "execute_result"
    }
   ],
   "source": [
    "len(_get_embeddings(diff=0))"
   ]
  },
  {
   "cell_type": "code",
   "execution_count": 12,
   "metadata": {},
   "outputs": [
    {
     "data": {
      "text/plain": [
       "2"
      ]
     },
     "execution_count": 12,
     "metadata": {},
     "output_type": "execute_result"
    }
   ],
   "source": [
    "len(_get_embeddings(diff=1))"
   ]
  },
  {
   "cell_type": "code",
   "execution_count": null,
   "metadata": {},
   "outputs": [],
   "source": [
    "_get_embeddings(diff=2).shape"
   ]
  },
  {
   "cell_type": "code",
   "execution_count": null,
   "metadata": {},
   "outputs": [],
   "source": [
    "_get_embeddings(diff=3).shape"
   ]
  },
  {
   "cell_type": "code",
   "execution_count": null,
   "metadata": {},
   "outputs": [],
   "source": [
    "text.groupby('date')"
   ]
  },
  {
   "cell_type": "code",
   "execution_count": null,
   "metadata": {},
   "outputs": [],
   "source": [
    "stocks[e.df_index:]"
   ]
  },
  {
   "cell_type": "code",
   "execution_count": 13,
   "metadata": {},
   "outputs": [
    {
     "data": {
      "text/html": [
       "<div>\n",
       "<style scoped>\n",
       "    .dataframe tbody tr th:only-of-type {\n",
       "        vertical-align: middle;\n",
       "    }\n",
       "\n",
       "    .dataframe tbody tr th {\n",
       "        vertical-align: top;\n",
       "    }\n",
       "\n",
       "    .dataframe thead th {\n",
       "        text-align: right;\n",
       "    }\n",
       "</style>\n",
       "<table border=\"1\" class=\"dataframe\">\n",
       "  <thead>\n",
       "    <tr style=\"text-align: right;\">\n",
       "      <th></th>\n",
       "      <th>date</th>\n",
       "      <th>embeddings</th>\n",
       "    </tr>\n",
       "  </thead>\n",
       "  <tbody>\n",
       "    <tr>\n",
       "      <th>0</th>\n",
       "      <td>2012-04-11</td>\n",
       "      <td>[-0.44496807  0.3513139   0.5084499   0.490831...</td>\n",
       "    </tr>\n",
       "    <tr>\n",
       "      <th>1</th>\n",
       "      <td>2012-04-11</td>\n",
       "      <td>[-0.44496807  0.3513139   0.5084499   0.490831...</td>\n",
       "    </tr>\n",
       "    <tr>\n",
       "      <th>2</th>\n",
       "      <td>2012-04-17</td>\n",
       "      <td>[-0.37154755  0.11488254  0.32077706  0.469549...</td>\n",
       "    </tr>\n",
       "    <tr>\n",
       "      <th>3</th>\n",
       "      <td>2012-04-17</td>\n",
       "      <td>[-0.3431134   0.12053894  0.25498617  0.317914...</td>\n",
       "    </tr>\n",
       "    <tr>\n",
       "      <th>4</th>\n",
       "      <td>2012-04-17</td>\n",
       "      <td>[-0.21416569  0.18238343  0.29016954  0.335739...</td>\n",
       "    </tr>\n",
       "    <tr>\n",
       "      <th>...</th>\n",
       "      <td>...</td>\n",
       "      <td>...</td>\n",
       "    </tr>\n",
       "    <tr>\n",
       "      <th>28303</th>\n",
       "      <td>2018-10-31</td>\n",
       "      <td>[-0.15065286 -0.01796762  0.2625997   0.458763...</td>\n",
       "    </tr>\n",
       "    <tr>\n",
       "      <th>28304</th>\n",
       "      <td>2018-10-31</td>\n",
       "      <td>[-0.07056472 -0.13153344  0.24480873  0.401294...</td>\n",
       "    </tr>\n",
       "    <tr>\n",
       "      <th>28305</th>\n",
       "      <td>2018-10-31</td>\n",
       "      <td>[-0.2272068  -0.011285    0.31687522  0.534255...</td>\n",
       "    </tr>\n",
       "    <tr>\n",
       "      <th>28306</th>\n",
       "      <td>2018-10-31</td>\n",
       "      <td>[ 0.06805411  0.03550359  0.2536066   0.723040...</td>\n",
       "    </tr>\n",
       "    <tr>\n",
       "      <th>28307</th>\n",
       "      <td>2018-10-31</td>\n",
       "      <td>[-2.18699962e-01  1.39260992e-01  2.60466576e-...</td>\n",
       "    </tr>\n",
       "  </tbody>\n",
       "</table>\n",
       "<p>28308 rows × 2 columns</p>\n",
       "</div>"
      ],
      "text/plain": [
       "            date                                         embeddings\n",
       "0     2012-04-11  [-0.44496807  0.3513139   0.5084499   0.490831...\n",
       "1     2012-04-11  [-0.44496807  0.3513139   0.5084499   0.490831...\n",
       "2     2012-04-17  [-0.37154755  0.11488254  0.32077706  0.469549...\n",
       "3     2012-04-17  [-0.3431134   0.12053894  0.25498617  0.317914...\n",
       "4     2012-04-17  [-0.21416569  0.18238343  0.29016954  0.335739...\n",
       "...          ...                                                ...\n",
       "28303 2018-10-31  [-0.15065286 -0.01796762  0.2625997   0.458763...\n",
       "28304 2018-10-31  [-0.07056472 -0.13153344  0.24480873  0.401294...\n",
       "28305 2018-10-31  [-0.2272068  -0.011285    0.31687522  0.534255...\n",
       "28306 2018-10-31  [ 0.06805411  0.03550359  0.2536066   0.723040...\n",
       "28307 2018-10-31  [-2.18699962e-01  1.39260992e-01  2.60466576e-...\n",
       "\n",
       "[28308 rows x 2 columns]"
      ]
     },
     "execution_count": 13,
     "metadata": {},
     "output_type": "execute_result"
    }
   ],
   "source": [
    "text"
   ]
  },
  {
   "cell_type": "code",
   "execution_count": null,
   "metadata": {},
   "outputs": [],
   "source": []
  },
  {
   "cell_type": "code",
   "execution_count": null,
   "metadata": {},
   "outputs": [],
   "source": []
  },
  {
   "cell_type": "code",
   "execution_count": null,
   "metadata": {},
   "outputs": [],
   "source": [
    "(e.end - e.start).days"
   ]
  },
  {
   "cell_type": "code",
   "execution_count": null,
   "metadata": {},
   "outputs": [],
   "source": [
    "e = TradingWithRedditEnv()\n",
    "stocks = e.data\n",
    "stocks['date'] = stocks.index\n",
    "stocks.head()"
   ]
  },
  {
   "cell_type": "code",
   "execution_count": null,
   "metadata": {},
   "outputs": [],
   "source": [
    "text = e.text_embeddings\n",
    "text['date'] = pd.to_datetime(text['date'])\n",
    "text.dtypes"
   ]
  },
  {
   "cell_type": "code",
   "execution_count": null,
   "metadata": {},
   "outputs": [],
   "source": [
    "stocks.dtypes"
   ]
  },
  {
   "cell_type": "code",
   "execution_count": null,
   "metadata": {},
   "outputs": [],
   "source": [
    "# stocks.join(text, on='date')\n",
    "merged = pd.merge(stocks, text, how='left')\n",
    "merged.head()"
   ]
  },
  {
   "cell_type": "code",
   "execution_count": null,
   "metadata": {},
   "outputs": [],
   "source": []
  },
  {
   "cell_type": "code",
   "execution_count": null,
   "metadata": {},
   "outputs": [],
   "source": [
    "macd = ti.macd(e.data['mean'].values, short_period=63, long_period=252, signal_period=60)\n",
    "macd[0].shape, macd[1].shape, macd[2].shape"
   ]
  },
  {
   "cell_type": "code",
   "execution_count": null,
   "metadata": {},
   "outputs": [],
   "source": [
    "len(e.data['mean'])"
   ]
  },
  {
   "cell_type": "code",
   "execution_count": null,
   "metadata": {},
   "outputs": [],
   "source": [
    "ti.rsi(e.data['mean'].values,period=30).shape"
   ]
  },
  {
   "cell_type": "code",
   "execution_count": null,
   "metadata": {},
   "outputs": [],
   "source": [
    "def basic_loop_test(t):\n",
    "    env = TradingEnv(ticker=t)\n",
    "    state = env.reset()\n",
    "    done = False\n",
    "#     np.random.seed(885)\n",
    "#     while not done:\n",
    "#     # for i in range(14):\n",
    "#         action = np.random.randint(low=-1, high=2)\n",
    "#         next_state, r, done, _ = env.step(action)\n",
    "#         assert len(state) == len(next_state)\n",
    "\n",
    "#     plt.plot(env.rewards_list)\n",
    "#     plt.title(f'Reward vs. Time for {t}')\n",
    "#     plt.show()"
   ]
  },
  {
   "cell_type": "code",
   "execution_count": null,
   "metadata": {},
   "outputs": [],
   "source": [
    "basic_loop_test('AAPL')"
   ]
  },
  {
   "cell_type": "code",
   "execution_count": null,
   "metadata": {},
   "outputs": [],
   "source": [
    "ticker_list = []\n",
    "with open('./small_stock_name.txt') as src:\n",
    "    ticker_list = src.read().split()"
   ]
  },
  {
   "cell_type": "code",
   "execution_count": null,
   "metadata": {},
   "outputs": [],
   "source": [
    "len(ticker_list)"
   ]
  },
  {
   "cell_type": "code",
   "execution_count": null,
   "metadata": {},
   "outputs": [],
   "source": [
    "from tqdm import tqdm\n",
    "filtered_tickers = []\n",
    "for i, t in tqdm(enumerate(ticker_list)):\n",
    "    try:\n",
    "        basic_loop_test(t)\n",
    "        filtered_tickers.append(t)\n",
    "    except:\n",
    "        print(f'{t} failed')\n",
    "        continue\n",
    "print(f'\\nTickers preserved: {len(filtered_tickers)} / {len(ticker_list)}')\n",
    "assert len(filtered_tickers) > 0"
   ]
  },
  {
   "cell_type": "code",
   "execution_count": null,
   "metadata": {},
   "outputs": [],
   "source": [
    "set(ticker_list) - set(filtered_tickers)"
   ]
  },
  {
   "cell_type": "code",
   "execution_count": null,
   "metadata": {},
   "outputs": [],
   "source": [
    "with open('filtered_tickers.txt', 'w') as target:\n",
    "    target.write(','.join(filtered_tickers))"
   ]
  },
  {
   "cell_type": "code",
   "execution_count": 23,
   "metadata": {},
   "outputs": [
    {
     "ename": "TypeError",
     "evalue": "ContinuousTradingEnv() missing 1 required positional argument: 'TradingEnv'",
     "output_type": "error",
     "traceback": [
      "\u001b[0;31m---------------------------------------------------------------------------\u001b[0m",
      "\u001b[0;31mTypeError\u001b[0m                                 Traceback (most recent call last)",
      "\u001b[0;32m<ipython-input-23-f41c6fa7e72e>\u001b[0m in \u001b[0;36m<module>\u001b[0;34m\u001b[0m\n\u001b[1;32m     29\u001b[0m             \u001b[0;34m{\u001b[0m\u001b[0;34m}\u001b[0m\u001b[0;34m,\u001b[0m\u001b[0;34m\u001b[0m\u001b[0;34m\u001b[0m\u001b[0m\n\u001b[1;32m     30\u001b[0m         )\n\u001b[0;32m---> 31\u001b[0;31m \u001b[0mc\u001b[0m \u001b[0;34m=\u001b[0m \u001b[0mContinuousTradingEnv\u001b[0m\u001b[0;34m(\u001b[0m\u001b[0;34m)\u001b[0m\u001b[0;34m\u001b[0m\u001b[0;34m\u001b[0m\u001b[0m\n\u001b[0m",
      "\u001b[0;31mTypeError\u001b[0m: ContinuousTradingEnv() missing 1 required positional argument: 'TradingEnv'"
     ]
    }
   ],
   "source": [
    "def ContinuousTradingEnv(TradingEnv):\n",
    "    def __init__(self, **kwargs):\n",
    "        super(ContinuousTradingEnv, self).__init__(**kwargs)\n",
    "#         super(ContinuousTradingEnv, self).__init__()\n",
    "#         super(ContinuousTradingEnv, self).__init__(*args, **kwargs)\n",
    "\n",
    "    def step(self, action):\n",
    "        \"\"\"\n",
    "            Executes an action in the stock environment, using \n",
    "            the CONTINUOUS action space described in: Deep Reinforcement Learning for Trading\n",
    "            \n",
    "            i.e. -1 is maximally short, 0 is no holdings, 1 is maximally long\n",
    "            Inputs: action in [-1, 1]\n",
    "            Outputs: a tuple (observation/state, step_reward, is_done, info)\n",
    "        \"\"\"\n",
    "        assert -1 <= action <= 1, f\"Got {action} but it is outside of [-1, 1]\"\n",
    "\n",
    "        roi = self._get_new_return(action)\n",
    "        self.returns_list.append(roi)\n",
    "\n",
    "        R = self._compute_reward_function(action)\n",
    "        self.rewards_list.append(R)\n",
    "        self.actions_list.append(action)\n",
    "        self.df_index += 1\n",
    "        return (\n",
    "            self._get_current_state(),\n",
    "            R,\n",
    "            self._get_current_timestamp() > self.end,\n",
    "            {},\n",
    "        )\n",
    "c = ContinuousTradingEnv()"
   ]
  },
  {
   "cell_type": "code",
   "execution_count": 12,
   "metadata": {},
   "outputs": [
    {
     "name": "stdout",
     "output_type": "stream",
     "text": [
      "> \u001b[0;32m<ipython-input-11-69799cdd0e7e>\u001b[0m(30)\u001b[0;36m<module>\u001b[0;34m()\u001b[0m\n",
      "\u001b[0;32m     26 \u001b[0;31m            \u001b[0mR\u001b[0m\u001b[0;34m,\u001b[0m\u001b[0;34m\u001b[0m\u001b[0;34m\u001b[0m\u001b[0m\n",
      "\u001b[0m\u001b[0;32m     27 \u001b[0;31m            \u001b[0mself\u001b[0m\u001b[0;34m.\u001b[0m\u001b[0m_get_current_timestamp\u001b[0m\u001b[0;34m(\u001b[0m\u001b[0;34m)\u001b[0m \u001b[0;34m>\u001b[0m \u001b[0mself\u001b[0m\u001b[0;34m.\u001b[0m\u001b[0mend\u001b[0m\u001b[0;34m,\u001b[0m\u001b[0;34m\u001b[0m\u001b[0;34m\u001b[0m\u001b[0m\n",
      "\u001b[0m\u001b[0;32m     28 \u001b[0;31m            \u001b[0;34m{\u001b[0m\u001b[0;34m}\u001b[0m\u001b[0;34m,\u001b[0m\u001b[0;34m\u001b[0m\u001b[0;34m\u001b[0m\u001b[0m\n",
      "\u001b[0m\u001b[0;32m     29 \u001b[0;31m        )\n",
      "\u001b[0m\u001b[0;32m---> 30 \u001b[0;31m\u001b[0mc\u001b[0m \u001b[0;34m=\u001b[0m \u001b[0mContinuousTradingEnv\u001b[0m\u001b[0;34m(\u001b[0m\u001b[0;34m)\u001b[0m\u001b[0;34m\u001b[0m\u001b[0;34m\u001b[0m\u001b[0m\n",
      "\u001b[0m\n"
     ]
    },
    {
     "name": "stdin",
     "output_type": "stream",
     "text": [
      "ipdb>  d\n"
     ]
    },
    {
     "name": "stdout",
     "output_type": "stream",
     "text": [
      "*** Newest frame\n"
     ]
    },
    {
     "name": "stdin",
     "output_type": "stream",
     "text": [
      "ipdb>  d\n"
     ]
    },
    {
     "name": "stdout",
     "output_type": "stream",
     "text": [
      "*** Newest frame\n"
     ]
    },
    {
     "name": "stdin",
     "output_type": "stream",
     "text": [
      "ipdb>  c\n"
     ]
    }
   ],
   "source": [
    "%debug"
   ]
  },
  {
   "cell_type": "code",
   "execution_count": null,
   "metadata": {},
   "outputs": [],
   "source": []
  }
 ],
 "metadata": {
  "kernelspec": {
   "display_name": "Python 3",
   "language": "python",
   "name": "python3"
  },
  "language_info": {
   "codemirror_mode": {
    "name": "ipython",
    "version": 3
   },
   "file_extension": ".py",
   "mimetype": "text/x-python",
   "name": "python",
   "nbconvert_exporter": "python",
   "pygments_lexer": "ipython3",
   "version": "3.7.6"
  }
 },
 "nbformat": 4,
 "nbformat_minor": 4
}
