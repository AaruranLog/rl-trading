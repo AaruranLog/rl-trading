{
 "cells": [
  {
   "cell_type": "code",
   "execution_count": 1,
   "metadata": {},
   "outputs": [
    {
     "name": "stderr",
     "output_type": "stream",
     "text": [
      "/home/aaruran/miniconda3/lib/python3.7/site-packages/pandas_datareader/compat/__init__.py:7: FutureWarning: pandas.util.testing is deprecated. Use the functions in the public API at pandas.testing instead.\n",
      "  from pandas.util.testing import assert_frame_equal\n"
     ]
    }
   ],
   "source": [
    "import pandas as pd\n",
    "from pandas_datareader import data\n",
    "import numpy as np\n",
    "import matplotlib.pyplot as plt\n",
    "import gym"
   ]
  },
  {
   "cell_type": "code",
   "execution_count": 2,
   "metadata": {},
   "outputs": [],
   "source": [
    "INITIAL_BALANCE = 10\n",
    "TRANSACTION_COST = 0.01\n",
    "WINDOW_SIZE = 60\n",
    "DELTA_DAY = pd.Timedelta(days=1)\n",
    "DEFAULT_ACTIONS_LIST = [0]\n",
    "DEFAULT_REWARDS_LIST = [0]\n",
    "EXP_DECAY = 0.8\n",
    "class TradingEnv(gym.Env):\n",
    "    \n",
    "    def __init__(self, ticker='AAPL', target_volatility=1, mode=\"train\"):\n",
    "        self.ticker = ticker\n",
    "        self.window = pd.Timedelta(days=WINDOW_SIZE)\n",
    "        assert mode in set([\"train\", \"validation\", \"test\", \"dev\"]), f\"Invalid environment  mode: {mode}\"\n",
    "        self.mode = mode\n",
    "        # Time Series Features\n",
    "        start, end = self.get_time_endpoints(mode)\n",
    "        self.end = end\n",
    "        \n",
    "        self.prices = data.DataReader(ticker, 'yahoo', start=start-12*self.window, end=end+self.window)['Close']\n",
    "        # We compute the mean, and standard deviation of the first WINDOW_SIZE days, and use this to standardize \n",
    "        # the entire time series.\n",
    "        self.mu_hat = self.prices[:WINDOW_SIZE].mean()\n",
    "        self.sigma_hat = self.prices[:WINDOW_SIZE].std()\n",
    "        self.data = pd.DataFrame({'mean' : (self.prices - self.mu_hat) / self.sigma_hat})\n",
    "        self.data['std'] = self.data['mean'].rolling(WINDOW_SIZE).std()\n",
    "        self.data['sharpe'] = self.data['mean'].rolling(WINDOW_SIZE).mean() / self.data['std']\n",
    "        self.short_time = 63\n",
    "        self.long_time = 252\n",
    "        exp_short = self.prices.ewm(span=self.short_time, adjust=False).mean() # ???\n",
    "        exp_long  = self.prices.ewm(span=self.long_time,  adjust=False).mean()  # ???\n",
    "        self.data['q'] = (exp_short - exp_long) / self.prices.rolling(self.short_time).std()\n",
    "        self.data['MACD'] = self.data['q'] / self.data['q'].rolling(self.long_time).std()\n",
    "        \n",
    "        self.df_index = WINDOW_SIZE # to look up current price from self.data, irrespective of the date break due to the weekend\n",
    "        \n",
    "        self.target_volatility = target_volatility\n",
    "        self.returns_list = DEFAULT_REWARDS_LIST.copy()\n",
    "        self.rewards_list = DEFAULT_REWARDS_LIST.copy()\n",
    "        self.actions_list = DEFAULT_ACTIONS_LIST.copy()\n",
    "        self.balance = INITIAL_BALANCE\n",
    "        \n",
    "        \n",
    "    def get_time_endpoints(self, mode):\n",
    "        \"\"\"\n",
    "            Start must be in Monday - Friday\n",
    "        \"\"\"\n",
    "        if mode == \"train\":\n",
    "            return pd.Timestamp('2016-01-04'), pd.Timestamp('2016-12-31')\n",
    "        elif mode == \"dev\":\n",
    "            return pd.Timestamp('2016-01-04'), pd.Timestamp('2016-02-28')\n",
    "        else:\n",
    "            raise NotImplementedError()\n",
    "        \n",
    "    def _get_raw_price(self):\n",
    "        return self.prices[self.df_index]\n",
    "    \n",
    "    def _get_normalized_price(self, diff=0):\n",
    "        return self.data['mean'][self.df_index + diff]\n",
    "        \n",
    "    def _get_current_timestamp(self):\n",
    "        return pd.Timestamp(self.data.index[self.df_index])\n",
    "    \n",
    "    def _get_current_state(self):\n",
    "        state = []\n",
    "        for i in range(WINDOW_SIZE):\n",
    "            n_price = self._get_normalized_price(diff=-i)\n",
    "            state.append(n_price)\n",
    "            \n",
    "            old_price = self._get_normalized_price(diff=-(i + WINDOW_SIZE))\n",
    "            state.append(old_price)\n",
    "            \n",
    "            sharpe_ratio = self.data['sharpe'][self.df_index - i]\n",
    "            state.append(sharpe_ratio)\n",
    "            \n",
    "            # Normalized, Additive Returns from previous WINDOW_SIZE\n",
    "            state.append(n_price - old_price)\n",
    "        return state\n",
    "    \n",
    "    def reset(self):\n",
    "        self.df_index = WINDOW_SIZE\n",
    "        self.returns_list = DEFAULT_REWARDS_LIST.copy()\n",
    "        self.rewards_list = DEFAULT_REWARDS_LIST.copy()\n",
    "        self.actions_list = DEFAULT_ACTIONS_LIST.copy()\n",
    "        return self._get_current_state()\n",
    "    \n",
    "    def seed(self, seed=None):\n",
    "        return\n",
    "    \n",
    "    def close(self):\n",
    "        return\n",
    "    \n",
    "    def _update_portfolio(action):\n",
    "        raise NotImplementedError()\n",
    "        prev_action = self.actions_list[-1]\n",
    "        if prev_action == 0:\n",
    "            if action == 0:\n",
    "                return self.balance\n",
    "            elif action == 1:\n",
    "                return self.balance\n",
    "            elif action == -1:\n",
    "                return self.balance\n",
    "        if prev_action == 1:\n",
    "            if action == 0:\n",
    "                return self.balance\n",
    "            elif action == 1:\n",
    "                return self.balance\n",
    "            elif action == -1:\n",
    "                pass\n",
    "        if prev_action == -1:\n",
    "            if action == 0:\n",
    "                return self.balance\n",
    "            elif action == 1:\n",
    "                return self.balance\n",
    "            elif action == -1:\n",
    "                pass\n",
    "                \n",
    "    def step(self, action):\n",
    "        \"\"\"\n",
    "            Executes an action in the stock environment, using \n",
    "            the discrete action space described in: Deep Reinforcement Learning for Trading\n",
    "            \n",
    "            i.e. -1 is maximally short, 0 is no holdings, 1 is maximally long\n",
    "            Inputs: action (one of {-1,0,1})\n",
    "            Outputs: a tuple (observation/state, step_reward, is_done, info)\n",
    "        \"\"\"\n",
    "        \n",
    "        next_price = self._get_normalized_price(diff=1)\n",
    "        price = self._get_normalized_price()\n",
    "        r = next_price - price\n",
    "        mu = 1\n",
    "        \n",
    "        sigma = self.data['std'][self.df_index - 1] \n",
    "        sigma_prev = self.data['std'][self.df_index - 2]\n",
    "       \n",
    "        term1 = action * self.target_volatility * r / sigma\n",
    "        prev_action = self.actions_list[-1]\n",
    "        term2 = price * TRANSACTION_COST * np.abs(term1 - self.target_volatility * prev_action / sigma_prev)\n",
    "        R = mu*(term1 - term2)\n",
    "        \n",
    "        self.rewards_list.append(R)\n",
    "        self.actions_list.append(action)\n",
    "        self.df_index += 1\n",
    "        return self._get_current_state(), R, self._get_current_timestamp() > self.end, {}\n"
   ]
  },
  {
   "cell_type": "code",
   "execution_count": 133,
   "metadata": {},
   "outputs": [
    {
     "data": {
      "text/plain": [
       "240"
      ]
     },
     "execution_count": 133,
     "metadata": {},
     "output_type": "execute_result"
    }
   ],
   "source": [
    "\n",
    "env = TradingEnv()\n",
    "len(env.reset())\n",
    "# _ = env.step(1)\n",
    "# assert len(env.prices) == len(env.data['mean'])\n"
   ]
  },
  {
   "cell_type": "code",
   "execution_count": 131,
   "metadata": {},
   "outputs": [
    {
     "data": {
      "text/plain": [
       "Index(['mean', 'std', 'sharpe', 'q', 'MACD'], dtype='object')"
      ]
     },
     "execution_count": 131,
     "metadata": {},
     "output_type": "execute_result"
    }
   ],
   "source": [
    "env.data.columns"
   ]
  },
  {
   "cell_type": "code",
   "execution_count": 121,
   "metadata": {},
   "outputs": [
    {
     "data": {
      "text/plain": [
       "788"
      ]
     },
     "execution_count": 121,
     "metadata": {},
     "output_type": "execute_result"
    }
   ],
   "source": [
    "len(env.prices)"
   ]
  },
  {
   "cell_type": "code",
   "execution_count": 6,
   "metadata": {},
   "outputs": [],
   "source": [
    "def basic_loop_test(t):\n",
    "    env = TradingEnv(ticker=t)\n",
    "    state = env.reset()\n",
    "    done = False\n",
    "#     np.random.seed(885)\n",
    "#     while not done:\n",
    "#     # for i in range(14):\n",
    "#         action = np.random.randint(low=-1, high=2)\n",
    "#         next_state, r, done, _ = env.step(action)\n",
    "#         assert len(state) == len(next_state)\n",
    "\n",
    "#     plt.plot(env.rewards_list)\n",
    "#     plt.title(f'Reward vs. Time for {t}')\n",
    "#     plt.show()"
   ]
  },
  {
   "cell_type": "code",
   "execution_count": 7,
   "metadata": {},
   "outputs": [],
   "source": [
    "basic_loop_test('AAPL')"
   ]
  },
  {
   "cell_type": "code",
   "execution_count": 8,
   "metadata": {},
   "outputs": [],
   "source": [
    "ticker_list = []\n",
    "with open('./small_stock_name.txt') as src:\n",
    "    ticker_list = src.read().split()"
   ]
  },
  {
   "cell_type": "code",
   "execution_count": 9,
   "metadata": {},
   "outputs": [
    {
     "data": {
      "text/plain": [
       "82"
      ]
     },
     "execution_count": 9,
     "metadata": {},
     "output_type": "execute_result"
    }
   ],
   "source": [
    "len(ticker_list)"
   ]
  },
  {
   "cell_type": "code",
   "execution_count": 10,
   "metadata": {
    "collapsed": true,
    "jupyter": {
     "outputs_hidden": true
    }
   },
   "outputs": [
    {
     "name": "stderr",
     "output_type": "stream",
     "text": [
      "18it [00:11,  1.66it/s]"
     ]
    },
    {
     "name": "stdout",
     "output_type": "stream",
     "text": [
      "CELG failed\n"
     ]
    },
    {
     "name": "stderr",
     "output_type": "stream",
     "text": [
      "24it [00:15,  1.54it/s]"
     ]
    },
    {
     "name": "stdout",
     "output_type": "stream",
     "text": [
      "CTRP failed\n"
     ]
    },
    {
     "name": "stderr",
     "output_type": "stream",
     "text": [
      "35it [00:23,  1.86it/s]"
     ]
    },
    {
     "name": "stdout",
     "output_type": "stream",
     "text": [
      "FOX failed\n"
     ]
    },
    {
     "name": "stderr",
     "output_type": "stream",
     "text": [
      "36it [00:23,  2.07it/s]"
     ]
    },
    {
     "name": "stdout",
     "output_type": "stream",
     "text": [
      "FOXA failed\n"
     ]
    },
    {
     "name": "stderr",
     "output_type": "stream",
     "text": [
      "62it [00:41,  1.72it/s]"
     ]
    },
    {
     "name": "stdout",
     "output_type": "stream",
     "text": [
      "QVCA failed\n"
     ]
    },
    {
     "name": "stderr",
     "output_type": "stream",
     "text": [
      "68it [00:44,  1.61it/s]"
     ]
    },
    {
     "name": "stdout",
     "output_type": "stream",
     "text": [
      "SYMC failed\n"
     ]
    },
    {
     "name": "stderr",
     "output_type": "stream",
     "text": [
      "74it [00:47,  1.87it/s]"
     ]
    },
    {
     "name": "stdout",
     "output_type": "stream",
     "text": [
      "VIAB failed\n"
     ]
    },
    {
     "name": "stderr",
     "output_type": "stream",
     "text": [
      "79it [00:50,  1.89it/s]"
     ]
    },
    {
     "name": "stdout",
     "output_type": "stream",
     "text": [
      "WFM failed\n"
     ]
    },
    {
     "name": "stderr",
     "output_type": "stream",
     "text": [
      "81it [00:52,  1.66it/s]"
     ]
    },
    {
     "name": "stdout",
     "output_type": "stream",
     "text": [
      "YHOO failed\n"
     ]
    },
    {
     "name": "stderr",
     "output_type": "stream",
     "text": [
      "82it [00:52,  1.56it/s]"
     ]
    },
    {
     "name": "stdout",
     "output_type": "stream",
     "text": [
      "\n",
      "Tickers preserved: 73 / 82\n"
     ]
    },
    {
     "name": "stderr",
     "output_type": "stream",
     "text": [
      "\n"
     ]
    }
   ],
   "source": [
    "from tqdm import tqdm\n",
    "filtered_tickers = []\n",
    "for i, t in tqdm(enumerate(ticker_list)):\n",
    "    try:\n",
    "        basic_loop_test(t)\n",
    "        filtered_tickers.append(t)\n",
    "    except:\n",
    "        print(f'{t} failed')\n",
    "        continue\n",
    "print(f'\\nTickers preserved: {len(filtered_tickers)} / {len(ticker_list)}')\n",
    "assert len(filtered_tickers) > 0"
   ]
  },
  {
   "cell_type": "code",
   "execution_count": 11,
   "metadata": {},
   "outputs": [
    {
     "data": {
      "text/plain": [
       "{'CELG', 'CTRP', 'FOX', 'FOXA', 'QVCA', 'SYMC', 'VIAB', 'WFM', 'YHOO'}"
      ]
     },
     "execution_count": 11,
     "metadata": {},
     "output_type": "execute_result"
    }
   ],
   "source": [
    "set(ticker_list) - set(filtered_tickers)"
   ]
  },
  {
   "cell_type": "code",
   "execution_count": 15,
   "metadata": {},
   "outputs": [
    {
     "ename": "NotImplementedError",
     "evalue": "data_source='morningstar' is not implemented",
     "output_type": "error",
     "traceback": [
      "\u001b[0;31m--------------------------------------------------------------------------\u001b[0m",
      "\u001b[0;31mNotImplementedError\u001b[0m                      Traceback (most recent call last)",
      "\u001b[0;32m<ipython-input-15-f9e7657123d2>\u001b[0m in \u001b[0;36m<module>\u001b[0;34m\u001b[0m\n\u001b[0;32m----> 1\u001b[0;31m \u001b[0mdata\u001b[0m\u001b[0;34m.\u001b[0m\u001b[0mDataReader\u001b[0m\u001b[0;34m(\u001b[0m\u001b[0;34m'celg'\u001b[0m\u001b[0;34m,\u001b[0m \u001b[0;34m'morningstar'\u001b[0m\u001b[0;34m)\u001b[0m\u001b[0;34m\u001b[0m\u001b[0;34m\u001b[0m\u001b[0m\n\u001b[0m",
      "\u001b[0;32m~/miniconda3/lib/python3.7/site-packages/pandas/util/_decorators.py\u001b[0m in \u001b[0;36mwrapper\u001b[0;34m(*args, **kwargs)\u001b[0m\n\u001b[1;32m    212\u001b[0m                 \u001b[0;32melse\u001b[0m\u001b[0;34m:\u001b[0m\u001b[0;34m\u001b[0m\u001b[0;34m\u001b[0m\u001b[0m\n\u001b[1;32m    213\u001b[0m                     \u001b[0mkwargs\u001b[0m\u001b[0;34m[\u001b[0m\u001b[0mnew_arg_name\u001b[0m\u001b[0;34m]\u001b[0m \u001b[0;34m=\u001b[0m \u001b[0mnew_arg_value\u001b[0m\u001b[0;34m\u001b[0m\u001b[0;34m\u001b[0m\u001b[0m\n\u001b[0;32m--> 214\u001b[0;31m             \u001b[0;32mreturn\u001b[0m \u001b[0mfunc\u001b[0m\u001b[0;34m(\u001b[0m\u001b[0;34m*\u001b[0m\u001b[0margs\u001b[0m\u001b[0;34m,\u001b[0m \u001b[0;34m**\u001b[0m\u001b[0mkwargs\u001b[0m\u001b[0;34m)\u001b[0m\u001b[0;34m\u001b[0m\u001b[0;34m\u001b[0m\u001b[0m\n\u001b[0m\u001b[1;32m    215\u001b[0m \u001b[0;34m\u001b[0m\u001b[0m\n\u001b[1;32m    216\u001b[0m         \u001b[0;32mreturn\u001b[0m \u001b[0mcast\u001b[0m\u001b[0;34m(\u001b[0m\u001b[0mF\u001b[0m\u001b[0;34m,\u001b[0m \u001b[0mwrapper\u001b[0m\u001b[0;34m)\u001b[0m\u001b[0;34m\u001b[0m\u001b[0;34m\u001b[0m\u001b[0m\n",
      "\u001b[0;32m~/miniconda3/lib/python3.7/site-packages/pandas_datareader/data.py\u001b[0m in \u001b[0;36mDataReader\u001b[0;34m(name, data_source, start, end, retry_count, pause, session, api_key)\u001b[0m\n\u001b[1;32m    374\u001b[0m     \u001b[0;32mif\u001b[0m \u001b[0mdata_source\u001b[0m \u001b[0;32mnot\u001b[0m \u001b[0;32min\u001b[0m \u001b[0mexpected_source\u001b[0m\u001b[0;34m:\u001b[0m\u001b[0;34m\u001b[0m\u001b[0;34m\u001b[0m\u001b[0m\n\u001b[1;32m    375\u001b[0m         \u001b[0mmsg\u001b[0m \u001b[0;34m=\u001b[0m \u001b[0;34m\"data_source=%r is not implemented\"\u001b[0m \u001b[0;34m%\u001b[0m \u001b[0mdata_source\u001b[0m\u001b[0;34m\u001b[0m\u001b[0;34m\u001b[0m\u001b[0m\n\u001b[0;32m--> 376\u001b[0;31m         \u001b[0;32mraise\u001b[0m \u001b[0mNotImplementedError\u001b[0m\u001b[0;34m(\u001b[0m\u001b[0mmsg\u001b[0m\u001b[0;34m)\u001b[0m\u001b[0;34m\u001b[0m\u001b[0;34m\u001b[0m\u001b[0m\n\u001b[0m\u001b[1;32m    377\u001b[0m \u001b[0;34m\u001b[0m\u001b[0m\n\u001b[1;32m    378\u001b[0m     \u001b[0;32mif\u001b[0m \u001b[0mdata_source\u001b[0m \u001b[0;34m==\u001b[0m \u001b[0;34m\"yahoo\"\u001b[0m\u001b[0;34m:\u001b[0m\u001b[0;34m\u001b[0m\u001b[0;34m\u001b[0m\u001b[0m\n",
      "\u001b[0;31mNotImplementedError\u001b[0m: data_source='morningstar' is not implemented"
     ]
    }
   ],
   "source": [
    "data.DataReader('celg', 'morningstar')"
   ]
  },
  {
   "cell_type": "code",
   "execution_count": null,
   "metadata": {},
   "outputs": [],
   "source": []
  }
 ],
 "metadata": {
  "kernelspec": {
   "display_name": "Python 3",
   "language": "python",
   "name": "python3"
  },
  "language_info": {
   "codemirror_mode": {
    "name": "ipython",
    "version": 3
   },
   "file_extension": ".py",
   "mimetype": "text/x-python",
   "name": "python",
   "nbconvert_exporter": "python",
   "pygments_lexer": "ipython3",
   "version": "3.7.6"
  }
 },
 "nbformat": 4,
 "nbformat_minor": 4
}
